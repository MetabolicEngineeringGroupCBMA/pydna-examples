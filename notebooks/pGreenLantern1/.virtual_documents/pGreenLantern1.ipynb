


# NBVAL_SKIP
from IPython.display import IFrame
IFrame('https://www.ncbi.nlm.nih.gov/pmc/articles/PMC190401', width="100%", height=500)





from pydna.genbank import Genbank
from pydna.parsers import parse_primers
from pydna.amplify import pcr
from pydna.readers import read
from pydna.gel     import gel





gb = Genbank("bjornjobb@gmail.com")


humanized_gfp_gene = gb.nucleotide('U50963')





up, dp = parse_primers('''
>upstream_primer
TGCTCTAGAGCGGCCGCCGCCACCATGAGCAAGGGCGAGGAACTG
>downstream_primer
CGGAAGCTTGCGGCCGCTCACTTGTACAGCTCGTCCAT''')


humanized_gfp_product = pcr(up, dp, humanized_gfp_gene)


humanized_gfp_product


humanized_gfp_product.figure()





from Bio.Restriction import XbaI, HindIII


stuffer, gene_fragment, stuffer = humanized_gfp_product.cut(XbaI, HindIII)


gene_fragment





gene_fragment.seq





pBSplus = gb.nucleotide("L08783")


stuffer, pBS_lin = pBSplus.cut(XbaI, HindIII)
stuffer, pBS_lin





pBS_GFPH1 = (pBS_lin+gene_fragment).looped()





pBS_GFPH1








import requests
from lxml import html
r = requests.get('https://www.addgene.org/13744/sequences/')
tree = html.fromstring(r.text)
rawdata_addgene_full_sequence = tree.xpath(".//*[@id='depositor-full']")
pGL_MLKif3B = read( rawdata_addgene_full_sequence[0].text_content() ).looped()
rawdata_addgene_partial_sequence = tree.xpath(".//*[@id='addgene-partial']")
pGL_MLKif3B_partial = read( rawdata_addgene_partial_sequence[0].text_content() )
assert len(pGL_MLKif3B) == 6210





pGL_MLKif3B





from Bio.Restriction import NotI


Kif3b_GFP, pGL_backbone = pGL_MLKif3B.cut(NotI)
Kif3b_GFP, pGL_backbone








humanized_gfp_NotI_frag, pBS_bb = pBS_GFPH1.cut(NotI)
humanized_gfp_NotI_frag, pBS_bb 





pGreenLantern1 = (pGL_backbone + humanized_gfp_NotI_frag).looped()





pGreenLantern1


pGreenLantern1.locus="pGreenLantern1"





pGreenLantern1.write("pGreenLantern1.gb")





from IPython.display import Image
Image("https://patentimages.storage.googleapis.com/US6638732B1/US06638732-20031028-D00005.png", width=300)





Image("plasMap203_1479761881670.png", width=600)





from Bio.Restriction import NdeI


fragments = pGreenLantern1.cut(NdeI)


fragments


from pydna.ladders import PennStateLadder


# NBVAL_SKIP
display(gel([PennStateLadder, fragments]))



