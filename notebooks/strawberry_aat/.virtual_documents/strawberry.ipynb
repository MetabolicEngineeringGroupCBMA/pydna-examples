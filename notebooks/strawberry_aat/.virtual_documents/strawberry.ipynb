


# Import the pydna package functions
from pydna.all import *


# Give your email address to Genbank, so they can contact you.
# This is a requirement for using their services
gb=Genbank("bjornjobb@gmail.com")
# download the SAAT CDS from Genbank
# We know from inspecting the 
saat = gb.nucleotide("AF193791 REGION: 78..1895")


# The representation of the saat Dseqrecord object contains a link to Genbank
saat


# design two new primers for SAAT
saat_amplicon = primer_design(saat)


fw="aa"+saat_amplicon.forward_primer
rv=saat_amplicon.reverse_primer


# We can set the primer identities to something descriptive
fw.id, rv.id = "fw_saat_cds", "rv_saat_cds"


saat_pcr_prod = pcr(fw,rv, saat)


# The result is an object of the Amplicon class 
saat_pcr_prod 


# The object has several useful methods like .figure() 
# which shows how the primers anneal 
saat_pcr_prod.figure()


# read the cloning vector from a local file
pYPKa=read("pYPKa.gb")


# This is a GenbankFile object, its representation include a link to the local file:
pYPKa


# import the restriction enzyme AjiI from Biopython
from Bio.Restriction import AjiI


# cut the vector with the .linearize method. This will give an error is more than one 
# fragment is formed
pYPKa_AjiI = pYPKa.linearize(AjiI)


# The result from the digestion is a linear Dseqrecord object
pYPKa_AjiI


# clone the PCR product by adding the linearized vector to the insert
# and close it using the .looped() method.
pYPKa_A_saat = ( pYPKa_AjiI + saat_pcr_prod ).looped()
pYPKa_A_saat


# read promoter vector from a local file
pYPKa_Z_prom = read("pYPKa_Z_TEF1.gb")
# read terminator vector from a local file
pYPKa_E_term = read("pYPKa_E_TPI1.gb")


pYPKa_Z_prom


pYPKa_E_term


[pYPKa_Z_prom,pYPKa_Z_prom]





# Standard primers
p567,p577,p468,p467,p568,p578  =  parse_primers('''

>567_pCAPsAjiIF (23-mer)
GTcggctgcaggtcactagtgag
>577_crp585-557 (29-mer)
gttctgatcctcgagcatcttaagaattc

>468_pCAPs_release_fw (25-mer)
gtcgaggaacgccaggttgcccact
>467_pCAPs_release_re (31-mer) 
ATTTAAatcctgatgcgtttgtctgcacaga

>568_pCAPsAjiIR (22-mer) 
GTGCcatctgtgcagacaaacg
>578_crp42-70 (29-mer)
gttcttgtctcattgccacattcataagt''')


p567


# Promoter amplified using p577 and p567
p = pcr(p577, p567, pYPKa_Z_prom)


# Gene amplified using p468 and p467
g = pcr(p468, p467, pYPKa_A_saat)


# Terminator amplified using p568 and p578
t = pcr(p568, p578, pYPKa_E_term)


# Yeast backbone vector read from a local file
pYPKpw = read("pYPKpw.gb")


from Bio.Restriction import ZraI


# Vector linearized with ZraI
pYPKpw_lin = pYPKpw.linearize(ZraI)


# Assembly simulation between four linear DNA fragments:
# plasmid, promoter, gene and terminator
# Only one circular product is formed (8769 bp)
asm = Assembly( (pYPKpw_lin, p, g, t) )


asm


# Inspect the only circular product
candidate = asm.assemble_circular()[0]
candidate.figure()


# Synchronize vectors
pYPK0_TDH3_FaPDC_TEF1 = candidate.synced(pYPKa)


# Write new vector to local file
pYPK0_TDH3_FaPDC_TEF1.write("pYPK0_TDH3_FaPDC_TPI1.gb")





from Bio.Restriction import PvuI


from pydna.gel import gel
from pydna.ladders import PennStateLadder

, [pYPK0_TDH3_FaPDC_TEF1],[]


gel([PennStateLadder, pYPKpw.cut(PvuI), pYPK0_TDH3_FaPDC_TEF1.cut(PvuI)])



