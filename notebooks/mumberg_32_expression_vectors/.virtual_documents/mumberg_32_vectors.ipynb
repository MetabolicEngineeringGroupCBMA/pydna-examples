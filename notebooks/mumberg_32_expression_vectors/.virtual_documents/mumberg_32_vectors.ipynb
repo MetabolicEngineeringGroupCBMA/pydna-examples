


from pydna.genbank import Genbank
from pydna.dseqrecord import Dseqrecord

gb = Genbank("bjornjobb@gmail.com")

# The DNA fragments below were obtained from Saccharomyces Genome Database
# www.sgd.org


cyc1term =       Dseqrecord("ctcgagtcatgtaattagttatgtcacgcttacattcacgccctccccccacat"
                            "ccgctctaaccgaaaaggaaggagttagacaacctgaagtctaggtccctattt"
                            "atttttttatagttatgttagtattaagaacgttatttatatttcaaatttttc"
                            "ttttttttctgtacagacgcgtgtacgcatgtaacattatactgaaaaccttgc"
                            "ttgagaaggttttgggacgctcgaaggctttaatttgcggccggtaccn")

tefprom =       Dseqrecord("gagctcatagcttcaaaatgtttctactccttttttactcttccagattttctcgga"
                           "ctccgcgcatcgccgtaccacttcaaaacacccaagcacagcatactaaatttcccc"
                           "tctttcttcctctagggtgtcgttaattacccgtactaaaggtttggaaaagaaaaa"
                           "agagaccgcctcgtttctttttcttcgtcgaaaaaggcaataaaaatttttatcacg"
                           "tttctttttcttgaaaattttttttttgatttttttctctttcgatgacctcccatt"
                           "gatatttaagttaataaacggtcttcaatttctcaagtttcagtttcatttttcttg"
                           "ttctattacaactttttttacttcttgctcattagaaagaaagcatagcaatctaat"
                           "ctaagttttctaga")

cycprom =       Dseqrecord("gagctcatttggcgagcgttggttggtggatcaagcccacgcgtaggcaatcctcga"
                           "gcagatccgccaggcgtgtatatatagcgtggatggccaggcaactttagtgctgac"
                           "acatacaggcatatatatatgtgtgcgacgacacatgatcatatggcatgcatgtgc"
                           "tctgtatgtatataaaactcttgttttcttcttttctctaaatattctttccttata"
                           "cattaggacctttgcagcataaattactatacttctatagacacgcaaacacaaata"
                           "cacacactaatctaga")

adhprom =       Dseqrecord("gagctcTAAAACAAGAAGAGGGTTGACTACATCACGATGAGGGGGATCGAAGAAATG"
                           "ATGGTAAATGAAATAGGAAATCAAGGAGCATGAAGGCAAAAGACAAATATAAGGGTC"
                           "GAACGAAAAATAAAGTGAAAAGTGTTGATATGATGTATTTGGCTTTGCGGCGCCGAA"
                           "AAAACGAGTTTACGCAATTGCACAATCATGCTGACTCTGTGGCGGACCCGCGCTCTT"
                           "GCCGGCCCGGCGATAACGCTGGGCGTGAGGCTGTGCCCGGCGGAGTTTTTTGCGCCT"
                           "GCATTTTCCAAGGTTTACCCTGCGCTAAGGGGCGAGATTGGAGAAGCAATAAGAATG"
                           "CCGGTTGGGGTTGCGATGATGACGACCACGACAACTGGTGTCATTATTTAAGTTGCC"
                           "GAAAGAACCTGAGTGCATTTGCAACATGAGTATACTAGAAGAATGAGCCAAGACTTG"
                           "CGAGACGCGAGTTTGCCGGTGGTGCGAACAATAGAGCGACCATGACCTTGAAGGTGA"
                           "GACGCGCATAACCGCTAGAGTACTTTGAAGAGGAAACAGCAATAGGGTTGCTACCAG"
                           "TATAAATAGACAGGTACATACAACACTGGAAATGGTTGTCTGTTTGAGTACGCTTTC"
                           "AATTCATTTGGGTGTGCACTTTATTATGTTACAATATGGAAGGGAACTTTACACTTC"
                           "TCCTATGCACATATATTAATTAAAGTCCAATGCTAGTAGAGAAGGGGGGTAACACCC"
                           "CTCCGCGCTCTTTTCCGATTTTTTTCTAAACCGTGGAATATTTCGGATATCCTTTTG"
                           "TTGTTTCCGGGTGTACAATATGGACTTCCTCTTTTCTGGCAACCAAACCCATACATC"
                           "GGGATTCCTATAATACCTTCGTTGGTCTCCCTAACATGTAGGTGGCGGAGGGGAGAT"
                           "ATACAATAGAACAGATACCAGACAAGACATAATGGGCTAAACAAGACTACACCAATT"
                           "ACACTGCCTCATTGATGGTGGTACATAACGAACTAATACTGTAGCCCTAGACTTGAT"
                           "AGCCATCATCATATCGAAGTTTCACTACCCTTTTTCCATTTGCCATCTATTGAAGTA"
                           "ATAATAGGCGCATGCAACTTCTTTTCTTTTTTTTTCTTTTCTCTCTCCCCCGTTGTT"
                           "GTCTCACCATATCCGCAATGACAAAAAAATGATGGAAGACACTAAAGGAAAAAATTA"
                           "ACGACAAAGACAGCACCAACAGATGTCGTTGTTCCAGAGCTGATGAGGGGTATCTCG"
                           "AAGCACACGAAACTTTTTCCTTCCTTCATTCACGCACACTACTCTCTAATGAGCAAC"
                           "GGTATACGGCCTTCCTTCCAGTTACTTGAATTTGAAATAAAAAAAAGTTTGCTGTCT"
                           "TGCTATCAAGTATAAATAGACCTGCAATTATTAATCTTTTGTTTCCTCGTCATTGTT"
                           "CTCGTTCCCTTTCTTCCTTGTTTCTTTTTCTGCACAATATTTCAAGCTATACCAAGC"
                           "ATACAATCAACTATCTCATATACAtctaga")

gpdprom =       Dseqrecord("gagctcagtttatcattatcaatactcgccatttcaaagaatacgtaaataattaat"
                           "agtagtgattttcctaactttatttagtcaaaaaattagccttttaattctgctgta"
                           "acccgtacatgcccaaaatagggggcgggttacacagaatatataacatcgtaggtg"
                           "tctgggtgaacagtttattcctggcatccactaaatataatggagcccgctttttaa"
                           "gctggcatccagaaaaaaaaagaatcccagcaccaaaatattgttttcttcaccaac"
                           "catcagttcataggtccattctcttagcgcaactacagagaacaggggcacaaacag"
                           "gcaaaaaacgggcacaacctcaatggagtgatgcaacctgcctggagtaaatgatga"
                           "cacaaggcaattgacccacgcatgtatctatctcattttcttacaccttctattacc"
                           "ttctgctctctctgatttggaaaaagctgaaaaaaaaggttgaaaccagttccctga"
                           "aattattcccctacttgactaataagtatataaagacggtaggtattgattgtaatt"
                           "ctgtaaatctatttcttaaacttcttaaattctacttttatagttagtctttttttt"
                           "agttttaaaacaccagaacttagtttcgacggattctaga")


from Bio.Restriction import XhoI, KpnI, SacI, XbaI

# The Mumberg vectors depend on these pRS plasmids

pRS413 = gb.nucleotide("U03447")
pRS414 = gb.nucleotide("U03448")
pRS415 = gb.nucleotide("U03449")
pRS416 = gb.nucleotide("U03450")

pRS423 = gb.nucleotide("U03454")
pRS424 = gb.nucleotide("U03453")
pRS425 = gb.nucleotide("U03452")
pRS426 = gb.nucleotide("U03451")


[ pRS413, pRS414, pRS415, pRS416, pRS423, pRS424, pRS425, pRS426]


# The CYC1 terminator was cloned in pRS416 using XhoI and KpnI

p416cyc1term = ( pRS416.cut(XhoI, KpnI)[1].rc() + cyc1term.cut(XhoI, KpnI)[1] ).looped()


# The p416cyc1term was opened using SacI and XbaI

stuffer, bb = p416cyc1term.cut(SacI, XbaI)


stuffer, bb


# Each promoter was cloned in front of the CYC1 terminator

p416GPD = ( bb + gpdprom.cut(SacI, XbaI)[1] ).looped().synced("gacgaaagggcctcgtgatacgccta")
p416TEF = ( bb + tefprom.cut(SacI, XbaI)[1] ).looped().synced("gacgaaagggcctcgtgatacgccta")
p416ADH = ( bb + adhprom.cut(SacI, XbaI)[1] ).looped().synced("gacgaaagggcctcgtgatacgccta")
p416CYC = ( bb + cycprom.cut(SacI, XbaI)[1] ).looped().synced("gacgaaagggcctcgtgatacgccta")


# Write the first four plasmids to files 

p416GPD.write("p416GPD.gb")


p416TEF.write("p416TEF.gb")


p416ADH.write("p416ADH.gb")


p416CYC.write("p416CYC.gb")


# cut out each type of promoter

gpdcyc  = p416GPD.cut(SacI, KpnI)[0]
gpdcyc.name = "GPD"
tefcyc  = p416TEF.cut(SacI, KpnI)[0]
tefcyc.name = "TEF"
adhcyc  = p416ADH.cut(SacI, KpnI)[0]
adhcyc.name = "ADH"
cyccyc  = p416CYC.cut(SacI, KpnI)[0]
cyccyc.name = "CYC"


import os
from IPython.display import FileLink
from pydna.dseqrecord import Dseqrecord

cassettes = [ gpdcyc, tefcyc, adhcyc, cyccyc ]
pRS       = [ pRS413, pRS423, pRS414, pRS424, pRS415, pRS425, pRS426 ]
             
for cassette in cassettes:    
    for v in pRS:
        new_name = "p{no}{prom}.gb".format(no = v.name[3:], prom = cassette.name)
        vsac = v.linearize(SacI)
        *a,c = vsac.cut(KpnI)
        bb=Dseqrecord("")
        for x in a:
            bb+=x
        pl = (bb + cassette.rc()).looped().synced("gacgaaagggcctcgtgatacgccta")
        
        pl.locus = new_name[:-3]
        pl.definition = ""
        pl.accession  = pl.locus 
        pl.stamp()
        
        pl.write( new_name)
    print()


# download four of the sequences available from genbank

p416GPD_genbank = gb.nucleotide("DQ269148")
p426GPD_genbank = gb.nucleotide("DQ019861").looped() # This Genbank record is linear, should be circular.
p416TEF_genbank = gb.nucleotide("EF210199")
p416CYC_genbank = gb.nucleotide("EF210198")


p416GPD_genbank


p426GPD_genbank


p416TEF_genbank


p416CYC_genbank


from pydna.utils import eq
from pydna.readers import read


# verify that the sequences made here and the ones 
# available from genbank are equivalent

assert eq(p416GPD_genbank, p416GPD)
assert eq(p416TEF_genbank, p416TEF)
assert eq(p416CYC_genbank, p416CYC)
assert eq(p426GPD_genbank, read("p426GPD.gb"))





table = """
Plas Mark XbaI SpeI BamHI SmaI PstI EcoRI EcoRV HindIII ClaI SalI XhoI

p413 HIS3 XbaI SpeI BamHI SmaI -    EcoRI EcoRV -       ClaI SalI XhoI
p414 TRP1 XbaI SpeI BamHI SmaI PstI EcoRI -     -       ClaI SalI XhoI
p415 LEU2 XbaI SpeI BamHI SmaI PstI -     -     HindIII -    SalI XhoI
p416 URA3 XbaI SpeI BamHI SmaI -    EcoRI -     HindIII ClaI SalI XhoI

p423 HIS3 -    SpeI BamHI SmaI -    EcoRI EcoRV -       ClaI SalI XhoI
p424 TRP1 -    SpeI BamHI SmaI PstI EcoRI -     -       ClaI SalI XhoI
p425 LEU2 -    SpeI BamHI SmaI PstI -     -     HindIII -    SalI XhoI
p426 URA3 -    SpeI BamHI SmaI -    EcoRI -     HindIII ClaI SalI XhoI
"""
