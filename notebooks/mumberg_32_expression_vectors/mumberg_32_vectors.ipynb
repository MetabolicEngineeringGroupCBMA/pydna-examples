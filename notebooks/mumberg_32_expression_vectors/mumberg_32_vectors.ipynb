{
 "cells": [
  {
   "cell_type": "markdown",
   "metadata": {},
   "source": [
    "# Mumberg 32 expression vectors\n",
    "\n",
    "This pydna notebook automatically assembles the sequences of the 32 expression \n",
    "vectors described in:\n",
    "\n",
    "[Mumberg,D., Müller,R. and Funk,M. (1995) Yeast vectors for the controlled \n",
    "expression of heterologous proteins in different genetic backgrounds. \n",
    "Gene, 156, 119–122.](http://www.sciencedirect.com/science/article/pii/0378111995000377)\n",
    "\n",
    "\n",
    "These plasmids were made from the pRS series of yeast vectors.\n",
    "\n",
    "a XhoI - KpnI fragment of the ScCYC1 terminator was cloned using the same sites in pRS416 resulting in p416CYC1t\n",
    "\n",
    "PCR generated SacI - XbaI promoter fragments of  ScTDH3pr, ScTEF1pr, ScADH1pr and ScCYC1pr promoters were cloned using the same sites resulting in:\n",
    "\n",
    "    p416GPD sequenced SacI,XbaI,XhoI,KpnI are unique\n",
    "    p416TEF sequenced SacI,XbaI,XhoI,KpnI are unique\n",
    "    p416ADH\n",
    "    p416CYC sequenced SacI,XbaI,KpnI are unique\n",
    "\n",
    "The SacI - KpnI promoter-terminator fragment was transferred to other pRS vectors using a strategy that is undisclosed in the paper. \n",
    "\n",
    "    ScTDH3pr-ScCYC1t\n",
    "    ScTEF1pr-ScCYC1t\n",
    "    ScADH1pr-ScCYC1t\n",
    "    ScCYC1pr-ScCYC1t\n",
    "\n",
    "Probably SacI - KpnI were used. In the case of pRS423 and pRS425, there are two KpnI sites, so maybe a partial cut was used?\n",
    "\n",
    "                            this part is the opposite direction in the paper (this version here is correct!)\n",
    "                               <--------------->\n",
    "    mcs:\n",
    "         7 SpeI      19 SmaI     31 EcoRI    43 HindIII           64 XhoI\n",
    "    1 XbaI      13 BamHI    25 PstI     37 EcoRV    49 ClaI  58 SalI\n",
    "    |     |     |     |     |     |     |     |     |        |     |     \n",
    "    TCTAGAACTAGTGGATCCCCCGGGCTGCAGGAATTCGATATCAAGCTTATCGATACCGTCGACCTCGAG\n",
    "    TCTAGAACTAGTGGATCCCCCGGGCTGCAGC...|\n",
    "                              ---------\n",
    "                              |...GAATTCGATATCAAGCTTATCGATACCGTCG\t\t\t    \n",
    "\t\t\n",
    "\n",
    "\t\t\t\t\t\t\t\t\t\t\t\t\t   \n",
    "    TCTAGAACTAGTGGATCCCCCGGGCTGCAGAatggttttcggtaacaggca\n",
    "\n",
    "           ccgttcggtctttagatagttaaGAATTCGATATCAAGCTTATCGATACCGTCGACCTCGAG\n",
    "\n",
    "    >primerfw\n",
    "    TCTAGAACTAGTGGATCCCCCGGGCTGCAGA...\n",
    "    >primerrev\n",
    "    CGACGGTATCGATAAGCTTGATATCGAATTC...\n",
    "\n",
    "                XbaI SpeI BamHI SmaI PstI EcoRI EcoRV HindIII ClaI SalI XhoI\n",
    "\n",
    "    p413 HIS3   XbaI SpeI BamHI SmaI      EcoRI EcoRV         ClaI SalI XhoI\n",
    "    p414 TRP1   XbaI SpeI BamHI SmaI PstI EcoRI               ClaI SalI XhoI\n",
    "    p415 LEU2   XbaI SpeI BamHI SmaI PstI             HindIII      SalI XhoI\n",
    "    p416 URA3   XbaI SpeI BamHI SmaI      EcoRI       HindIII ClaI SalI XhoI\n",
    "\n",
    "    p423 HIS3        SpeI BamHI SmaI      EcoRI EcoRV         ClaI SalI XhoI\n",
    "    p424 TRP1        SpeI BamHI SmaI PstI EcoRI               ClaI SalI XhoI\n",
    "    p425 LEU2        SpeI BamHI SmaI PstI             HindIII      SalI XhoI\n",
    "    p426 URA3        SpeI BamHI SmaI      EcoRI       HindIII ClaI SalI XhoI\n",
    "\n",
    "XbaI only unique in   p41XXXX (All centromeric vectors, but no episomal vectors)\n",
    "XhoI is not unique in p4XXCYC1 (any vector with ScCYC1 promoter)\n",
    "\n",
    "    M#  vector\t\t\tori         marker\n",
    "    --  -------  \n",
    "    M1\tp413GPD         CEN6/ARSH4 \tHIS3\n",
    "    M2\tp423GPD \t\t2 um\t\tHIS3\n",
    "    M3\tp414GPD \t\tCEN6/ARSH4 \tTRP1\n",
    "    M4\tp424GPD \t\t2 um\t\tTRP1\n",
    "    M5\tp415GPD \t\tCEN6/ARSH4 \tLEU2\n",
    "    M6\tp425GPD \t\t2 um\t\tLEU2\n",
    "    M7\tp416GPD \t\tCEN6/ARSH4 \tURA3 http://www.ncbi.nlm.nih.gov/nuccore/82548122\n",
    "    M8\tp426GPD \t\t2 um\t\tURA3 http://www.ncbi.nlm.nih.gov/nuccore/76496266\n",
    "    M9\tp413TEF \t\tCEN6/ARSH4 \tHIS3\n",
    "    M10\tp423TEF \t\t2 um\t\tHIS3\n",
    "    M11\tp414TEF \t\tCEN6/ARSH4 \tTRP1\n",
    "    M12\tp424TEF \t\t2 um\t\tTRP1\n",
    "    M13\tp415TEF \t\tCEN6/ARSH4 \tLEU2\n",
    "    M14\tp425TEF \t\t2 um\t\tLEU2\n",
    "    M15\tp416TEF \t\tCEN6/ARSH4 \tURA3 http://www.ncbi.nlm.nih.gov/nuccore/124365231\n",
    "    M16\tp426TEF \t\t2 um\t\tURA3 assemb\n",
    "    M17\tp413ADH \t\tCEN6/ARSH4 \tHIS3\n",
    "    M18\tp423ADH \t\t2 um\t\tHIS3\n",
    "    M19\tp414ADH \t\tCEN6/ARSH4 \tTRP1\n",
    "    M20\tp424ADH \t\t2 um\t\tTRP1\n",
    "    M21\tp415ADH \t\tCEN6/ARSH4 \tLEU2\n",
    "    M22\tp425ADH \t\t2 um\t\tLEU2 <-not sold from ATCC\n",
    "    M23\tp416ADH \t\tCEN6/ARSH4 \tURA3\n",
    "    M24\tp426ADH \t\t2 um\t\tURA3\n",
    "    M25\tp413CYC \t\tCEN6/ARSH4 \tHIS3\n",
    "    M26\tp423CYC \t\t2 um\t\tHIS3\n",
    "    M27\tp414CYC \t\tCEN6/ARSH4 \tTRP1\n",
    "    M28\tp424CYC \t\t2 um\t\tTRP1\n",
    "    M29\tp415CYC \t\tCEN6/ARSH4 \tLEU2\n",
    "    M30\tp425CYC \t\t2 um\t\tLEU2\n",
    "    M31\tp416CYC \t\tCEN6/ARSH4 \tURA3 sequenced\n",
    "    M32\tp426CYC\t\t    2 um\t\tURA3"
   ]
  },
  {
   "cell_type": "code",
   "execution_count": 1,
   "metadata": {
    "execution": {
     "iopub.execute_input": "2021-09-18T07:46:22.633144Z",
     "iopub.status.busy": "2021-09-18T07:46:22.632584Z",
     "iopub.status.idle": "2021-09-18T07:46:22.937940Z",
     "shell.execute_reply": "2021-09-18T07:46:22.937340Z"
    }
   },
   "outputs": [],
   "source": [
    "from pydna.genbank import Genbank\n",
    "from pydna.dseqrecord import Dseqrecord\n",
    "\n",
    "gb = Genbank(\"bjornjobb@gmail.com\")\n",
    "\n",
    "# The DNA fragments below were obtained from Saccharomyces Genome Database\n",
    "# www.sgd.org\n",
    "\n",
    "\n",
    "cyc1term =       Dseqrecord(\"ctcgagtcatgtaattagttatgtcacgcttacattcacgccctccccccacat\"\n",
    "                            \"ccgctctaaccgaaaaggaaggagttagacaacctgaagtctaggtccctattt\"\n",
    "                            \"atttttttatagttatgttagtattaagaacgttatttatatttcaaatttttc\"\n",
    "                            \"ttttttttctgtacagacgcgtgtacgcatgtaacattatactgaaaaccttgc\"\n",
    "                            \"ttgagaaggttttgggacgctcgaaggctttaatttgcggccggtaccn\")\n",
    "\n",
    "tefprom =       Dseqrecord(\"gagctcatagcttcaaaatgtttctactccttttttactcttccagattttctcgga\"\n",
    "                           \"ctccgcgcatcgccgtaccacttcaaaacacccaagcacagcatactaaatttcccc\"\n",
    "                           \"tctttcttcctctagggtgtcgttaattacccgtactaaaggtttggaaaagaaaaa\"\n",
    "                           \"agagaccgcctcgtttctttttcttcgtcgaaaaaggcaataaaaatttttatcacg\"\n",
    "                           \"tttctttttcttgaaaattttttttttgatttttttctctttcgatgacctcccatt\"\n",
    "                           \"gatatttaagttaataaacggtcttcaatttctcaagtttcagtttcatttttcttg\"\n",
    "                           \"ttctattacaactttttttacttcttgctcattagaaagaaagcatagcaatctaat\"\n",
    "                           \"ctaagttttctaga\")\n",
    "\n",
    "cycprom =       Dseqrecord(\"gagctcatttggcgagcgttggttggtggatcaagcccacgcgtaggcaatcctcga\"\n",
    "                           \"gcagatccgccaggcgtgtatatatagcgtggatggccaggcaactttagtgctgac\"\n",
    "                           \"acatacaggcatatatatatgtgtgcgacgacacatgatcatatggcatgcatgtgc\"\n",
    "                           \"tctgtatgtatataaaactcttgttttcttcttttctctaaatattctttccttata\"\n",
    "                           \"cattaggacctttgcagcataaattactatacttctatagacacgcaaacacaaata\"\n",
    "                           \"cacacactaatctaga\")\n",
    "\n",
    "adhprom =       Dseqrecord(\"gagctcTAAAACAAGAAGAGGGTTGACTACATCACGATGAGGGGGATCGAAGAAATG\"\n",
    "                           \"ATGGTAAATGAAATAGGAAATCAAGGAGCATGAAGGCAAAAGACAAATATAAGGGTC\"\n",
    "                           \"GAACGAAAAATAAAGTGAAAAGTGTTGATATGATGTATTTGGCTTTGCGGCGCCGAA\"\n",
    "                           \"AAAACGAGTTTACGCAATTGCACAATCATGCTGACTCTGTGGCGGACCCGCGCTCTT\"\n",
    "                           \"GCCGGCCCGGCGATAACGCTGGGCGTGAGGCTGTGCCCGGCGGAGTTTTTTGCGCCT\"\n",
    "                           \"GCATTTTCCAAGGTTTACCCTGCGCTAAGGGGCGAGATTGGAGAAGCAATAAGAATG\"\n",
    "                           \"CCGGTTGGGGTTGCGATGATGACGACCACGACAACTGGTGTCATTATTTAAGTTGCC\"\n",
    "                           \"GAAAGAACCTGAGTGCATTTGCAACATGAGTATACTAGAAGAATGAGCCAAGACTTG\"\n",
    "                           \"CGAGACGCGAGTTTGCCGGTGGTGCGAACAATAGAGCGACCATGACCTTGAAGGTGA\"\n",
    "                           \"GACGCGCATAACCGCTAGAGTACTTTGAAGAGGAAACAGCAATAGGGTTGCTACCAG\"\n",
    "                           \"TATAAATAGACAGGTACATACAACACTGGAAATGGTTGTCTGTTTGAGTACGCTTTC\"\n",
    "                           \"AATTCATTTGGGTGTGCACTTTATTATGTTACAATATGGAAGGGAACTTTACACTTC\"\n",
    "                           \"TCCTATGCACATATATTAATTAAAGTCCAATGCTAGTAGAGAAGGGGGGTAACACCC\"\n",
    "                           \"CTCCGCGCTCTTTTCCGATTTTTTTCTAAACCGTGGAATATTTCGGATATCCTTTTG\"\n",
    "                           \"TTGTTTCCGGGTGTACAATATGGACTTCCTCTTTTCTGGCAACCAAACCCATACATC\"\n",
    "                           \"GGGATTCCTATAATACCTTCGTTGGTCTCCCTAACATGTAGGTGGCGGAGGGGAGAT\"\n",
    "                           \"ATACAATAGAACAGATACCAGACAAGACATAATGGGCTAAACAAGACTACACCAATT\"\n",
    "                           \"ACACTGCCTCATTGATGGTGGTACATAACGAACTAATACTGTAGCCCTAGACTTGAT\"\n",
    "                           \"AGCCATCATCATATCGAAGTTTCACTACCCTTTTTCCATTTGCCATCTATTGAAGTA\"\n",
    "                           \"ATAATAGGCGCATGCAACTTCTTTTCTTTTTTTTTCTTTTCTCTCTCCCCCGTTGTT\"\n",
    "                           \"GTCTCACCATATCCGCAATGACAAAAAAATGATGGAAGACACTAAAGGAAAAAATTA\"\n",
    "                           \"ACGACAAAGACAGCACCAACAGATGTCGTTGTTCCAGAGCTGATGAGGGGTATCTCG\"\n",
    "                           \"AAGCACACGAAACTTTTTCCTTCCTTCATTCACGCACACTACTCTCTAATGAGCAAC\"\n",
    "                           \"GGTATACGGCCTTCCTTCCAGTTACTTGAATTTGAAATAAAAAAAAGTTTGCTGTCT\"\n",
    "                           \"TGCTATCAAGTATAAATAGACCTGCAATTATTAATCTTTTGTTTCCTCGTCATTGTT\"\n",
    "                           \"CTCGTTCCCTTTCTTCCTTGTTTCTTTTTCTGCACAATATTTCAAGCTATACCAAGC\"\n",
    "                           \"ATACAATCAACTATCTCATATACAtctaga\")\n",
    "\n",
    "gpdprom =       Dseqrecord(\"gagctcagtttatcattatcaatactcgccatttcaaagaatacgtaaataattaat\"\n",
    "                           \"agtagtgattttcctaactttatttagtcaaaaaattagccttttaattctgctgta\"\n",
    "                           \"acccgtacatgcccaaaatagggggcgggttacacagaatatataacatcgtaggtg\"\n",
    "                           \"tctgggtgaacagtttattcctggcatccactaaatataatggagcccgctttttaa\"\n",
    "                           \"gctggcatccagaaaaaaaaagaatcccagcaccaaaatattgttttcttcaccaac\"\n",
    "                           \"catcagttcataggtccattctcttagcgcaactacagagaacaggggcacaaacag\"\n",
    "                           \"gcaaaaaacgggcacaacctcaatggagtgatgcaacctgcctggagtaaatgatga\"\n",
    "                           \"cacaaggcaattgacccacgcatgtatctatctcattttcttacaccttctattacc\"\n",
    "                           \"ttctgctctctctgatttggaaaaagctgaaaaaaaaggttgaaaccagttccctga\"\n",
    "                           \"aattattcccctacttgactaataagtatataaagacggtaggtattgattgtaatt\"\n",
    "                           \"ctgtaaatctatttcttaaacttcttaaattctacttttatagttagtctttttttt\"\n",
    "                           \"agttttaaaacaccagaacttagtttcgacggattctaga\")"
   ]
  },
  {
   "cell_type": "code",
   "execution_count": 2,
   "metadata": {
    "collapsed": false,
    "execution": {
     "iopub.execute_input": "2021-09-18T07:46:22.946767Z",
     "iopub.status.busy": "2021-09-18T07:46:22.945439Z",
     "iopub.status.idle": "2021-09-18T07:46:22.985967Z",
     "shell.execute_reply": "2021-09-18T07:46:22.986335Z"
    },
    "jupyter": {
     "outputs_hidden": false
    }
   },
   "outputs": [],
   "source": [
    "from Bio.Restriction import XhoI, KpnI, SacI, XbaI\n",
    "\n",
    "# The Mumberg vectors depend on these pRS plasmids\n",
    "\n",
    "pRS413 = gb.nucleotide(\"U03447\")\n",
    "pRS414 = gb.nucleotide(\"U03448\")\n",
    "pRS415 = gb.nucleotide(\"U03449\")\n",
    "pRS416 = gb.nucleotide(\"U03450\")\n",
    "\n",
    "pRS423 = gb.nucleotide(\"U03454\")\n",
    "pRS424 = gb.nucleotide(\"U03453\")\n",
    "pRS425 = gb.nucleotide(\"U03452\")\n",
    "pRS426 = gb.nucleotide(\"U03451\")"
   ]
  },
  {
   "cell_type": "code",
   "execution_count": 3,
   "metadata": {
    "execution": {
     "iopub.execute_input": "2021-09-18T07:46:22.996112Z",
     "iopub.status.busy": "2021-09-18T07:46:22.988324Z",
     "iopub.status.idle": "2021-09-18T07:46:22.998474Z",
     "shell.execute_reply": "2021-09-18T07:46:22.998826Z"
    }
   },
   "outputs": [
    {
     "data": {
      "text/plain": [
       "[Gbank(U03447)(o4970),\n",
       " Gbank(U03448)(o4788),\n",
       " Gbank(U03449)(o6021),\n",
       " Gbank(U03450)(o4898),\n",
       " Gbank(U03454)(o5797),\n",
       " Gbank(U03453)(o5616),\n",
       " Gbank(U03452)(o6849),\n",
       " Gbank(U03451)(o5726)]"
      ]
     },
     "execution_count": 3,
     "metadata": {},
     "output_type": "execute_result"
    }
   ],
   "source": [
    "[ pRS413, pRS414, pRS415, pRS416, pRS423, pRS424, pRS425, pRS426]"
   ]
  },
  {
   "cell_type": "code",
   "execution_count": 4,
   "metadata": {
    "execution": {
     "iopub.execute_input": "2021-09-18T07:46:23.008019Z",
     "iopub.status.busy": "2021-09-18T07:46:23.007479Z",
     "iopub.status.idle": "2021-09-18T07:46:23.009453Z",
     "shell.execute_reply": "2021-09-18T07:46:23.009887Z"
    }
   },
   "outputs": [],
   "source": [
    "# The CYC1 terminator was cloned in pRS416 using XhoI and KpnI\n",
    "\n",
    "p416cyc1term = ( pRS416.cut(XhoI, KpnI)[0].rc() + cyc1term.cut(XhoI, KpnI)[1] ).looped()\n",
    "\n",
    "# The p416cyc1term was opened using SacI and XbaI\n",
    "\n",
    "stuffer, bb = p416cyc1term.cut(SacI, XbaI)"
   ]
  },
  {
   "cell_type": "code",
   "execution_count": 5,
   "metadata": {
    "execution": {
     "iopub.execute_input": "2021-09-18T07:46:23.037720Z",
     "iopub.status.busy": "2021-09-18T07:46:23.022462Z",
     "iopub.status.idle": "2021-09-18T07:46:24.019079Z",
     "shell.execute_reply": "2021-09-18T07:46:24.018538Z"
    }
   },
   "outputs": [],
   "source": [
    "# Each promoter was cloned in front of the CYC1 terminator\n",
    "\n",
    "p416GPD = ( bb + gpdprom.cut(SacI, XbaI)[1] ).looped().synced(\"gacgaaagggcctcgtgatacgccta\")\n",
    "p416TEF = ( bb + tefprom.cut(SacI, XbaI)[1] ).looped().synced(\"gacgaaagggcctcgtgatacgccta\")\n",
    "p416ADH = ( bb + adhprom.cut(SacI, XbaI)[1] ).looped().synced(\"gacgaaagggcctcgtgatacgccta\")\n",
    "p416CYC = ( bb + cycprom.cut(SacI, XbaI)[1] ).looped().synced(\"gacgaaagggcctcgtgatacgccta\")"
   ]
  },
  {
   "cell_type": "code",
   "execution_count": 6,
   "metadata": {
    "collapsed": false,
    "execution": {
     "iopub.execute_input": "2021-09-18T07:46:24.022550Z",
     "iopub.status.busy": "2021-09-18T07:46:24.021937Z",
     "iopub.status.idle": "2021-09-18T07:46:24.031854Z",
     "shell.execute_reply": "2021-09-18T07:46:24.031349Z"
    },
    "jupyter": {
     "outputs_hidden": false
    }
   },
   "outputs": [
    {
     "data": {
      "text/html": [
       "<font face=monospace><a href='p416GPD.gb' target='_blank'>p416GPD.gb</a></font><br>"
      ]
     },
     "metadata": {},
     "output_type": "display_data"
    }
   ],
   "source": [
    "# Write the first four plasmids to files \n",
    "\n",
    "p416GPD.write(\"p416GPD.gb\")"
   ]
  },
  {
   "cell_type": "code",
   "execution_count": 7,
   "metadata": {
    "collapsed": false,
    "execution": {
     "iopub.execute_input": "2021-09-18T07:46:24.035454Z",
     "iopub.status.busy": "2021-09-18T07:46:24.034703Z",
     "iopub.status.idle": "2021-09-18T07:46:24.040237Z",
     "shell.execute_reply": "2021-09-18T07:46:24.040841Z"
    },
    "jupyter": {
     "outputs_hidden": false
    }
   },
   "outputs": [
    {
     "data": {
      "text/html": [
       "<font face=monospace><a href='p416TEF.gb' target='_blank'>p416TEF.gb</a></font><br>"
      ]
     },
     "metadata": {},
     "output_type": "display_data"
    }
   ],
   "source": [
    "p416TEF.write(\"p416TEF.gb\")"
   ]
  },
  {
   "cell_type": "code",
   "execution_count": 8,
   "metadata": {
    "collapsed": false,
    "execution": {
     "iopub.execute_input": "2021-09-18T07:46:24.049916Z",
     "iopub.status.busy": "2021-09-18T07:46:24.047126Z",
     "iopub.status.idle": "2021-09-18T07:46:24.053012Z",
     "shell.execute_reply": "2021-09-18T07:46:24.053427Z"
    },
    "jupyter": {
     "outputs_hidden": false
    }
   },
   "outputs": [
    {
     "data": {
      "text/html": [
       "<font face=monospace><a href='p416ADH.gb' target='_blank'>p416ADH.gb</a></font><br>"
      ]
     },
     "metadata": {},
     "output_type": "display_data"
    }
   ],
   "source": [
    "p416ADH.write(\"p416ADH.gb\")"
   ]
  },
  {
   "cell_type": "code",
   "execution_count": 9,
   "metadata": {
    "collapsed": false,
    "execution": {
     "iopub.execute_input": "2021-09-18T07:46:24.056931Z",
     "iopub.status.busy": "2021-09-18T07:46:24.056191Z",
     "iopub.status.idle": "2021-09-18T07:46:24.063127Z",
     "shell.execute_reply": "2021-09-18T07:46:24.063786Z"
    },
    "jupyter": {
     "outputs_hidden": false
    }
   },
   "outputs": [
    {
     "data": {
      "text/html": [
       "<font face=monospace><a href='p416CYC.gb' target='_blank'>p416CYC.gb</a></font><br>"
      ]
     },
     "metadata": {},
     "output_type": "display_data"
    }
   ],
   "source": [
    "p416CYC.write(\"p416CYC.gb\")"
   ]
  },
  {
   "cell_type": "code",
   "execution_count": 10,
   "metadata": {
    "execution": {
     "iopub.execute_input": "2021-09-18T07:46:24.082331Z",
     "iopub.status.busy": "2021-09-18T07:46:24.081611Z",
     "iopub.status.idle": "2021-09-18T07:46:24.085594Z",
     "shell.execute_reply": "2021-09-18T07:46:24.084930Z"
    }
   },
   "outputs": [],
   "source": [
    "# cut out each type of promoter\n",
    "\n",
    "gpdcyc  = p416GPD.cut(SacI, KpnI)[0]\n",
    "gpdcyc.name = \"GPD\"\n",
    "tefcyc  = p416TEF.cut(SacI, KpnI)[0]\n",
    "tefcyc.name = \"TEF\"\n",
    "adhcyc  = p416ADH.cut(SacI, KpnI)[0]\n",
    "adhcyc.name = \"ADH\"\n",
    "cyccyc  = p416CYC.cut(SacI, KpnI)[0]\n",
    "cyccyc.name = \"CYC\""
   ]
  },
  {
   "cell_type": "code",
   "execution_count": 11,
   "metadata": {
    "execution": {
     "iopub.execute_input": "2021-09-18T07:46:24.099789Z",
     "iopub.status.busy": "2021-09-18T07:46:24.099164Z",
     "iopub.status.idle": "2021-09-18T07:46:32.190379Z",
     "shell.execute_reply": "2021-09-18T07:46:32.189922Z"
    }
   },
   "outputs": [
    {
     "data": {
      "text/html": [
       "<font face=monospace><a href='p413GPD.gb' target='_blank'>p413GPD.gb</a></font><br>"
      ]
     },
     "metadata": {},
     "output_type": "display_data"
    },
    {
     "data": {
      "text/html": [
       "<font face=monospace><a href='p423GPD.gb' target='_blank'>p423GPD.gb</a></font><br>"
      ]
     },
     "metadata": {},
     "output_type": "display_data"
    },
    {
     "data": {
      "text/html": [
       "<font face=monospace><a href='p414GPD.gb' target='_blank'>p414GPD.gb</a></font><br>"
      ]
     },
     "metadata": {},
     "output_type": "display_data"
    },
    {
     "data": {
      "text/html": [
       "<font face=monospace><a href='p424GPD.gb' target='_blank'>p424GPD.gb</a></font><br>"
      ]
     },
     "metadata": {},
     "output_type": "display_data"
    },
    {
     "data": {
      "text/html": [
       "<font face=monospace><a href='p415GPD.gb' target='_blank'>p415GPD.gb</a></font><br>"
      ]
     },
     "metadata": {},
     "output_type": "display_data"
    },
    {
     "data": {
      "text/html": [
       "<font face=monospace><a href='p425GPD.gb' target='_blank'>p425GPD.gb</a></font><br>"
      ]
     },
     "metadata": {},
     "output_type": "display_data"
    },
    {
     "data": {
      "text/html": [
       "<font face=monospace><a href='p426GPD.gb' target='_blank'>p426GPD.gb</a></font><br>"
      ]
     },
     "metadata": {},
     "output_type": "display_data"
    },
    {
     "name": "stdout",
     "output_type": "stream",
     "text": [
      "\n"
     ]
    },
    {
     "data": {
      "text/html": [
       "<font face=monospace><a href='p413TEF.gb' target='_blank'>p413TEF.gb</a></font><br>"
      ]
     },
     "metadata": {},
     "output_type": "display_data"
    },
    {
     "data": {
      "text/html": [
       "<font face=monospace><a href='p423TEF.gb' target='_blank'>p423TEF.gb</a></font><br>"
      ]
     },
     "metadata": {},
     "output_type": "display_data"
    },
    {
     "data": {
      "text/html": [
       "<font face=monospace><a href='p414TEF.gb' target='_blank'>p414TEF.gb</a></font><br>"
      ]
     },
     "metadata": {},
     "output_type": "display_data"
    },
    {
     "data": {
      "text/html": [
       "<font face=monospace><a href='p424TEF.gb' target='_blank'>p424TEF.gb</a></font><br>"
      ]
     },
     "metadata": {},
     "output_type": "display_data"
    },
    {
     "data": {
      "text/html": [
       "<font face=monospace><a href='p415TEF.gb' target='_blank'>p415TEF.gb</a></font><br>"
      ]
     },
     "metadata": {},
     "output_type": "display_data"
    },
    {
     "data": {
      "text/html": [
       "<font face=monospace><a href='p425TEF.gb' target='_blank'>p425TEF.gb</a></font><br>"
      ]
     },
     "metadata": {},
     "output_type": "display_data"
    },
    {
     "data": {
      "text/html": [
       "<font face=monospace><a href='p426TEF.gb' target='_blank'>p426TEF.gb</a></font><br>"
      ]
     },
     "metadata": {},
     "output_type": "display_data"
    },
    {
     "name": "stdout",
     "output_type": "stream",
     "text": [
      "\n"
     ]
    },
    {
     "data": {
      "text/html": [
       "<font face=monospace><a href='p413ADH.gb' target='_blank'>p413ADH.gb</a></font><br>"
      ]
     },
     "metadata": {},
     "output_type": "display_data"
    },
    {
     "data": {
      "text/html": [
       "<font face=monospace><a href='p423ADH.gb' target='_blank'>p423ADH.gb</a></font><br>"
      ]
     },
     "metadata": {},
     "output_type": "display_data"
    },
    {
     "data": {
      "text/html": [
       "<font face=monospace><a href='p414ADH.gb' target='_blank'>p414ADH.gb</a></font><br>"
      ]
     },
     "metadata": {},
     "output_type": "display_data"
    },
    {
     "data": {
      "text/html": [
       "<font face=monospace><a href='p424ADH.gb' target='_blank'>p424ADH.gb</a></font><br>"
      ]
     },
     "metadata": {},
     "output_type": "display_data"
    },
    {
     "data": {
      "text/html": [
       "<font face=monospace><a href='p415ADH.gb' target='_blank'>p415ADH.gb</a></font><br>"
      ]
     },
     "metadata": {},
     "output_type": "display_data"
    },
    {
     "data": {
      "text/html": [
       "<font face=monospace><a href='p425ADH.gb' target='_blank'>p425ADH.gb</a></font><br>"
      ]
     },
     "metadata": {},
     "output_type": "display_data"
    },
    {
     "data": {
      "text/html": [
       "<font face=monospace><a href='p426ADH.gb' target='_blank'>p426ADH.gb</a></font><br>"
      ]
     },
     "metadata": {},
     "output_type": "display_data"
    },
    {
     "name": "stdout",
     "output_type": "stream",
     "text": [
      "\n"
     ]
    },
    {
     "data": {
      "text/html": [
       "<font face=monospace><a href='p413CYC.gb' target='_blank'>p413CYC.gb</a></font><br>"
      ]
     },
     "metadata": {},
     "output_type": "display_data"
    },
    {
     "data": {
      "text/html": [
       "<font face=monospace><a href='p423CYC.gb' target='_blank'>p423CYC.gb</a></font><br>"
      ]
     },
     "metadata": {},
     "output_type": "display_data"
    },
    {
     "data": {
      "text/html": [
       "<font face=monospace><a href='p414CYC.gb' target='_blank'>p414CYC.gb</a></font><br>"
      ]
     },
     "metadata": {},
     "output_type": "display_data"
    },
    {
     "data": {
      "text/html": [
       "<font face=monospace><a href='p424CYC.gb' target='_blank'>p424CYC.gb</a></font><br>"
      ]
     },
     "metadata": {},
     "output_type": "display_data"
    },
    {
     "data": {
      "text/html": [
       "<font face=monospace><a href='p415CYC.gb' target='_blank'>p415CYC.gb</a></font><br>"
      ]
     },
     "metadata": {},
     "output_type": "display_data"
    },
    {
     "data": {
      "text/html": [
       "<font face=monospace><a href='p425CYC.gb' target='_blank'>p425CYC.gb</a></font><br>"
      ]
     },
     "metadata": {},
     "output_type": "display_data"
    },
    {
     "data": {
      "text/html": [
       "<font face=monospace><a href='p426CYC.gb' target='_blank'>p426CYC.gb</a></font><br>"
      ]
     },
     "metadata": {},
     "output_type": "display_data"
    },
    {
     "name": "stdout",
     "output_type": "stream",
     "text": [
      "\n"
     ]
    }
   ],
   "source": [
    "import os\n",
    "from IPython.display import FileLink\n",
    "from pydna.dseqrecord import Dseqrecord\n",
    "\n",
    "cassettes = [ gpdcyc, tefcyc, adhcyc, cyccyc ]\n",
    "pRS       = [ pRS413, pRS423, pRS414, pRS424, pRS415, pRS425, pRS426 ]\n",
    "             \n",
    "for cassette in cassettes:    \n",
    "    for v in pRS:\n",
    "        new_name = \"p{no}{prom}.gb\".format(no = v.name[3:], prom = cassette.name)\n",
    "        vsac = v.linearize(SacI)\n",
    "        *a,c = vsac.cut(KpnI)\n",
    "        bb=Dseqrecord(\"\")\n",
    "        for x in a:\n",
    "            bb+=x\n",
    "        pl = (bb + cassette.rc()).looped().synced(\"gacgaaagggcctcgtgatacgccta\")\n",
    "        \n",
    "        pl.locus = new_name[:-3]\n",
    "        pl.definition = \"\"\n",
    "        pl.accession  = pl.locus \n",
    "        pl.stamp()\n",
    "        \n",
    "        pl.write( new_name)\n",
    "    print()"
   ]
  },
  {
   "cell_type": "code",
   "execution_count": 12,
   "metadata": {
    "execution": {
     "iopub.execute_input": "2021-09-18T07:46:32.194870Z",
     "iopub.status.busy": "2021-09-18T07:46:32.194281Z",
     "iopub.status.idle": "2021-09-18T07:46:32.204107Z",
     "shell.execute_reply": "2021-09-18T07:46:32.204575Z"
    }
   },
   "outputs": [],
   "source": [
    "# download four of the sequences available from genbank\n",
    "\n",
    "p416GPD_genbank = gb.nucleotide(\"DQ269148\")\n",
    "p426GPD_genbank = gb.nucleotide(\"DQ019861\").looped() # This Genbank record is linear, should be circular.\n",
    "p416TEF_genbank = gb.nucleotide(\"EF210199\")\n",
    "p416CYC_genbank = gb.nucleotide(\"EF210198\")"
   ]
  },
  {
   "cell_type": "code",
   "execution_count": 13,
   "metadata": {
    "execution": {
     "iopub.execute_input": "2021-09-18T07:46:32.209358Z",
     "iopub.status.busy": "2021-09-18T07:46:32.208488Z",
     "iopub.status.idle": "2021-09-18T07:46:32.212173Z",
     "shell.execute_reply": "2021-09-18T07:46:32.211716Z"
    }
   },
   "outputs": [
    {
     "data": {
      "text/html": [
       "<a href='https://www.ncbi.nlm.nih.gov/nuccore/DQ269148?from=&to=&strand=1' target='_blank'>DQ269148</a>"
      ],
      "text/plain": [
       "Gbank(DQ269148)(o5778)"
      ]
     },
     "execution_count": 13,
     "metadata": {},
     "output_type": "execute_result"
    }
   ],
   "source": [
    "p416GPD_genbank"
   ]
  },
  {
   "cell_type": "code",
   "execution_count": 14,
   "metadata": {
    "execution": {
     "iopub.execute_input": "2021-09-18T07:46:32.217187Z",
     "iopub.status.busy": "2021-09-18T07:46:32.216235Z",
     "iopub.status.idle": "2021-09-18T07:46:32.220068Z",
     "shell.execute_reply": "2021-09-18T07:46:32.219529Z"
    }
   },
   "outputs": [
    {
     "data": {
      "text/html": [
       "<a href='https://www.ncbi.nlm.nih.gov/nuccore/DQ019861?from=&to=&strand=1' target='_blank'>DQ019861</a>"
      ],
      "text/plain": [
       "Gbank(DQ019861)(o6606)"
      ]
     },
     "execution_count": 14,
     "metadata": {},
     "output_type": "execute_result"
    }
   ],
   "source": [
    "p426GPD_genbank"
   ]
  },
  {
   "cell_type": "code",
   "execution_count": 15,
   "metadata": {
    "execution": {
     "iopub.execute_input": "2021-09-18T07:46:32.225232Z",
     "iopub.status.busy": "2021-09-18T07:46:32.224386Z",
     "iopub.status.idle": "2021-09-18T07:46:32.227731Z",
     "shell.execute_reply": "2021-09-18T07:46:32.228632Z"
    }
   },
   "outputs": [
    {
     "data": {
      "text/html": [
       "<a href='https://www.ncbi.nlm.nih.gov/nuccore/EF210199?from=&to=&strand=1' target='_blank'>EF210199</a>"
      ],
      "text/plain": [
       "Gbank(EF210199)(o5524)"
      ]
     },
     "execution_count": 15,
     "metadata": {},
     "output_type": "execute_result"
    }
   ],
   "source": [
    "p416TEF_genbank"
   ]
  },
  {
   "cell_type": "code",
   "execution_count": 16,
   "metadata": {
    "execution": {
     "iopub.execute_input": "2021-09-18T07:46:32.233153Z",
     "iopub.status.busy": "2021-09-18T07:46:32.231340Z",
     "iopub.status.idle": "2021-09-18T07:46:32.236789Z",
     "shell.execute_reply": "2021-09-18T07:46:32.236245Z"
    }
   },
   "outputs": [
    {
     "data": {
      "text/html": [
       "<a href='https://www.ncbi.nlm.nih.gov/nuccore/EF210198?from=&to=&strand=1' target='_blank'>EF210198</a>"
      ],
      "text/plain": [
       "Gbank(EF210198)(o5412)"
      ]
     },
     "execution_count": 16,
     "metadata": {},
     "output_type": "execute_result"
    }
   ],
   "source": [
    "p416CYC_genbank"
   ]
  },
  {
   "cell_type": "code",
   "execution_count": 17,
   "metadata": {
    "execution": {
     "iopub.execute_input": "2021-09-18T07:46:32.241435Z",
     "iopub.status.busy": "2021-09-18T07:46:32.240622Z",
     "iopub.status.idle": "2021-09-18T07:46:32.243235Z",
     "shell.execute_reply": "2021-09-18T07:46:32.243849Z"
    }
   },
   "outputs": [],
   "source": [
    "from pydna.utils import eq\n",
    "from pydna.readers import read"
   ]
  },
  {
   "cell_type": "code",
   "execution_count": 18,
   "metadata": {
    "collapsed": false,
    "execution": {
     "iopub.execute_input": "2021-09-18T07:46:32.251814Z",
     "iopub.status.busy": "2021-09-18T07:46:32.251176Z",
     "iopub.status.idle": "2021-09-18T07:46:32.253356Z",
     "shell.execute_reply": "2021-09-18T07:46:32.253819Z"
    },
    "jupyter": {
     "outputs_hidden": false
    }
   },
   "outputs": [],
   "source": [
    "# verify that the sequences made here and the ones \n",
    "# available from genbank are equivalent\n",
    "\n",
    "assert eq(p416GPD_genbank, p416GPD)\n",
    "assert eq(p416TEF_genbank, p416TEF)\n",
    "assert eq(p416CYC_genbank, p416CYC)\n",
    "assert eq(p426GPD_genbank, read(\"p426GPD.gb\"))"
   ]
  },
  {
   "cell_type": "markdown",
   "metadata": {},
   "source": [
    "One of the vectors, p413 GPD is avaliable from  ATCC with sequence depositied by the authors [ATCC® 87354™](https://www.lgcstandards-atcc.org/products/all/87354.aspx?geo_country=pt#documentation). The sequence is available as a [pdf file in fasta format](17082.pdf). The sequence in the pdf has the cSEGUID `ARwWwLpQqhTpYnmUm0Wu6Cwl7qk`. I extracted this sequence to the file [p413GPD_atcc.gb](p413GPD_atcc.gb).\n",
    "\n",
    "This sequence is not identical to the sequence assembled here [p413GPD.gb](p413GPD.gb). \n",
    "\n",
    "There are a number of differences that all fall in the GPD (TDH3) promoter. This might be due to updates in the genome sequence since 1995 and/or the use of a different strain as source for the DNA fragments (the strain is not given in the publication)."
   ]
  },
  {
   "cell_type": "code",
   "execution_count": 19,
   "metadata": {
    "execution": {
     "iopub.execute_input": "2021-09-18T07:46:32.258751Z",
     "iopub.status.busy": "2021-09-18T07:46:32.257893Z",
     "iopub.status.idle": "2021-09-18T07:46:32.260292Z",
     "shell.execute_reply": "2021-09-18T07:46:32.260753Z"
    }
   },
   "outputs": [],
   "source": [
    "table = \"\"\"\n",
    "Plas Mark XbaI SpeI BamHI SmaI PstI EcoRI EcoRV HindIII ClaI SalI XhoI\n",
    "\n",
    "p413 HIS3 XbaI SpeI BamHI SmaI -    EcoRI EcoRV -       ClaI SalI XhoI\n",
    "p414 TRP1 XbaI SpeI BamHI SmaI PstI EcoRI -     -       ClaI SalI XhoI\n",
    "p415 LEU2 XbaI SpeI BamHI SmaI PstI -     -     HindIII -    SalI XhoI\n",
    "p416 URA3 XbaI SpeI BamHI SmaI -    EcoRI -     HindIII ClaI SalI XhoI\n",
    "\n",
    "p423 HIS3 -    SpeI BamHI SmaI -    EcoRI EcoRV -       ClaI SalI XhoI\n",
    "p424 TRP1 -    SpeI BamHI SmaI PstI EcoRI -     -       ClaI SalI XhoI\n",
    "p425 LEU2 -    SpeI BamHI SmaI PstI -     -     HindIII -    SalI XhoI\n",
    "p426 URA3 -    SpeI BamHI SmaI -    EcoRI -     HindIII ClaI SalI XhoI\n",
    "\"\"\""
   ]
  },
  {
   "cell_type": "code",
   "execution_count": null,
   "metadata": {},
   "outputs": [],
   "source": []
  }
 ],
 "metadata": {
  "anaconda-cloud": {},
  "kernelspec": {
   "display_name": "Python [conda env:bjorn38]",
   "language": "python",
   "name": "conda-env-bjorn38-py"
  },
  "language_info": {
   "codemirror_mode": {
    "name": "ipython",
    "version": 3
   },
   "file_extension": ".py",
   "mimetype": "text/x-python",
   "name": "python",
   "nbconvert_exporter": "python",
   "pygments_lexer": "ipython3",
   "version": "3.9.7"
  }
 },
 "nbformat": 4,
 "nbformat_minor": 4
}
