{
 "cells": [
  {
   "cell_type": "markdown",
   "metadata": {},
   "source": [
    "# Golden gate cloning simulation using pydna"
   ]
  },
  {
   "cell_type": "markdown",
   "metadata": {
    "deletable": true,
    "editable": true
   },
   "source": [
    "![](https://www.neb.com/~/media/NebUs/Page%20Images/Applications/Cloning%20and%20Mapping/GoldenGateOverview.jpg)\n",
    "\n",
    "The objective is to assemble three 50 bp sequences into one circular sequence.\n",
    "\n",
    "We will use the assembly_fragments function and the Assembly class."
   ]
  },
  {
   "cell_type": "code",
   "execution_count": 1,
   "metadata": {
    "collapsed": false,
    "deletable": true,
    "editable": true,
    "execution": {
     "iopub.execute_input": "2021-10-31T13:26:29.167617Z",
     "iopub.status.busy": "2021-10-31T13:26:29.167081Z",
     "iopub.status.idle": "2021-10-31T13:26:29.747715Z",
     "shell.execute_reply": "2021-10-31T13:26:29.749211Z"
    },
    "jupyter": {
     "outputs_hidden": false
    }
   },
   "outputs": [],
   "source": [
    "from pydna.all import *"
   ]
  },
  {
   "cell_type": "markdown",
   "metadata": {},
   "source": [
    "The sequences below were generated [here](http://users-birc.au.dk/biopv/php/fabox/random_sequence_generator.php)."
   ]
  },
  {
   "cell_type": "code",
   "execution_count": 2,
   "metadata": {
    "deletable": true,
    "editable": true,
    "execution": {
     "iopub.execute_input": "2021-10-31T13:26:29.760537Z",
     "iopub.status.busy": "2021-10-31T13:26:29.759688Z",
     "iopub.status.idle": "2021-10-31T13:26:29.773216Z",
     "shell.execute_reply": "2021-10-31T13:26:29.774067Z"
    }
   },
   "outputs": [],
   "source": [
    "frags = parse('''\n",
    "\n",
    ">1|random sequence|A: 0.25|C: 0.25|G: 0.25|T: 0.25|length: 50 bp\n",
    "ccagaatacagtgccttagatctacggatcgtatctgcgatttggccgat\n",
    "\n",
    ">2|random sequence|A: 0.25|C: 0.25|G: 0.25|T: 0.25|length: 50 bp\n",
    "gccctgcttggtagatcaggcgagccaataacattctatagtgtagcctt\n",
    "\n",
    ">3|random sequence|A: 0.25|C: 0.25|G: 0.25|T: 0.25|length: 50 bp\n",
    "gagagcgctcctgtttcaatgcttgcaaactctagcagctatactgtagg ''' )"
   ]
  },
  {
   "cell_type": "code",
   "execution_count": 3,
   "metadata": {
    "collapsed": false,
    "deletable": true,
    "editable": true,
    "execution": {
     "iopub.execute_input": "2021-10-31T13:26:29.801016Z",
     "iopub.status.busy": "2021-10-31T13:26:29.799986Z",
     "iopub.status.idle": "2021-10-31T13:26:29.818230Z",
     "shell.execute_reply": "2021-10-31T13:26:29.819252Z"
    },
    "jupyter": {
     "outputs_hidden": false
    }
   },
   "outputs": [
    {
     "data": {
      "text/plain": [
       "[Dseqrecord(-50), Dseqrecord(-50), Dseqrecord(-50)]"
      ]
     },
     "execution_count": 3,
     "metadata": {},
     "output_type": "execute_result"
    }
   ],
   "source": [
    "frags"
   ]
  },
  {
   "cell_type": "markdown",
   "metadata": {},
   "source": [
    "We make a list of amplicons (sequences with pairs of primers from the Dseqrecords)"
   ]
  },
  {
   "cell_type": "code",
   "execution_count": 4,
   "metadata": {
    "collapsed": false,
    "deletable": true,
    "editable": true,
    "execution": {
     "iopub.execute_input": "2021-10-31T13:26:29.828610Z",
     "iopub.status.busy": "2021-10-31T13:26:29.827718Z",
     "iopub.status.idle": "2021-10-31T13:26:29.847633Z",
     "shell.execute_reply": "2021-10-31T13:26:29.848620Z"
    },
    "jupyter": {
     "outputs_hidden": false
    }
   },
   "outputs": [],
   "source": [
    "amplicons = [primer_design(f) for f in frags]"
   ]
  },
  {
   "cell_type": "markdown",
   "metadata": {},
   "source": [
    "We need a list of golden gate linkers, these could be generated automatically in some other way."
   ]
  },
  {
   "cell_type": "code",
   "execution_count": 5,
   "metadata": {
    "deletable": true,
    "editable": true,
    "execution": {
     "iopub.execute_input": "2021-10-31T13:26:29.853010Z",
     "iopub.status.busy": "2021-10-31T13:26:29.852094Z",
     "iopub.status.idle": "2021-10-31T13:26:29.868326Z",
     "shell.execute_reply": "2021-10-31T13:26:29.869667Z"
    }
   },
   "outputs": [],
   "source": [
    "golden_gate_linkers = [Dseqrecord(lnk) for lnk in \"GAAT GATC AATT GAAT\".split()]"
   ]
  },
  {
   "cell_type": "code",
   "execution_count": 6,
   "metadata": {
    "collapsed": false,
    "deletable": true,
    "editable": true,
    "execution": {
     "iopub.execute_input": "2021-10-31T13:26:29.876807Z",
     "iopub.status.busy": "2021-10-31T13:26:29.875237Z",
     "iopub.status.idle": "2021-10-31T13:26:29.885178Z",
     "shell.execute_reply": "2021-10-31T13:26:29.886466Z"
    },
    "jupyter": {
     "outputs_hidden": false
    }
   },
   "outputs": [
    {
     "data": {
      "text/plain": [
       "[Dseqrecord(-4), Dseqrecord(-4), Dseqrecord(-4), Dseqrecord(-4)]"
      ]
     },
     "execution_count": 6,
     "metadata": {},
     "output_type": "execute_result"
    }
   ],
   "source": [
    "golden_gate_linkers"
   ]
  },
  {
   "cell_type": "code",
   "execution_count": 7,
   "metadata": {
    "collapsed": false,
    "deletable": true,
    "editable": true,
    "execution": {
     "iopub.execute_input": "2021-10-31T13:26:29.890730Z",
     "iopub.status.busy": "2021-10-31T13:26:29.890068Z",
     "iopub.status.idle": "2021-10-31T13:26:29.892871Z",
     "shell.execute_reply": "2021-10-31T13:26:29.893302Z"
    },
    "jupyter": {
     "outputs_hidden": false
    }
   },
   "outputs": [],
   "source": [
    "from itertools import chain, zip_longest"
   ]
  },
  {
   "cell_type": "markdown",
   "metadata": {},
   "source": [
    "we zip together the golden gate linkers and sequences to a flat list."
   ]
  },
  {
   "cell_type": "code",
   "execution_count": 8,
   "metadata": {
    "collapsed": false,
    "deletable": true,
    "editable": true,
    "execution": {
     "iopub.execute_input": "2021-10-31T13:26:29.900565Z",
     "iopub.status.busy": "2021-10-31T13:26:29.898984Z",
     "iopub.status.idle": "2021-10-31T13:26:29.903619Z",
     "shell.execute_reply": "2021-10-31T13:26:29.903996Z"
    },
    "jupyter": {
     "outputs_hidden": false
    }
   },
   "outputs": [],
   "source": [
    "seqlist = list( chain.from_iterable( zip_longest(golden_gate_linkers, amplicons)))[:-1]"
   ]
  },
  {
   "cell_type": "code",
   "execution_count": 9,
   "metadata": {
    "collapsed": false,
    "execution": {
     "iopub.execute_input": "2021-10-31T13:26:29.914448Z",
     "iopub.status.busy": "2021-10-31T13:26:29.913516Z",
     "iopub.status.idle": "2021-10-31T13:26:29.923548Z",
     "shell.execute_reply": "2021-10-31T13:26:29.924291Z"
    },
    "jupyter": {
     "outputs_hidden": false
    }
   },
   "outputs": [
    {
     "data": {
      "text/plain": [
       "[Dseqrecord(-4),\n",
       " Amplicon(50),\n",
       " Dseqrecord(-4),\n",
       " Amplicon(50),\n",
       " Dseqrecord(-4),\n",
       " Amplicon(50),\n",
       " Dseqrecord(-4)]"
      ]
     },
     "execution_count": 9,
     "metadata": {},
     "output_type": "execute_result"
    }
   ],
   "source": [
    "seqlist"
   ]
  },
  {
   "cell_type": "markdown",
   "metadata": {},
   "source": [
    "The optional settings below are important. Sequences with a size equal to or shorter than maxlink will be incorporated in the primers.\n",
    "overlap controls the overlap between the sequences in the assembly."
   ]
  },
  {
   "cell_type": "code",
   "execution_count": 10,
   "metadata": {
    "collapsed": false,
    "deletable": true,
    "editable": true,
    "execution": {
     "iopub.execute_input": "2021-10-31T13:26:29.930610Z",
     "iopub.status.busy": "2021-10-31T13:26:29.929718Z",
     "iopub.status.idle": "2021-10-31T13:26:29.944910Z",
     "shell.execute_reply": "2021-10-31T13:26:29.943630Z"
    },
    "jupyter": {
     "outputs_hidden": false
    }
   },
   "outputs": [],
   "source": [
    "a,b,c = assembly_fragments( seqlist, maxlink=4, overlap=4 )"
   ]
  },
  {
   "cell_type": "markdown",
   "metadata": {},
   "source": [
    "We get only three sequences, since the golden gate linkers are incorporated in the primers.\n",
    "Lets give them nicer names:"
   ]
  },
  {
   "cell_type": "code",
   "execution_count": 11,
   "metadata": {
    "execution": {
     "iopub.execute_input": "2021-10-31T13:26:29.959099Z",
     "iopub.status.busy": "2021-10-31T13:26:29.958348Z",
     "iopub.status.idle": "2021-10-31T13:26:29.961473Z",
     "shell.execute_reply": "2021-10-31T13:26:29.963861Z"
    }
   },
   "outputs": [],
   "source": [
    "a.locus, b.locus, c.locus = \"sequenceA\", \"sequenceB\", \"sequenceC\""
   ]
  },
  {
   "cell_type": "code",
   "execution_count": 12,
   "metadata": {
    "collapsed": false,
    "deletable": true,
    "editable": true,
    "execution": {
     "iopub.execute_input": "2021-10-31T13:26:29.974605Z",
     "iopub.status.busy": "2021-10-31T13:26:29.971882Z",
     "iopub.status.idle": "2021-10-31T13:26:29.977087Z",
     "shell.execute_reply": "2021-10-31T13:26:29.976602Z"
    },
    "jupyter": {
     "outputs_hidden": false
    }
   },
   "outputs": [
    {
     "data": {
      "text/plain": [
       "    5ccagaatacagtgcct...gcgatttggccgat3\n",
       "                        ||||||||||||||\n",
       "                       3cgctaaaccggctaCTAG5\n",
       "5GAATccagaatacagtgcct3\n",
       "     ||||||||||||||||\n",
       "    3ggtcttatgtcacgga...cgctaaaccggcta5"
      ]
     },
     "execution_count": 12,
     "metadata": {},
     "output_type": "execute_result"
    }
   ],
   "source": [
    "a.figure()"
   ]
  },
  {
   "cell_type": "code",
   "execution_count": 13,
   "metadata": {
    "collapsed": false,
    "deletable": true,
    "editable": true,
    "execution": {
     "iopub.execute_input": "2021-10-31T13:26:29.986644Z",
     "iopub.status.busy": "2021-10-31T13:26:29.984854Z",
     "iopub.status.idle": "2021-10-31T13:26:29.993869Z",
     "shell.execute_reply": "2021-10-31T13:26:29.994297Z"
    },
    "jupyter": {
     "outputs_hidden": false
    }
   },
   "outputs": [
    {
     "data": {
      "text/plain": [
       "    5gccctgcttggta...acattctatagtgtagcctt3\n",
       "                     ||||||||||||||||||||\n",
       "                    3tgtaagatatcacatcggaaTTAA5\n",
       "5GATCgccctgcttggta3\n",
       "     |||||||||||||\n",
       "    3cgggacgaaccat...tgtaagatatcacatcggaa5"
      ]
     },
     "execution_count": 13,
     "metadata": {},
     "output_type": "execute_result"
    }
   ],
   "source": [
    "b.figure()"
   ]
  },
  {
   "cell_type": "code",
   "execution_count": 14,
   "metadata": {
    "collapsed": false,
    "deletable": true,
    "editable": true,
    "execution": {
     "iopub.execute_input": "2021-10-31T13:26:30.000040Z",
     "iopub.status.busy": "2021-10-31T13:26:29.998156Z",
     "iopub.status.idle": "2021-10-31T13:26:30.004685Z",
     "shell.execute_reply": "2021-10-31T13:26:30.005234Z"
    },
    "jupyter": {
     "outputs_hidden": false
    }
   },
   "outputs": [
    {
     "data": {
      "text/plain": [
       "    5gagagcgctcctgt...tagcagctatactgtagg3\n",
       "                      ||||||||||||||||||\n",
       "                     3atcgtcgatatgacatccCTTA5\n",
       "5AATTgagagcgctcctgt3\n",
       "     ||||||||||||||\n",
       "    3ctctcgcgaggaca...atcgtcgatatgacatcc5"
      ]
     },
     "execution_count": 14,
     "metadata": {},
     "output_type": "execute_result"
    }
   ],
   "source": [
    "c.figure()"
   ]
  },
  {
   "cell_type": "markdown",
   "metadata": {},
   "source": [
    "We can assemble these by setting the limit to 4 and only_terminal_overlaps to True. \n",
    "With such short homology limit, we need to consider only terminal overlaps, otherwise \n",
    "we would get many irrelevant results. "
   ]
  },
  {
   "cell_type": "code",
   "execution_count": 15,
   "metadata": {
    "execution": {
     "iopub.execute_input": "2021-10-31T13:26:30.010403Z",
     "iopub.status.busy": "2021-10-31T13:26:30.008304Z",
     "iopub.status.idle": "2021-10-31T13:26:30.015526Z",
     "shell.execute_reply": "2021-10-31T13:26:30.014542Z"
    }
   },
   "outputs": [],
   "source": [
    "from pydna.common_sub_strings import terminal_overlap"
   ]
  },
  {
   "cell_type": "code",
   "execution_count": 16,
   "metadata": {
    "execution": {
     "iopub.execute_input": "2021-10-31T13:26:30.032661Z",
     "iopub.status.busy": "2021-10-31T13:26:30.031817Z",
     "iopub.status.idle": "2021-10-31T13:26:30.034665Z",
     "shell.execute_reply": "2021-10-31T13:26:30.034264Z"
    }
   },
   "outputs": [
    {
     "data": {
      "text/plain": [
       "Assembly\n",
       "fragments..: 58bp 58bp 58bp\n",
       "limit(bp)..: 4\n",
       "G.nodes....: 4\n",
       "algorithm..: terminal_overlap"
      ]
     },
     "execution_count": 16,
     "metadata": {},
     "output_type": "execute_result"
    }
   ],
   "source": [
    "asm = Assembly((a,b,c), limit=4, algorithm=terminal_overlap)\n",
    "asm"
   ]
  },
  {
   "cell_type": "markdown",
   "metadata": {},
   "source": [
    "We got three circular products. The second one should be the same as the theoretical one below: "
   ]
  },
  {
   "cell_type": "code",
   "execution_count": 17,
   "metadata": {
    "execution": {
     "iopub.execute_input": "2021-10-31T13:26:30.040585Z",
     "iopub.status.busy": "2021-10-31T13:26:30.040041Z",
     "iopub.status.idle": "2021-10-31T13:26:30.042270Z",
     "shell.execute_reply": "2021-10-31T13:26:30.043077Z"
    }
   },
   "outputs": [],
   "source": [
    "correct = Dseqrecord(\"\")\n",
    "for s in seqlist[1:]:\n",
    "    correct += s\n",
    "correct = correct.looped()"
   ]
  },
  {
   "cell_type": "code",
   "execution_count": 18,
   "metadata": {
    "collapsed": false,
    "execution": {
     "iopub.execute_input": "2021-10-31T13:26:30.050096Z",
     "iopub.status.busy": "2021-10-31T13:26:30.048623Z",
     "iopub.status.idle": "2021-10-31T13:26:30.055111Z",
     "shell.execute_reply": "2021-10-31T13:26:30.054533Z"
    },
    "jupyter": {
     "outputs_hidden": false
    }
   },
   "outputs": [
    {
     "data": {
      "text/plain": [
       "3xa1SOyFzIkaq7SUZGYD5YrUzsc"
      ]
     },
     "execution_count": 18,
     "metadata": {},
     "output_type": "execute_result"
    }
   ],
   "source": [
    "correct.cseguid()"
   ]
  },
  {
   "cell_type": "code",
   "execution_count": 19,
   "metadata": {
    "execution": {
     "iopub.execute_input": "2021-10-31T13:26:30.066171Z",
     "iopub.status.busy": "2021-10-31T13:26:30.065714Z",
     "iopub.status.idle": "2021-10-31T13:26:30.296317Z",
     "shell.execute_reply": "2021-10-31T13:26:30.297363Z"
    }
   },
   "outputs": [],
   "source": [
    "candidate = asm.assemble_circular()[1]"
   ]
  },
  {
   "cell_type": "code",
   "execution_count": 20,
   "metadata": {
    "collapsed": false,
    "execution": {
     "iopub.execute_input": "2021-10-31T13:26:30.304054Z",
     "iopub.status.busy": "2021-10-31T13:26:30.300895Z",
     "iopub.status.idle": "2021-10-31T13:26:30.315453Z",
     "shell.execute_reply": "2021-10-31T13:26:30.314333Z"
    },
    "jupyter": {
     "outputs_hidden": false
    }
   },
   "outputs": [
    {
     "data": {
      "text/plain": [
       "3xa1SOyFzIkaq7SUZGYD5YrUzsc"
      ]
     },
     "execution_count": 20,
     "metadata": {},
     "output_type": "execute_result"
    }
   ],
   "source": [
    "candidate.cseguid()"
   ]
  },
  {
   "cell_type": "markdown",
   "metadata": {},
   "source": [
    "The candidate and the correct sequence has the same cseguid, so they represent the same circular sequence.\n",
    "We need to add the BsaI restriction enzyme recognition sequence (plus one nucleotide to get the cut right) to the primers:"
   ]
  },
  {
   "cell_type": "code",
   "execution_count": 21,
   "metadata": {
    "deletable": true,
    "editable": true,
    "execution": {
     "iopub.execute_input": "2021-10-31T13:26:30.321224Z",
     "iopub.status.busy": "2021-10-31T13:26:30.319928Z",
     "iopub.status.idle": "2021-10-31T13:26:30.322937Z",
     "shell.execute_reply": "2021-10-31T13:26:30.323308Z"
    }
   },
   "outputs": [],
   "source": [
    "from Bio.Restriction import BsaI"
   ]
  },
  {
   "cell_type": "code",
   "execution_count": 22,
   "metadata": {
    "collapsed": false,
    "deletable": true,
    "editable": true,
    "execution": {
     "iopub.execute_input": "2021-10-31T13:26:30.330568Z",
     "iopub.status.busy": "2021-10-31T13:26:30.329539Z",
     "iopub.status.idle": "2021-10-31T13:26:30.332095Z",
     "shell.execute_reply": "2021-10-31T13:26:30.332456Z"
    },
    "jupyter": {
     "outputs_hidden": false
    }
   },
   "outputs": [
    {
     "data": {
      "text/plain": [
       "'GGTCTC'"
      ]
     },
     "execution_count": 22,
     "metadata": {},
     "output_type": "execute_result"
    }
   ],
   "source": [
    "BsaI.site"
   ]
  },
  {
   "cell_type": "code",
   "execution_count": 23,
   "metadata": {
    "collapsed": false,
    "deletable": true,
    "editable": true,
    "execution": {
     "iopub.execute_input": "2021-10-31T13:26:30.338649Z",
     "iopub.status.busy": "2021-10-31T13:26:30.337840Z",
     "iopub.status.idle": "2021-10-31T13:26:30.341684Z",
     "shell.execute_reply": "2021-10-31T13:26:30.342168Z"
    },
    "jupyter": {
     "outputs_hidden": false
    }
   },
   "outputs": [
    {
     "name": "stdout",
     "output_type": "stream",
     "text": [
      "sequenceA\n",
      "f50\tGGTCTCaGAATccagaatacagtgcct\n",
      "\n",
      "r50\tGGTCTCaGATCatcggccaaatcgc\n",
      "\n",
      "           5ccagaatacagtgcct...gcgatttggccgat3\n",
      "                               ||||||||||||||\n",
      "                              3cgctaaaccggctaCTAGaCTCTGG5\n",
      "5GGTCTCaGAATccagaatacagtgcct3\n",
      "            ||||||||||||||||\n",
      "           3ggtcttatgtcacgga...cgctaaaccggcta5\n",
      "sequenceB\n",
      "f50\tGGTCTCaGATCgccctgcttggta\n",
      "\n",
      "r50\tGGTCTCaAATTaaggctacactatagaatgt\n",
      "\n",
      "           5gccctgcttggta...acattctatagtgtagcctt3\n",
      "                            ||||||||||||||||||||\n",
      "                           3tgtaagatatcacatcggaaTTAAaCTCTGG5\n",
      "5GGTCTCaGATCgccctgcttggta3\n",
      "            |||||||||||||\n",
      "           3cgggacgaaccat...tgtaagatatcacatcggaa5\n",
      "sequenceC\n",
      "f50\tGGTCTCaAATTgagagcgctcctgt\n",
      "\n",
      "r50\tGGTCTCaATTCcctacagtatagctgcta\n",
      "\n",
      "           5gagagcgctcctgt...tagcagctatactgtagg3\n",
      "                             ||||||||||||||||||\n",
      "                            3atcgtcgatatgacatccCTTAaCTCTGG5\n",
      "5GGTCTCaAATTgagagcgctcctgt3\n",
      "            ||||||||||||||\n",
      "           3ctctcgcgaggaca...atcgtcgatatgacatcc5\n"
     ]
    }
   ],
   "source": [
    "for f in (a,b,c):\n",
    "    f.forward_primer = BsaI.site + \"a\" + f.forward_primer\n",
    "    f.reverse_primer = BsaI.site + \"a\" + f.reverse_primer\n",
    "    print(f.name)\n",
    "    print(f.forward_primer.format(\"tab\"))\n",
    "    print(f.reverse_primer.format(\"tab\"))\n",
    "    print(f.figure())"
   ]
  },
  {
   "cell_type": "code",
   "execution_count": 24,
   "metadata": {
    "execution": {
     "iopub.execute_input": "2021-10-31T13:26:30.348498Z",
     "iopub.status.busy": "2021-10-31T13:26:30.347998Z",
     "iopub.status.idle": "2021-10-31T13:26:30.350709Z",
     "shell.execute_reply": "2021-10-31T13:26:30.349900Z"
    }
   },
   "outputs": [],
   "source": [
    "first_prod = pcr(a.forward_primer, a.reverse_primer, a.template)"
   ]
  },
  {
   "cell_type": "code",
   "execution_count": 25,
   "metadata": {
    "collapsed": false,
    "execution": {
     "iopub.execute_input": "2021-10-31T13:26:30.360360Z",
     "iopub.status.busy": "2021-10-31T13:26:30.356534Z",
     "iopub.status.idle": "2021-10-31T13:26:30.363516Z",
     "shell.execute_reply": "2021-10-31T13:26:30.363001Z"
    },
    "jupyter": {
     "outputs_hidden": false
    }
   },
   "outputs": [
    {
     "data": {
      "text/plain": [
       "           5ccagaatacagtgcct...gcgatttggccgat3\n",
       "                               ||||||||||||||\n",
       "                              3cgctaaaccggctaCTAGaCTCTGG5\n",
       "5GGTCTCaGAATccagaatacagtgcct3\n",
       "            ||||||||||||||||\n",
       "           3ggtcttatgtcacgga...cgctaaaccggcta5"
      ]
     },
     "execution_count": 25,
     "metadata": {},
     "output_type": "execute_result"
    }
   ],
   "source": [
    "first_prod.figure()"
   ]
  },
  {
   "cell_type": "code",
   "execution_count": 26,
   "metadata": {
    "collapsed": false,
    "execution": {
     "iopub.execute_input": "2021-10-31T13:26:30.368292Z",
     "iopub.status.busy": "2021-10-31T13:26:30.367677Z",
     "iopub.status.idle": "2021-10-31T13:26:30.371216Z",
     "shell.execute_reply": "2021-10-31T13:26:30.370623Z"
    },
    "jupyter": {
     "outputs_hidden": false
    }
   },
   "outputs": [
    {
     "data": {
      "text/plain": [
       "(Dseqrecord(-11), Dseqrecord(-58), Dseqrecord(-11))"
      ]
     },
     "execution_count": 26,
     "metadata": {},
     "output_type": "execute_result"
    }
   ],
   "source": [
    "first_prod.cut(BsaI)"
   ]
  },
  {
   "cell_type": "code",
   "execution_count": 27,
   "metadata": {
    "collapsed": false,
    "execution": {
     "iopub.execute_input": "2021-10-31T13:26:30.380123Z",
     "iopub.status.busy": "2021-10-31T13:26:30.379053Z",
     "iopub.status.idle": "2021-10-31T13:26:30.382049Z",
     "shell.execute_reply": "2021-10-31T13:26:30.382516Z"
    },
    "jupyter": {
     "outputs_hidden": false
    }
   },
   "outputs": [
    {
     "data": {
      "text/plain": [
       "Dseq(-58)\n",
       "GAATccag..cgat    \n",
       "    ggtc..gctaCTAG"
      ]
     },
     "execution_count": 27,
     "metadata": {},
     "output_type": "execute_result"
    }
   ],
   "source": [
    "first_prod.cut(BsaI)[1].seq"
   ]
  }
 ],
 "metadata": {
  "anaconda-cloud": {},
  "kernelspec": {
   "display_name": "Python [conda env:bjorn37]",
   "language": "python",
   "name": "conda-env-bjorn37-py"
  },
  "language_info": {
   "codemirror_mode": {
    "name": "ipython",
    "version": 3
   },
   "file_extension": ".py",
   "mimetype": "text/x-python",
   "name": "python",
   "nbconvert_exporter": "python",
   "pygments_lexer": "ipython3",
   "version": "3.9.7"
  }
 },
 "nbformat": 4,
 "nbformat_minor": 4
}
