





from pydna.all import *





frags = parse('''

>1|random sequence|A: 0.25|C: 0.25|G: 0.25|T: 0.25|length: 50 bp
ccagaatacagtgccttagatctacggatcgtatctgcgatttggccgat

>2|random sequence|A: 0.25|C: 0.25|G: 0.25|T: 0.25|length: 50 bp
gccctgcttggtagatcaggcgagccaataacattctatagtgtagcctt

>3|random sequence|A: 0.25|C: 0.25|G: 0.25|T: 0.25|length: 50 bp
gagagcgctcctgtttcaatgcttgcaaactctagcagctatactgtagg ''' )


frags





amplicons = [primer_design(f) for f in frags]





golden_gate_linkers = [Dseqrecord(lnk) for lnk in "GAAT GATC AATT GAAT".split()]


golden_gate_linkers


from itertools import chain, zip_longest





seqlist = list( chain.from_iterable( zip_longest(golden_gate_linkers, amplicons)))[:-1]


seqlist





a,b,c = assembly_fragments( seqlist, maxlink=4, overlap=4 )





a.locus, b.locus, c.locus = "sequenceA", "sequenceB", "sequenceC"


a.figure()


b.figure()


c.figure()





from pydna.common_sub_strings import terminal_overlap


asm = Assembly((a,b,c), limit=4, algorithm=terminal_overlap)
asm





correct = Dseqrecord("")
for s in seqlist[1:]:
    correct += s
correct = correct.looped()


correct.seguid()


candidate = asm.assemble_circular()[1]


candidate.seguid()





from Bio.Restriction import BsaI


BsaI.site


for f in (a,b,c):
    f.forward_primer = BsaI.site + "a" + f.forward_primer
    f.reverse_primer = BsaI.site + "a" + f.reverse_primer
    print(f.name)
    print(f.forward_primer.format("tab"))
    print(f.reverse_primer.format("tab"))
    print(f.figure())


first_prod = pcr(a.forward_primer, a.reverse_primer, a.template)


first_prod.figure()


first_prod.cut(BsaI)


first_prod.cut(BsaI)[1].seq
