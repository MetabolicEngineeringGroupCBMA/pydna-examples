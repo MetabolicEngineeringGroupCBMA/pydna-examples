


from pydna.dseqrecord import Dseqrecord





mysequence = Dseqrecord("GGATCCAAA")





mysequence





mysequence.seq


from pydna.readers import read





read_from_fasta = read("fastaseq.fasta")


read_from_gb = read("gbseq.gb")


read_from_embl = read("emblseq.emb")





print(read_from_fasta.seq)
print(read_from_gb.seq)
print(read_from_embl.seq)





read_from_string = read('''

>seq_from_string
GGATCCAAA

''')





from pydna.genbank import Genbank


gb = Genbank("bjornjobb@gmail.com")
pUC19 = gb.nucleotide("L09137")





pUC19


from pydna.download import download_text





text = download_text("https://gist.githubusercontent.com/BjornFJohansson/e445e5039d61bdcdf933c435438b4585/raw/a6d57a8d5cffcbf0ab76307c82746e5b7265d0c8/YEPlac181snapgene.gb")


YEplac181 = read(text)


YEplac181





from Bio.Restriction import BamHI


a, b = mysequence.cut(BamHI)


a


b


a.seq


b.seq


a+b





mysequence.write("new_sequence.gb")
