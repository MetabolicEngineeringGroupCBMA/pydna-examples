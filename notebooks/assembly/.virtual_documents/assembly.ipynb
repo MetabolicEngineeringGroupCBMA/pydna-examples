


from pydna.all import *


b  = Dseqrecord("agctactgactattaggggttattctgatcatctgatctactatctgactgtactgatcta")
l  = Dseqrecord("AGGCATCTACTG")
c  = Dseqrecord("tctgatctactatctgactgtactgatctattgacactgtgatcattctagtgtattactc")
(b+l+c).looped().seguid()


l


frags = assembly_fragments( (primer_design(b), l, primer_design(c), primer_design(b)), 1)


b2 = pcr(frags[-1].forward_primer, frags[0].reverse_primer, b)


b2.figure()


frags[1].figure()


from pydna.common_sub_strings import terminal_overlap


asm2 = Assembly( (b2, frags[1]), limit=1, algorithm = terminal_overlap)
asm2


asm2.assemble_circular()[0].seguid()


asm2.assemble_circular()[0].figure()


frags = assembly_fragments( (b, l, primer_design(c)), 1)


frags


frags[0].seq


frags[1].figure()
