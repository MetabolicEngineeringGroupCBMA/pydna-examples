{
 "cells": [
  {
   "cell_type": "markdown",
   "metadata": {},
   "source": [
    "# Simple example of assembly with pydna"
   ]
  },
  {
   "cell_type": "code",
   "execution_count": 16,
   "metadata": {},
   "outputs": [],
   "source": [
    "from pydna.all import *"
   ]
  },
  {
   "cell_type": "code",
   "execution_count": 17,
   "metadata": {},
   "outputs": [
    {
     "data": {
      "text/plain": [
       "'cdseguid=hELZaKa6bqYYr3zfzANN5HYac5Y'"
      ]
     },
     "execution_count": 17,
     "metadata": {},
     "output_type": "execute_result"
    }
   ],
   "source": [
    "b  = Dseqrecord(\"agctactgactattaggggttattctgatcatctgatctactatctgactgtactgatcta\")\n",
    "l  = Dseqrecord(\"AGGCATCTACTG\")\n",
    "c  = Dseqrecord(\"tctgatctactatctgactgtactgatctattgacactgtgatcattctagtgtattactc\")\n",
    "(b+l+c).looped().seguid()"
   ]
  },
  {
   "cell_type": "code",
   "execution_count": 18,
   "metadata": {},
   "outputs": [
    {
     "data": {
      "text/plain": [
       "Dseqrecord(-12)"
      ]
     },
     "execution_count": 18,
     "metadata": {},
     "output_type": "execute_result"
    }
   ],
   "source": [
    "l"
   ]
  },
  {
   "cell_type": "code",
   "execution_count": 19,
   "metadata": {},
   "outputs": [],
   "source": [
    "frags = assembly_fragments( (primer_design(b), l, primer_design(c), primer_design(b)), 1)"
   ]
  },
  {
   "cell_type": "code",
   "execution_count": 20,
   "metadata": {},
   "outputs": [],
   "source": [
    "b2 = pcr(frags[-1].forward_primer, frags[0].reverse_primer, b)"
   ]
  },
  {
   "cell_type": "code",
   "execution_count": 21,
   "metadata": {},
   "outputs": [
    {
     "data": {
      "text/plain": [
       " 5agctactgactattagggg...ctactatctgactgtactgatcta3\n",
       "                        ||||||||||||||||||||||||\n",
       "                       3gatgatagactgacatgactagatTCCGTAG5\n",
       "5cagctactgactattagggg3\n",
       "  |||||||||||||||||||\n",
       " 3tcgatgactgataatcccc...gatgatagactgacatgactagat5"
      ]
     },
     "execution_count": 21,
     "metadata": {},
     "output_type": "execute_result"
    }
   ],
   "source": [
    "b2.figure()"
   ]
  },
  {
   "cell_type": "code",
   "execution_count": 22,
   "metadata": {},
   "outputs": [
    {
     "data": {
      "text/plain": [
       "       5tctgatctactatctgactgta...tgtgatcattctagtgtattactc3\n",
       "                                 ||||||||||||||||||||||||\n",
       "                                3acactagtaagatcacataatgagt5\n",
       "5TCTACTGtctgatctactatctgactgta3\n",
       "        ||||||||||||||||||||||\n",
       "       3agactagatgatagactgacat...acactagtaagatcacataatgag5"
      ]
     },
     "execution_count": 22,
     "metadata": {},
     "output_type": "execute_result"
    }
   ],
   "source": [
    "frags[1].figure()"
   ]
  },
  {
   "cell_type": "code",
   "execution_count": 23,
   "metadata": {},
   "outputs": [],
   "source": [
    "from pydna.common_sub_strings import terminal_overlap"
   ]
  },
  {
   "cell_type": "code",
   "execution_count": 24,
   "metadata": {},
   "outputs": [
    {
     "data": {
      "text/plain": [
       "Assembly\n",
       "fragments..: 69bp 69bp\n",
       "limit(bp)..: 1\n",
       "G.nodes....: 4\n",
       "algorithm..: terminal_overlap"
      ]
     },
     "execution_count": 24,
     "metadata": {},
     "output_type": "execute_result"
    }
   ],
   "source": [
    "asm2 = Assembly( (b2, frags[1]), limit=1, algorithm = terminal_overlap)\n",
    "asm2"
   ]
  },
  {
   "cell_type": "code",
   "execution_count": 25,
   "metadata": {},
   "outputs": [
    {
     "data": {
      "text/plain": [
       "'cdseguid=hELZaKa6bqYYr3zfzANN5HYac5Y'"
      ]
     },
     "execution_count": 25,
     "metadata": {},
     "output_type": "execute_result"
    }
   ],
   "source": [
    "asm2.assemble_circular()[0].seguid()"
   ]
  },
  {
   "cell_type": "code",
   "execution_count": 26,
   "metadata": {},
   "outputs": [
    {
     "data": {
      "text/plain": [
       " -|69bp_PCR_prod| 2\n",
       "|                \\/\n",
       "|                /\\\n",
       "|                 2|69bp_PCR_prod| 2\n",
       "|                                 \\/\n",
       "|                                 /\\\n",
       "|                                  2-\n",
       "|                                    |\n",
       " ------------------------------------"
      ]
     },
     "execution_count": 26,
     "metadata": {},
     "output_type": "execute_result"
    }
   ],
   "source": [
    "asm2.assemble_circular()[0].figure()"
   ]
  },
  {
   "cell_type": "code",
   "execution_count": 27,
   "metadata": {},
   "outputs": [],
   "source": [
    "frags = assembly_fragments( (b, l, primer_design(c)), 1)"
   ]
  },
  {
   "cell_type": "code",
   "execution_count": 28,
   "metadata": {},
   "outputs": [
    {
     "data": {
      "text/plain": [
       "[Dseqrecord(-61), Amplicon(74)]"
      ]
     },
     "execution_count": 28,
     "metadata": {},
     "output_type": "execute_result"
    }
   ],
   "source": [
    "frags"
   ]
  },
  {
   "cell_type": "code",
   "execution_count": 29,
   "metadata": {},
   "outputs": [
    {
     "data": {
      "text/plain": [
       "Dseq(-61)\n",
       "agct..tcta\n",
       "tcga..agat"
      ]
     },
     "execution_count": 29,
     "metadata": {},
     "output_type": "execute_result"
    }
   ],
   "source": [
    "frags[0].seq"
   ]
  },
  {
   "cell_type": "code",
   "execution_count": 30,
   "metadata": {},
   "outputs": [
    {
     "data": {
      "text/plain": [
       "             5tctgatctactatctgactgta...tgtgatcattctagtgtattactc3\n",
       "                                       ||||||||||||||||||||||||\n",
       "                                      3acactagtaagatcacataatgag5\n",
       "5aAGGCATCTACTGtctgatctactatctgactgta3\n",
       "              ||||||||||||||||||||||\n",
       "             3agactagatgatagactgacat...acactagtaagatcacataatgag5"
      ]
     },
     "execution_count": 30,
     "metadata": {},
     "output_type": "execute_result"
    }
   ],
   "source": [
    "frags[1].figure()"
   ]
  }
 ],
 "metadata": {
  "anaconda-cloud": {},
  "kernelspec": {
   "display_name": "Python [conda env:bjorn311]",
   "language": "python",
   "name": "conda-env-bjorn311-py"
  },
  "language_info": {
   "codemirror_mode": {
    "name": "ipython",
    "version": 3
   },
   "file_extension": ".py",
   "mimetype": "text/x-python",
   "name": "python",
   "nbconvert_exporter": "python",
   "pygments_lexer": "ipython3",
   "version": "3.11.8"
  }
 },
 "nbformat": 4,
 "nbformat_minor": 4
}
