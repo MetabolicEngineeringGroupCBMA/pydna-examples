{
 "cells": [
  {
   "cell_type": "markdown",
   "metadata": {},
   "source": [
    "# Simple example of assembly with pydna"
   ]
  },
  {
   "cell_type": "code",
   "execution_count": 1,
   "metadata": {
    "execution": {
     "iopub.execute_input": "2021-09-18T07:46:10.772154Z",
     "iopub.status.busy": "2021-09-18T07:46:10.771457Z",
     "iopub.status.idle": "2021-09-18T07:46:11.203841Z",
     "shell.execute_reply": "2021-09-18T07:46:11.203233Z"
    }
   },
   "outputs": [],
   "source": [
    "from pydna.all import *"
   ]
  },
  {
   "cell_type": "code",
   "execution_count": 2,
   "metadata": {
    "execution": {
     "iopub.execute_input": "2021-09-18T07:46:11.218987Z",
     "iopub.status.busy": "2021-09-18T07:46:11.218292Z",
     "iopub.status.idle": "2021-09-18T07:46:11.221202Z",
     "shell.execute_reply": "2021-09-18T07:46:11.221548Z"
    }
   },
   "outputs": [
    {
     "data": {
      "text/plain": [
       "3lbRRPpQjEh_wEXzw6DaCZx0VMQ"
      ]
     },
     "execution_count": 2,
     "metadata": {},
     "output_type": "execute_result"
    }
   ],
   "source": [
    "b  = Dseqrecord(\"agctactgactattaggggttattctgatcatctgatctactatctgactgtactgatcta\")\n",
    "l  = Dseqrecord(\"AGGCATCTACTG\")\n",
    "c  = Dseqrecord(\"tctgatctactatctgactgtactgatctattgacactgtgatcattctagtgtattactc\")\n",
    "(b+l+c).looped().cseguid()"
   ]
  },
  {
   "cell_type": "code",
   "execution_count": 3,
   "metadata": {
    "execution": {
     "iopub.execute_input": "2021-09-18T07:46:11.225684Z",
     "iopub.status.busy": "2021-09-18T07:46:11.224681Z",
     "iopub.status.idle": "2021-09-18T07:46:11.228569Z",
     "shell.execute_reply": "2021-09-18T07:46:11.228150Z"
    }
   },
   "outputs": [
    {
     "data": {
      "text/plain": [
       "Dseqrecord(-12)"
      ]
     },
     "execution_count": 3,
     "metadata": {},
     "output_type": "execute_result"
    }
   ],
   "source": [
    "l"
   ]
  },
  {
   "cell_type": "code",
   "execution_count": 4,
   "metadata": {
    "execution": {
     "iopub.execute_input": "2021-09-18T07:46:11.234254Z",
     "iopub.status.busy": "2021-09-18T07:46:11.233540Z",
     "iopub.status.idle": "2021-09-18T07:46:11.247132Z",
     "shell.execute_reply": "2021-09-18T07:46:11.246658Z"
    }
   },
   "outputs": [],
   "source": [
    "frags = assembly_fragments( (primer_design(b), l, primer_design(c), primer_design(b)), 1)"
   ]
  },
  {
   "cell_type": "code",
   "execution_count": 5,
   "metadata": {
    "execution": {
     "iopub.execute_input": "2021-09-18T07:46:11.251500Z",
     "iopub.status.busy": "2021-09-18T07:46:11.251066Z",
     "iopub.status.idle": "2021-09-18T07:46:11.253186Z",
     "shell.execute_reply": "2021-09-18T07:46:11.252776Z"
    }
   },
   "outputs": [],
   "source": [
    "b2 = pcr(frags[-1].forward_primer, frags[0].reverse_primer, b)"
   ]
  },
  {
   "cell_type": "code",
   "execution_count": 6,
   "metadata": {
    "execution": {
     "iopub.execute_input": "2021-09-18T07:46:11.257390Z",
     "iopub.status.busy": "2021-09-18T07:46:11.256599Z",
     "iopub.status.idle": "2021-09-18T07:46:11.259939Z",
     "shell.execute_reply": "2021-09-18T07:46:11.260484Z"
    }
   },
   "outputs": [
    {
     "data": {
      "text/plain": [
       " 5agctactgactattaggg...ctatctgactgtactgatcta3\n",
       "                       |||||||||||||||||||||\n",
       "                      3gatagactgacatgactagatTCCGTAG5\n",
       "5cagctactgactattaggg3\n",
       "  ||||||||||||||||||\n",
       " 3tcgatgactgataatccc...gatagactgacatgactagat5"
      ]
     },
     "execution_count": 6,
     "metadata": {},
     "output_type": "execute_result"
    }
   ],
   "source": [
    "b2.figure()"
   ]
  },
  {
   "cell_type": "code",
   "execution_count": 7,
   "metadata": {
    "execution": {
     "iopub.execute_input": "2021-09-18T07:46:11.266206Z",
     "iopub.status.busy": "2021-09-18T07:46:11.265207Z",
     "iopub.status.idle": "2021-09-18T07:46:11.268622Z",
     "shell.execute_reply": "2021-09-18T07:46:11.269183Z"
    }
   },
   "outputs": [
    {
     "data": {
      "text/plain": [
       "       5tctgatctactatctgactg...tgatcattctagtgtattactc3\n",
       "                               ||||||||||||||||||||||\n",
       "                              3actagtaagatcacataatgagt5\n",
       "5TCTACTGtctgatctactatctgactg3\n",
       "        ||||||||||||||||||||\n",
       "       3agactagatgatagactgac...actagtaagatcacataatgag5"
      ]
     },
     "execution_count": 7,
     "metadata": {},
     "output_type": "execute_result"
    }
   ],
   "source": [
    "frags[1].figure()"
   ]
  },
  {
   "cell_type": "code",
   "execution_count": 8,
   "metadata": {
    "execution": {
     "iopub.execute_input": "2021-09-18T07:46:11.274213Z",
     "iopub.status.busy": "2021-09-18T07:46:11.273172Z",
     "iopub.status.idle": "2021-09-18T07:46:11.276226Z",
     "shell.execute_reply": "2021-09-18T07:46:11.275628Z"
    }
   },
   "outputs": [],
   "source": [
    "from pydna.common_sub_strings import terminal_overlap"
   ]
  },
  {
   "cell_type": "code",
   "execution_count": 9,
   "metadata": {
    "execution": {
     "iopub.execute_input": "2021-09-18T07:46:11.289720Z",
     "iopub.status.busy": "2021-09-18T07:46:11.288921Z",
     "iopub.status.idle": "2021-09-18T07:46:11.291918Z",
     "shell.execute_reply": "2021-09-18T07:46:11.291468Z"
    }
   },
   "outputs": [
    {
     "data": {
      "text/plain": [
       "Assembly\n",
       "fragments..: 69bp 69bp\n",
       "limit(bp)..: 1\n",
       "G.nodes....: 4\n",
       "algorithm..: terminal_overlap"
      ]
     },
     "execution_count": 9,
     "metadata": {},
     "output_type": "execute_result"
    }
   ],
   "source": [
    "asm2 = Assembly( (b2, frags[1]), limit=1, algorithm = terminal_overlap)\n",
    "asm2"
   ]
  },
  {
   "cell_type": "code",
   "execution_count": 10,
   "metadata": {
    "execution": {
     "iopub.execute_input": "2021-09-18T07:46:11.295772Z",
     "iopub.status.busy": "2021-09-18T07:46:11.295281Z",
     "iopub.status.idle": "2021-09-18T07:46:11.457332Z",
     "shell.execute_reply": "2021-09-18T07:46:11.457705Z"
    }
   },
   "outputs": [
    {
     "data": {
      "text/plain": [
       "3lbRRPpQjEh_wEXzw6DaCZx0VMQ"
      ]
     },
     "execution_count": 10,
     "metadata": {},
     "output_type": "execute_result"
    }
   ],
   "source": [
    "asm2.assemble_circular()[0].cseguid()"
   ]
  },
  {
   "cell_type": "code",
   "execution_count": 11,
   "metadata": {
    "execution": {
     "iopub.execute_input": "2021-09-18T07:46:11.463197Z",
     "iopub.status.busy": "2021-09-18T07:46:11.462350Z",
     "iopub.status.idle": "2021-09-18T07:46:11.465424Z",
     "shell.execute_reply": "2021-09-18T07:46:11.465898Z"
    }
   },
   "outputs": [
    {
     "data": {
      "text/plain": [
       " -|69bp_PCR_prod| 2\n",
       "|                \\/\n",
       "|                /\\\n",
       "|                 2|69bp_PCR_prod| 2\n",
       "|                                 \\/\n",
       "|                                 /\\\n",
       "|                                  2-\n",
       "|                                    |\n",
       " ------------------------------------"
      ]
     },
     "execution_count": 11,
     "metadata": {},
     "output_type": "execute_result"
    }
   ],
   "source": [
    "asm2.assemble_circular()[0].figure()"
   ]
  },
  {
   "cell_type": "code",
   "execution_count": 12,
   "metadata": {
    "execution": {
     "iopub.execute_input": "2021-09-18T07:46:11.475343Z",
     "iopub.status.busy": "2021-09-18T07:46:11.474625Z",
     "iopub.status.idle": "2021-09-18T07:46:11.477298Z",
     "shell.execute_reply": "2021-09-18T07:46:11.476741Z"
    }
   },
   "outputs": [],
   "source": [
    "frags = assembly_fragments( (b, l, primer_design(c)), 1)"
   ]
  },
  {
   "cell_type": "code",
   "execution_count": 13,
   "metadata": {
    "execution": {
     "iopub.execute_input": "2021-09-18T07:46:11.481878Z",
     "iopub.status.busy": "2021-09-18T07:46:11.481189Z",
     "iopub.status.idle": "2021-09-18T07:46:11.485076Z",
     "shell.execute_reply": "2021-09-18T07:46:11.484495Z"
    }
   },
   "outputs": [
    {
     "data": {
      "text/plain": [
       "[Dseqrecord(-61), Amplicon(74)]"
      ]
     },
     "execution_count": 13,
     "metadata": {},
     "output_type": "execute_result"
    }
   ],
   "source": [
    "frags"
   ]
  },
  {
   "cell_type": "code",
   "execution_count": 14,
   "metadata": {
    "execution": {
     "iopub.execute_input": "2021-09-18T07:46:11.490526Z",
     "iopub.status.busy": "2021-09-18T07:46:11.489575Z",
     "iopub.status.idle": "2021-09-18T07:46:11.492979Z",
     "shell.execute_reply": "2021-09-18T07:46:11.493539Z"
    }
   },
   "outputs": [
    {
     "data": {
      "text/plain": [
       "Dseq(-61)\n",
       "agct..tcta\n",
       "tcga..agat"
      ]
     },
     "execution_count": 14,
     "metadata": {},
     "output_type": "execute_result"
    }
   ],
   "source": [
    "frags[0].seq"
   ]
  },
  {
   "cell_type": "code",
   "execution_count": 15,
   "metadata": {
    "execution": {
     "iopub.execute_input": "2021-09-18T07:46:11.498727Z",
     "iopub.status.busy": "2021-09-18T07:46:11.498012Z",
     "iopub.status.idle": "2021-09-18T07:46:11.501000Z",
     "shell.execute_reply": "2021-09-18T07:46:11.501583Z"
    }
   },
   "outputs": [
    {
     "data": {
      "text/plain": [
       "             5tctgatctactatctgactg...tgatcattctagtgtattactc3\n",
       "                                     ||||||||||||||||||||||\n",
       "                                    3actagtaagatcacataatgag5\n",
       "5aAGGCATCTACTGtctgatctactatctgactg3\n",
       "              ||||||||||||||||||||\n",
       "             3agactagatgatagactgac...actagtaagatcacataatgag5"
      ]
     },
     "execution_count": 15,
     "metadata": {},
     "output_type": "execute_result"
    }
   ],
   "source": [
    "frags[1].figure()"
   ]
  }
 ],
 "metadata": {
  "anaconda-cloud": {},
  "kernelspec": {
   "display_name": "Python [conda env:bjorn38]",
   "language": "python",
   "name": "conda-env-bjorn38-py"
  },
  "language_info": {
   "codemirror_mode": {
    "name": "ipython",
    "version": 3
   },
   "file_extension": ".py",
   "mimetype": "text/x-python",
   "name": "python",
   "nbconvert_exporter": "python",
   "pygments_lexer": "ipython3",
   "version": "3.9.7"
  }
 },
 "nbformat": 4,
 "nbformat_minor": 4
}
