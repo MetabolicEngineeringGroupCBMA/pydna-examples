{
 "cells": [
  {
   "cell_type": "markdown",
   "metadata": {},
   "source": [
    "# Simple example of assembly with pydna"
   ]
  },
  {
   "cell_type": "code",
   "execution_count": 1,
   "metadata": {
    "execution": {
     "iopub.execute_input": "2021-10-31T13:26:18.769551Z",
     "iopub.status.busy": "2021-10-31T13:26:18.769074Z",
     "iopub.status.idle": "2021-10-31T13:26:19.257926Z",
     "shell.execute_reply": "2021-10-31T13:26:19.257330Z"
    }
   },
   "outputs": [],
   "source": [
    "from pydna.all import *"
   ]
  },
  {
   "cell_type": "code",
   "execution_count": 2,
   "metadata": {
    "execution": {
     "iopub.execute_input": "2021-10-31T13:26:19.273105Z",
     "iopub.status.busy": "2021-10-31T13:26:19.270478Z",
     "iopub.status.idle": "2021-10-31T13:26:19.276432Z",
     "shell.execute_reply": "2021-10-31T13:26:19.275925Z"
    }
   },
   "outputs": [
    {
     "data": {
      "text/plain": [
       "3lbRRPpQjEh_wEXzw6DaCZx0VMQ"
      ]
     },
     "execution_count": 2,
     "metadata": {},
     "output_type": "execute_result"
    }
   ],
   "source": [
    "b  = Dseqrecord(\"agctactgactattaggggttattctgatcatctgatctactatctgactgtactgatcta\")\n",
    "l  = Dseqrecord(\"AGGCATCTACTG\")\n",
    "c  = Dseqrecord(\"tctgatctactatctgactgtactgatctattgacactgtgatcattctagtgtattactc\")\n",
    "(b+l+c).looped().cseguid()"
   ]
  },
  {
   "cell_type": "code",
   "execution_count": 3,
   "metadata": {
    "execution": {
     "iopub.execute_input": "2021-10-31T13:26:19.282020Z",
     "iopub.status.busy": "2021-10-31T13:26:19.280161Z",
     "iopub.status.idle": "2021-10-31T13:26:19.285015Z",
     "shell.execute_reply": "2021-10-31T13:26:19.284629Z"
    }
   },
   "outputs": [
    {
     "data": {
      "text/plain": [
       "Dseqrecord(-12)"
      ]
     },
     "execution_count": 3,
     "metadata": {},
     "output_type": "execute_result"
    }
   ],
   "source": [
    "l"
   ]
  },
  {
   "cell_type": "code",
   "execution_count": 4,
   "metadata": {
    "execution": {
     "iopub.execute_input": "2021-10-31T13:26:19.291689Z",
     "iopub.status.busy": "2021-10-31T13:26:19.290996Z",
     "iopub.status.idle": "2021-10-31T13:26:19.310330Z",
     "shell.execute_reply": "2021-10-31T13:26:19.309827Z"
    }
   },
   "outputs": [],
   "source": [
    "frags = assembly_fragments( (primer_design(b), l, primer_design(c), primer_design(b)), 1)"
   ]
  },
  {
   "cell_type": "code",
   "execution_count": 5,
   "metadata": {
    "execution": {
     "iopub.execute_input": "2021-10-31T13:26:19.315170Z",
     "iopub.status.busy": "2021-10-31T13:26:19.314691Z",
     "iopub.status.idle": "2021-10-31T13:26:19.316750Z",
     "shell.execute_reply": "2021-10-31T13:26:19.316372Z"
    }
   },
   "outputs": [],
   "source": [
    "b2 = pcr(frags[-1].forward_primer, frags[0].reverse_primer, b)"
   ]
  },
  {
   "cell_type": "code",
   "execution_count": 6,
   "metadata": {
    "execution": {
     "iopub.execute_input": "2021-10-31T13:26:19.321727Z",
     "iopub.status.busy": "2021-10-31T13:26:19.321055Z",
     "iopub.status.idle": "2021-10-31T13:26:19.325871Z",
     "shell.execute_reply": "2021-10-31T13:26:19.326416Z"
    }
   },
   "outputs": [
    {
     "data": {
      "text/plain": [
       " 5agctactgactattaggg...ctatctgactgtactgatcta3\n",
       "                       |||||||||||||||||||||\n",
       "                      3gatagactgacatgactagatTCCGTAG5\n",
       "5cagctactgactattaggg3\n",
       "  ||||||||||||||||||\n",
       " 3tcgatgactgataatccc...gatagactgacatgactagat5"
      ]
     },
     "execution_count": 6,
     "metadata": {},
     "output_type": "execute_result"
    }
   ],
   "source": [
    "b2.figure()"
   ]
  },
  {
   "cell_type": "code",
   "execution_count": 7,
   "metadata": {
    "execution": {
     "iopub.execute_input": "2021-10-31T13:26:19.332570Z",
     "iopub.status.busy": "2021-10-31T13:26:19.331564Z",
     "iopub.status.idle": "2021-10-31T13:26:19.335942Z",
     "shell.execute_reply": "2021-10-31T13:26:19.335314Z"
    }
   },
   "outputs": [
    {
     "data": {
      "text/plain": [
       "       5tctgatctactatctgactg...tgatcattctagtgtattactc3\n",
       "                               ||||||||||||||||||||||\n",
       "                              3actagtaagatcacataatgagt5\n",
       "5TCTACTGtctgatctactatctgactg3\n",
       "        ||||||||||||||||||||\n",
       "       3agactagatgatagactgac...actagtaagatcacataatgag5"
      ]
     },
     "execution_count": 7,
     "metadata": {},
     "output_type": "execute_result"
    }
   ],
   "source": [
    "frags[1].figure()"
   ]
  },
  {
   "cell_type": "code",
   "execution_count": 8,
   "metadata": {
    "execution": {
     "iopub.execute_input": "2021-10-31T13:26:19.341334Z",
     "iopub.status.busy": "2021-10-31T13:26:19.340248Z",
     "iopub.status.idle": "2021-10-31T13:26:19.342586Z",
     "shell.execute_reply": "2021-10-31T13:26:19.343082Z"
    }
   },
   "outputs": [],
   "source": [
    "from pydna.common_sub_strings import terminal_overlap"
   ]
  },
  {
   "cell_type": "code",
   "execution_count": 9,
   "metadata": {
    "execution": {
     "iopub.execute_input": "2021-10-31T13:26:19.357393Z",
     "iopub.status.busy": "2021-10-31T13:26:19.356637Z",
     "iopub.status.idle": "2021-10-31T13:26:19.359637Z",
     "shell.execute_reply": "2021-10-31T13:26:19.359218Z"
    }
   },
   "outputs": [
    {
     "data": {
      "text/plain": [
       "Assembly\n",
       "fragments..: 69bp 69bp\n",
       "limit(bp)..: 1\n",
       "G.nodes....: 4\n",
       "algorithm..: terminal_overlap"
      ]
     },
     "execution_count": 9,
     "metadata": {},
     "output_type": "execute_result"
    }
   ],
   "source": [
    "asm2 = Assembly( (b2, frags[1]), limit=1, algorithm = terminal_overlap)\n",
    "asm2"
   ]
  },
  {
   "cell_type": "code",
   "execution_count": 10,
   "metadata": {
    "execution": {
     "iopub.execute_input": "2021-10-31T13:26:19.363619Z",
     "iopub.status.busy": "2021-10-31T13:26:19.363101Z",
     "iopub.status.idle": "2021-10-31T13:26:19.521601Z",
     "shell.execute_reply": "2021-10-31T13:26:19.521994Z"
    }
   },
   "outputs": [
    {
     "data": {
      "text/plain": [
       "3lbRRPpQjEh_wEXzw6DaCZx0VMQ"
      ]
     },
     "execution_count": 10,
     "metadata": {},
     "output_type": "execute_result"
    }
   ],
   "source": [
    "asm2.assemble_circular()[0].cseguid()"
   ]
  },
  {
   "cell_type": "code",
   "execution_count": 11,
   "metadata": {
    "execution": {
     "iopub.execute_input": "2021-10-31T13:26:19.527001Z",
     "iopub.status.busy": "2021-10-31T13:26:19.526549Z",
     "iopub.status.idle": "2021-10-31T13:26:19.533825Z",
     "shell.execute_reply": "2021-10-31T13:26:19.533226Z"
    }
   },
   "outputs": [
    {
     "data": {
      "text/plain": [
       " -|69bp_PCR_prod| 2\n",
       "|                \\/\n",
       "|                /\\\n",
       "|                 2|69bp_PCR_prod| 2\n",
       "|                                 \\/\n",
       "|                                 /\\\n",
       "|                                  2-\n",
       "|                                    |\n",
       " ------------------------------------"
      ]
     },
     "execution_count": 11,
     "metadata": {},
     "output_type": "execute_result"
    }
   ],
   "source": [
    "asm2.assemble_circular()[0].figure()"
   ]
  },
  {
   "cell_type": "code",
   "execution_count": 12,
   "metadata": {
    "execution": {
     "iopub.execute_input": "2021-10-31T13:26:19.544144Z",
     "iopub.status.busy": "2021-10-31T13:26:19.543301Z",
     "iopub.status.idle": "2021-10-31T13:26:19.545388Z",
     "shell.execute_reply": "2021-10-31T13:26:19.546015Z"
    }
   },
   "outputs": [],
   "source": [
    "frags = assembly_fragments( (b, l, primer_design(c)), 1)"
   ]
  },
  {
   "cell_type": "code",
   "execution_count": 13,
   "metadata": {
    "execution": {
     "iopub.execute_input": "2021-10-31T13:26:19.552241Z",
     "iopub.status.busy": "2021-10-31T13:26:19.551714Z",
     "iopub.status.idle": "2021-10-31T13:26:19.556331Z",
     "shell.execute_reply": "2021-10-31T13:26:19.557002Z"
    }
   },
   "outputs": [
    {
     "data": {
      "text/plain": [
       "[Dseqrecord(-61), Amplicon(74)]"
      ]
     },
     "execution_count": 13,
     "metadata": {},
     "output_type": "execute_result"
    }
   ],
   "source": [
    "frags"
   ]
  },
  {
   "cell_type": "code",
   "execution_count": 14,
   "metadata": {
    "execution": {
     "iopub.execute_input": "2021-10-31T13:26:19.564183Z",
     "iopub.status.busy": "2021-10-31T13:26:19.563191Z",
     "iopub.status.idle": "2021-10-31T13:26:19.567265Z",
     "shell.execute_reply": "2021-10-31T13:26:19.566725Z"
    }
   },
   "outputs": [
    {
     "data": {
      "text/plain": [
       "Dseq(-61)\n",
       "agct..tcta\n",
       "tcga..agat"
      ]
     },
     "execution_count": 14,
     "metadata": {},
     "output_type": "execute_result"
    }
   ],
   "source": [
    "frags[0].seq"
   ]
  },
  {
   "cell_type": "code",
   "execution_count": 15,
   "metadata": {
    "execution": {
     "iopub.execute_input": "2021-10-31T13:26:19.572711Z",
     "iopub.status.busy": "2021-10-31T13:26:19.572045Z",
     "iopub.status.idle": "2021-10-31T13:26:19.575091Z",
     "shell.execute_reply": "2021-10-31T13:26:19.575560Z"
    }
   },
   "outputs": [
    {
     "data": {
      "text/plain": [
       "             5tctgatctactatctgactg...tgatcattctagtgtattactc3\n",
       "                                     ||||||||||||||||||||||\n",
       "                                    3actagtaagatcacataatgag5\n",
       "5aAGGCATCTACTGtctgatctactatctgactg3\n",
       "              ||||||||||||||||||||\n",
       "             3agactagatgatagactgac...actagtaagatcacataatgag5"
      ]
     },
     "execution_count": 15,
     "metadata": {},
     "output_type": "execute_result"
    }
   ],
   "source": [
    "frags[1].figure()"
   ]
  }
 ],
 "metadata": {
  "anaconda-cloud": {},
  "kernelspec": {
   "display_name": "Python [conda env:bjorn38]",
   "language": "python",
   "name": "conda-env-bjorn38-py"
  },
  "language_info": {
   "codemirror_mode": {
    "name": "ipython",
    "version": 3
   },
   "file_extension": ".py",
   "mimetype": "text/x-python",
   "name": "python",
   "nbconvert_exporter": "python",
   "pygments_lexer": "ipython3",
   "version": "3.9.7"
  }
 },
 "nbformat": 4,
 "nbformat_minor": 4
}
