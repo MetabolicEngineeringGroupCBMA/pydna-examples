{
 "cells": [
  {
   "cell_type": "markdown",
   "metadata": {},
   "source": [
    "# Primer screening with pydna\n",
    "\n",
    "This notebook shown how to screen a list of primers against a DNA sequence to find primers that bind the sequence. \n",
    "\n",
    "In this example, the built in primer list and ApE is used. The correct path for both ApE and the primer list has to be added to the pydna.ini file. See an example below.\n",
    "\n",
    "![pydna_ini](pydna_ini.png)\n",
    "\n",
    "To open the config folder, call this function:"
   ]
  },
  {
   "cell_type": "code",
   "execution_count": 1,
   "metadata": {
    "execution": {
     "iopub.execute_input": "2021-10-31T13:27:10.062008Z",
     "iopub.status.busy": "2021-10-31T13:27:10.060445Z",
     "iopub.status.idle": "2021-10-31T13:27:10.163941Z",
     "shell.execute_reply": "2021-10-31T13:27:10.165762Z"
    }
   },
   "outputs": [],
   "source": [
    "from pydna import open_config_folder"
   ]
  },
  {
   "cell_type": "code",
   "execution_count": 2,
   "metadata": {
    "execution": {
     "iopub.execute_input": "2021-10-31T13:27:10.184638Z",
     "iopub.status.busy": "2021-10-31T13:27:10.182287Z",
     "iopub.status.idle": "2021-10-31T13:27:10.235887Z",
     "shell.execute_reply": "2021-10-31T13:27:10.237423Z"
    }
   },
   "outputs": [],
   "source": [
    "# NBVAL_SKIP\n",
    "open_config_folder()"
   ]
  },
  {
   "cell_type": "markdown",
   "metadata": {},
   "source": [
    "if necessary, add a line like:\n",
    "\n",
    "    ape=tclsh /home/bjorn/.ApE/apeextractor/ApE.vfs/lib/app-AppMain/AppMain.tcl\n",
    "\n",
    "and:\n",
    "\n",
    "    primers=/home/bjorn/Dropbox/wikidata/Primers.txt\n",
    "\n",
    "The text file containing primer has to contain sequences in fasta or Genbank format."
   ]
  },
  {
   "cell_type": "code",
   "execution_count": 3,
   "metadata": {
    "execution": {
     "iopub.execute_input": "2021-10-31T13:27:10.245917Z",
     "iopub.status.busy": "2021-10-31T13:27:10.244930Z",
     "iopub.status.idle": "2021-10-31T13:27:10.899752Z",
     "shell.execute_reply": "2021-10-31T13:27:10.901253Z"
    }
   },
   "outputs": [],
   "source": [
    "from pydna.readers import read"
   ]
  },
  {
   "cell_type": "code",
   "execution_count": 4,
   "metadata": {
    "execution": {
     "iopub.execute_input": "2021-10-31T13:27:10.922097Z",
     "iopub.status.busy": "2021-10-31T13:27:10.919937Z",
     "iopub.status.idle": "2021-10-31T13:27:10.974107Z",
     "shell.execute_reply": "2021-10-31T13:27:10.978574Z"
    }
   },
   "outputs": [],
   "source": [
    "dna = read(\"pYPKa.gb\")"
   ]
  },
  {
   "cell_type": "code",
   "execution_count": 5,
   "metadata": {
    "execution": {
     "iopub.execute_input": "2021-10-31T13:27:10.983292Z",
     "iopub.status.busy": "2021-10-31T13:27:10.982326Z",
     "iopub.status.idle": "2021-10-31T13:27:10.991396Z",
     "shell.execute_reply": "2021-10-31T13:27:10.992477Z"
    }
   },
   "outputs": [],
   "source": [
    "# NBVAL_SKIP\n",
    "from pydna.myprimers import PrimerList\n",
    "from pydna.amplify import Anneal"
   ]
  },
  {
   "cell_type": "code",
   "execution_count": 6,
   "metadata": {
    "execution": {
     "iopub.execute_input": "2021-10-31T13:27:10.996494Z",
     "iopub.status.busy": "2021-10-31T13:27:10.995668Z",
     "iopub.status.idle": "2021-10-31T13:27:11.192637Z",
     "shell.execute_reply": "2021-10-31T13:27:11.192177Z"
    }
   },
   "outputs": [],
   "source": [
    "# NBVAL_SKIP\n",
    "list_primers=PrimerList()"
   ]
  },
  {
   "cell_type": "code",
   "execution_count": 7,
   "metadata": {
    "execution": {
     "iopub.execute_input": "2021-10-31T13:27:11.236643Z",
     "iopub.status.busy": "2021-10-31T13:27:11.231437Z",
     "iopub.status.idle": "2021-10-31T13:27:11.855477Z",
     "shell.execute_reply": "2021-10-31T13:27:11.854979Z"
    }
   },
   "outputs": [],
   "source": [
    "# NBVAL_SKIP\n",
    "ann = Anneal(list_primers, dna)"
   ]
  },
  {
   "cell_type": "code",
   "execution_count": 8,
   "metadata": {
    "execution": {
     "iopub.execute_input": "2021-10-31T13:27:11.862078Z",
     "iopub.status.busy": "2021-10-31T13:27:11.861518Z",
     "iopub.status.idle": "2021-10-31T13:27:11.865024Z",
     "shell.execute_reply": "2021-10-31T13:27:11.864511Z"
    }
   },
   "outputs": [],
   "source": [
    "# NBVAL_SKIP\n",
    "from pydna.editor import ape"
   ]
  },
  {
   "cell_type": "code",
   "execution_count": 9,
   "metadata": {
    "execution": {
     "iopub.execute_input": "2021-10-31T13:27:11.875030Z",
     "iopub.status.busy": "2021-10-31T13:27:11.873601Z",
     "iopub.status.idle": "2021-10-31T13:27:12.392458Z",
     "shell.execute_reply": "2021-10-31T13:27:12.393179Z"
    }
   },
   "outputs": [],
   "source": [
    "# NBVAL_SKIP\n",
    "ape(ann.template)"
   ]
  },
  {
   "cell_type": "markdown",
   "metadata": {},
   "source": [
    "The command above should open the template sequence in ape like this:\n",
    "\n",
    "![ape](ape_primer_screen.png)\n",
    "\n",
    "Forward primers are marked in green.\n",
    "Reverse primers are maked in red.\n",
    "Only the annealing part of the primer is visible."
   ]
  }
 ],
 "metadata": {
  "anaconda-cloud": {},
  "kernelspec": {
   "display_name": "Python [conda env:bjorn38]",
   "language": "python",
   "name": "conda-env-bjorn38-py"
  },
  "language_info": {
   "codemirror_mode": {
    "name": "ipython",
    "version": 3
   },
   "file_extension": ".py",
   "mimetype": "text/x-python",
   "name": "python",
   "nbconvert_exporter": "python",
   "pygments_lexer": "ipython3",
   "version": "3.9.7"
  }
 },
 "nbformat": 4,
 "nbformat_minor": 4
}
