{
 "cells": [
  {
   "cell_type": "markdown",
   "metadata": {},
   "source": [
    "# Primer screening with pydna\n",
    "\n",
    "This notebook shown how to screen a list of primers against a DNA sequence to find primers that bind the sequence. \n",
    "\n",
    "In this example, the built in primer list and ApE is used. The correct path for both ApE and the primer list has to be added to the pydna.ini file. See an example below.\n",
    "\n",
    "![pydna_ini](pydna_ini.png)\n",
    "\n",
    "To open the config folder, call this function:"
   ]
  },
  {
   "cell_type": "code",
   "execution_count": 1,
   "metadata": {
    "execution": {
     "iopub.execute_input": "2021-09-18T07:46:36.664805Z",
     "iopub.status.busy": "2021-09-18T07:46:36.663989Z",
     "iopub.status.idle": "2021-09-18T07:46:36.719290Z",
     "shell.execute_reply": "2021-09-18T07:46:36.718743Z"
    }
   },
   "outputs": [],
   "source": [
    "from pydna import open_config_folder"
   ]
  },
  {
   "cell_type": "code",
   "execution_count": 2,
   "metadata": {
    "execution": {
     "iopub.execute_input": "2021-09-18T07:46:36.724456Z",
     "iopub.status.busy": "2021-09-18T07:46:36.723948Z",
     "iopub.status.idle": "2021-09-18T07:46:36.743743Z",
     "shell.execute_reply": "2021-09-18T07:46:36.743379Z"
    }
   },
   "outputs": [],
   "source": [
    "# NBVAL_SKIP\n",
    "open_config_folder()"
   ]
  },
  {
   "cell_type": "markdown",
   "metadata": {},
   "source": [
    "if necessary, add a line like:\n",
    "\n",
    "    ape=tclsh /home/bjorn/.ApE/apeextractor/ApE.vfs/lib/app-AppMain/AppMain.tcl\n",
    "\n",
    "and:\n",
    "\n",
    "    primers=/home/bjorn/Dropbox/wikidata/Primers.txt\n",
    "\n",
    "The text file containing primer has to contain sequences in fasta or Genbank format."
   ]
  },
  {
   "cell_type": "code",
   "execution_count": 3,
   "metadata": {
    "execution": {
     "iopub.execute_input": "2021-09-18T07:46:36.750995Z",
     "iopub.status.busy": "2021-09-18T07:46:36.749919Z",
     "iopub.status.idle": "2021-09-18T07:46:37.052426Z",
     "shell.execute_reply": "2021-09-18T07:46:37.057308Z"
    }
   },
   "outputs": [],
   "source": [
    "from pydna.readers import read"
   ]
  },
  {
   "cell_type": "code",
   "execution_count": 4,
   "metadata": {
    "execution": {
     "iopub.execute_input": "2021-09-18T07:46:37.063346Z",
     "iopub.status.busy": "2021-09-18T07:46:37.062323Z",
     "iopub.status.idle": "2021-09-18T07:46:37.090160Z",
     "shell.execute_reply": "2021-09-18T07:46:37.090771Z"
    }
   },
   "outputs": [],
   "source": [
    "dna = read(\"pYPKa.gb\")"
   ]
  },
  {
   "cell_type": "code",
   "execution_count": 5,
   "metadata": {
    "execution": {
     "iopub.execute_input": "2021-09-18T07:46:37.095718Z",
     "iopub.status.busy": "2021-09-18T07:46:37.094925Z",
     "iopub.status.idle": "2021-09-18T07:46:37.101360Z",
     "shell.execute_reply": "2021-09-18T07:46:37.102223Z"
    }
   },
   "outputs": [],
   "source": [
    "# NBVAL_SKIP\n",
    "from pydna.myprimers import PrimerList\n",
    "from pydna.amplify import Anneal"
   ]
  },
  {
   "cell_type": "code",
   "execution_count": 6,
   "metadata": {
    "execution": {
     "iopub.execute_input": "2021-09-18T07:46:37.106691Z",
     "iopub.status.busy": "2021-09-18T07:46:37.105830Z",
     "iopub.status.idle": "2021-09-18T07:46:37.300770Z",
     "shell.execute_reply": "2021-09-18T07:46:37.300255Z"
    }
   },
   "outputs": [],
   "source": [
    "# NBVAL_SKIP\n",
    "list_primers=PrimerList()"
   ]
  },
  {
   "cell_type": "code",
   "execution_count": 7,
   "metadata": {
    "execution": {
     "iopub.execute_input": "2021-09-18T07:46:37.333768Z",
     "iopub.status.busy": "2021-09-18T07:46:37.318241Z",
     "iopub.status.idle": "2021-09-18T07:46:37.915120Z",
     "shell.execute_reply": "2021-09-18T07:46:37.914607Z"
    }
   },
   "outputs": [],
   "source": [
    "# NBVAL_SKIP\n",
    "ann = Anneal(list_primers, dna)"
   ]
  },
  {
   "cell_type": "code",
   "execution_count": 8,
   "metadata": {
    "execution": {
     "iopub.execute_input": "2021-09-18T07:46:37.921533Z",
     "iopub.status.busy": "2021-09-18T07:46:37.920841Z",
     "iopub.status.idle": "2021-09-18T07:46:37.925021Z",
     "shell.execute_reply": "2021-09-18T07:46:37.924317Z"
    }
   },
   "outputs": [],
   "source": [
    "# NBVAL_SKIP\n",
    "from pydna.editor import ape"
   ]
  },
  {
   "cell_type": "code",
   "execution_count": 9,
   "metadata": {
    "execution": {
     "iopub.execute_input": "2021-09-18T07:46:37.934446Z",
     "iopub.status.busy": "2021-09-18T07:46:37.933759Z",
     "iopub.status.idle": "2021-09-18T07:46:38.448355Z",
     "shell.execute_reply": "2021-09-18T07:46:38.448763Z"
    }
   },
   "outputs": [],
   "source": [
    "# NBVAL_SKIP\n",
    "ape(ann.template)"
   ]
  },
  {
   "cell_type": "markdown",
   "metadata": {},
   "source": [
    "The command above should open the template sequence in ape like this:\n",
    "\n",
    "![ape](ape_primer_screen.png)\n",
    "\n",
    "Forward primers are marked in green.\n",
    "Reverse primers are maked in red.\n",
    "Only the annealing part of the primer is visible."
   ]
  }
 ],
 "metadata": {
  "anaconda-cloud": {},
  "kernelspec": {
   "display_name": "Python [conda env:bjorn38]",
   "language": "python",
   "name": "conda-env-bjorn38-py"
  },
  "language_info": {
   "codemirror_mode": {
    "name": "ipython",
    "version": 3
   },
   "file_extension": ".py",
   "mimetype": "text/x-python",
   "name": "python",
   "nbconvert_exporter": "python",
   "pygments_lexer": "ipython3",
   "version": "3.9.7"
  }
 },
 "nbformat": 4,
 "nbformat_minor": 4
}
