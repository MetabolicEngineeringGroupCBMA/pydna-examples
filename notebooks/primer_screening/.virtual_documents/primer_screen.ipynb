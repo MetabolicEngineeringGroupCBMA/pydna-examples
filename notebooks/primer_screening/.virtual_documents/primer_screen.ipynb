


from pydna import open_config_folder


# NBVAL_SKIP
open_config_folder()





from pydna.readers import read


dna = read("pYPKa.gb")


# NBVAL_SKIP
from pydna.myprimers import PrimerList
from pydna.amplify import Anneal


# NBVAL_SKIP
list_primers=PrimerList()


# NBVAL_SKIP
ann = Anneal(list_primers, dna)


# NBVAL_SKIP
from pydna.editor import ape


# NBVAL_SKIP
ape(ann.template)



