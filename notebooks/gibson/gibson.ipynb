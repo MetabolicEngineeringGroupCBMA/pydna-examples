{
 "cells": [
  {
   "cell_type": "markdown",
   "metadata": {},
   "source": [
    "# Gibson primer design & assembly\n",
    "\n",
    "This notebook describe primer design for assembly of linear DNA fragments by techniques like homologous recombination or Gibson assembly. The goal of this experiemtn is to create a Saccharomyces cerevisiae vector that expresses the cytochrome C1 gene CYC1 with a c-terminal GFP tag using the yeast expression vector p426GPD. We also would like to have a unique restriction site between the promoter in p426GPD (Which is the TDH3 promoter).\n",
    "\n",
    "This notebook designs the necessary primers for this experiment. For more inormation on Gibson assembly, addgene has a nice page [here](https://www.addgene.org/protocols/gibson-assembly/)."
   ]
  },
  {
   "cell_type": "markdown",
   "metadata": {},
   "source": [
    "The first step is to read the sequences from local files. The sequences can also be read directly from genbank using their accession numbers which are:\n",
    "\n",
    "* [V01298](https://www.ncbi.nlm.nih.gov/nuccore/V01298)\n",
    "* [AF298787](https://www.ncbi.nlm.nih.gov/nuccore/AF298787)\n",
    "* [DQ019861](https://www.ncbi.nlm.nih.gov/nuccore/DQ019861)"
   ]
  },
  {
   "cell_type": "code",
   "execution_count": 1,
   "metadata": {
    "collapsed": false,
    "execution": {
     "iopub.execute_input": "2021-09-18T07:46:14.731794Z",
     "iopub.status.busy": "2021-09-18T07:46:14.731307Z",
     "iopub.status.idle": "2021-09-18T07:46:15.054615Z",
     "shell.execute_reply": "2021-09-18T07:46:15.055003Z"
    },
    "jupyter": {
     "outputs_hidden": false
    }
   },
   "outputs": [],
   "source": [
    "from pydna.readers import read"
   ]
  },
  {
   "cell_type": "code",
   "execution_count": 2,
   "metadata": {
    "collapsed": false,
    "execution": {
     "iopub.execute_input": "2021-09-18T07:46:15.062788Z",
     "iopub.status.busy": "2021-09-18T07:46:15.061889Z",
     "iopub.status.idle": "2021-09-18T07:46:15.071009Z",
     "shell.execute_reply": "2021-09-18T07:46:15.070470Z"
    },
    "jupyter": {
     "outputs_hidden": false
    }
   },
   "outputs": [],
   "source": [
    "cyc1 = read(\"cyc1.gb\")"
   ]
  },
  {
   "cell_type": "code",
   "execution_count": 3,
   "metadata": {
    "collapsed": false,
    "execution": {
     "iopub.execute_input": "2021-09-18T07:46:15.079723Z",
     "iopub.status.busy": "2021-09-18T07:46:15.079052Z",
     "iopub.status.idle": "2021-09-18T07:46:15.082041Z",
     "shell.execute_reply": "2021-09-18T07:46:15.081666Z"
    },
    "jupyter": {
     "outputs_hidden": false
    }
   },
   "outputs": [
    {
     "data": {
      "text/html": [
       "<a href='cyc1.gb' target='_blank'>cyc1.gb</a><br>"
      ],
      "text/plain": [
       "File(CYC1)(-330)"
      ]
     },
     "execution_count": 3,
     "metadata": {},
     "output_type": "execute_result"
    }
   ],
   "source": [
    "cyc1"
   ]
  },
  {
   "cell_type": "markdown",
   "metadata": {},
   "source": [
    "The cyc1.gb sequence file only contains the ORF, so we can use it directly. The sequence file can be inspected using the ling above."
   ]
  },
  {
   "cell_type": "code",
   "execution_count": 4,
   "metadata": {
    "collapsed": false,
    "execution": {
     "iopub.execute_input": "2021-09-18T07:46:15.086364Z",
     "iopub.status.busy": "2021-09-18T07:46:15.085774Z",
     "iopub.status.idle": "2021-09-18T07:46:15.088876Z",
     "shell.execute_reply": "2021-09-18T07:46:15.089422Z"
    },
    "jupyter": {
     "outputs_hidden": false
    }
   },
   "outputs": [
    {
     "data": {
      "text/plain": [
       "True"
      ]
     },
     "execution_count": 4,
     "metadata": {},
     "output_type": "execute_result"
    }
   ],
   "source": [
    "cyc1.isorf()"
   ]
  },
  {
   "cell_type": "code",
   "execution_count": 5,
   "metadata": {
    "collapsed": true,
    "execution": {
     "iopub.execute_input": "2021-09-18T07:46:15.097921Z",
     "iopub.status.busy": "2021-09-18T07:46:15.093238Z",
     "iopub.status.idle": "2021-09-18T07:46:15.100897Z",
     "shell.execute_reply": "2021-09-18T07:46:15.100316Z"
    },
    "jupyter": {
     "outputs_hidden": true
    }
   },
   "outputs": [],
   "source": [
    "pUG35 = read(\"pUG35.gb\")"
   ]
  },
  {
   "cell_type": "code",
   "execution_count": 6,
   "metadata": {
    "collapsed": false,
    "execution": {
     "iopub.execute_input": "2021-09-18T07:46:15.105904Z",
     "iopub.status.busy": "2021-09-18T07:46:15.104816Z",
     "iopub.status.idle": "2021-09-18T07:46:15.108782Z",
     "shell.execute_reply": "2021-09-18T07:46:15.109219Z"
    },
    "jupyter": {
     "outputs_hidden": false
    }
   },
   "outputs": [
    {
     "data": {
      "text/html": [
       "<a href='pUG35.gb' target='_blank'>pUG35.gb</a><br>"
      ],
      "text/plain": [
       "File(AF298787.1)(o6231)"
      ]
     },
     "execution_count": 6,
     "metadata": {},
     "output_type": "execute_result"
    }
   ],
   "source": [
    "pUG35"
   ]
  },
  {
   "cell_type": "code",
   "execution_count": 7,
   "metadata": {
    "collapsed": true,
    "execution": {
     "iopub.execute_input": "2021-09-18T07:46:15.113992Z",
     "iopub.status.busy": "2021-09-18T07:46:15.113415Z",
     "iopub.status.idle": "2021-09-18T07:46:15.115609Z",
     "shell.execute_reply": "2021-09-18T07:46:15.116190Z"
    },
    "jupyter": {
     "outputs_hidden": true
    }
   },
   "outputs": [],
   "source": [
    "p426GPD = read(\"p426GPD.gb\")"
   ]
  },
  {
   "cell_type": "code",
   "execution_count": 8,
   "metadata": {
    "collapsed": false,
    "execution": {
     "iopub.execute_input": "2021-09-18T07:46:15.122366Z",
     "iopub.status.busy": "2021-09-18T07:46:15.121317Z",
     "iopub.status.idle": "2021-09-18T07:46:15.125016Z",
     "shell.execute_reply": "2021-09-18T07:46:15.125704Z"
    },
    "jupyter": {
     "outputs_hidden": false
    }
   },
   "outputs": [
    {
     "data": {
      "text/html": [
       "<a href='p426GPD.gb' target='_blank'>p426GPD.gb</a><br>"
      ],
      "text/plain": [
       "File(-)(o6606)"
      ]
     },
     "execution_count": 8,
     "metadata": {},
     "output_type": "execute_result"
    }
   ],
   "source": [
    "p426GPD"
   ]
  },
  {
   "cell_type": "markdown",
   "metadata": {},
   "source": [
    "The pUG35 is a plasmid containing the GFP gene. We have to find the exact DNA fragment we want. The pUG35 genbank file contains features, one of which is the GFP ORF. Inspection in ApE concluded that the feature number 5 in the list below is the GFP ORF."
   ]
  },
  {
   "cell_type": "code",
   "execution_count": 9,
   "metadata": {
    "collapsed": false,
    "execution": {
     "iopub.execute_input": "2021-09-18T07:46:15.131883Z",
     "iopub.status.busy": "2021-09-18T07:46:15.130941Z",
     "iopub.status.idle": "2021-09-18T07:46:15.144204Z",
     "shell.execute_reply": "2021-09-18T07:46:15.143678Z"
    },
    "jupyter": {
     "outputs_hidden": false
    }
   },
   "outputs": [
    {
     "data": {
      "text/markdown": [
       "| Ft# | Label or Note    | Dir | Sta  | End  |  Len | type         | orf? |\n",
       "|-----|------------------|-----|------|------|------|--------------|------|\n",
       "|   0 | N:derived from S | --> | 0    | 6231 | 6231 | source       |  no  |\n",
       "|   1 | nd               | --> | 416  | 1220 |  804 | gene         | yes  |\n",
       "|   2 | nd               | --> | 416  | 1220 |  804 | CDS          | yes  |\n",
       "|   3 | N:from CYC1      | --> | 2003 | 2262 |  259 | terminator   |  no  |\n",
       "|   4 | nd               | <-- | 2270 | 2987 |  717 | gene         | yes  |\n",
       "|   5 | nd               | <-- | 2270 | 2987 |  717 | CDS          | yes  |\n",
       "|   6 | N:from MET25     | --> | 3050 | 3443 |  393 | promoter     |  no  |\n",
       "|   7 | nd               | --> | 3881 | 3954 |   73 | rep_origin   |  no  |\n",
       "|   8 | nd               | <-- | 4656 | 5517 |  861 | gene         | yes  |\n",
       "|   9 | nd               | <-- | 4656 | 5517 |  861 | CDS          | yes  |\n",
       "|  10 | N:CEN6/ARSH4     | --> | 5655 | 6170 |  515 | misc_feature |  no  |"
      ],
      "text/plain": [
       "+-----+------------------+-----+------+------+------+--------------+------+\n",
       "| Ft# | Label or Note    | Dir | Sta  | End  |  Len | type         | orf? |\n",
       "+-----+------------------+-----+------+------+------+--------------+------+\n",
       "|   0 | N:derived from S | --> | 0    | 6231 | 6231 | source       |  no  |\n",
       "|   1 | nd               | --> | 416  | 1220 |  804 | gene         | yes  |\n",
       "|   2 | nd               | --> | 416  | 1220 |  804 | CDS          | yes  |\n",
       "|   3 | N:from CYC1      | --> | 2003 | 2262 |  259 | terminator   |  no  |\n",
       "|   4 | nd               | <-- | 2270 | 2987 |  717 | gene         | yes  |\n",
       "|   5 | nd               | <-- | 2270 | 2987 |  717 | CDS          | yes  |\n",
       "|   6 | N:from MET25     | --> | 3050 | 3443 |  393 | promoter     |  no  |\n",
       "|   7 | nd               | --> | 3881 | 3954 |   73 | rep_origin   |  no  |\n",
       "|   8 | nd               | <-- | 4656 | 5517 |  861 | gene         | yes  |\n",
       "|   9 | nd               | <-- | 4656 | 5517 |  861 | CDS          | yes  |\n",
       "|  10 | N:CEN6/ARSH4     | --> | 5655 | 6170 |  515 | misc_feature |  no  |\n",
       "+-----+------------------+-----+------+------+------+--------------+------+"
      ]
     },
     "execution_count": 9,
     "metadata": {},
     "output_type": "execute_result"
    }
   ],
   "source": [
    "pUG35.list_features()"
   ]
  },
  {
   "cell_type": "markdown",
   "metadata": {},
   "source": [
    "We extract the GFP sequence from Feature #5. The GFP gene is on the antisense strand, but it is returned in the correct orientation:"
   ]
  },
  {
   "cell_type": "code",
   "execution_count": 10,
   "metadata": {
    "collapsed": true,
    "execution": {
     "iopub.execute_input": "2021-09-18T07:46:15.148028Z",
     "iopub.status.busy": "2021-09-18T07:46:15.147576Z",
     "iopub.status.idle": "2021-09-18T07:46:15.149569Z",
     "shell.execute_reply": "2021-09-18T07:46:15.150007Z"
    },
    "jupyter": {
     "outputs_hidden": true
    }
   },
   "outputs": [],
   "source": [
    "gfp=pUG35.extract_feature(5)"
   ]
  },
  {
   "cell_type": "code",
   "execution_count": 11,
   "metadata": {
    "collapsed": false,
    "execution": {
     "iopub.execute_input": "2021-09-18T07:46:15.155054Z",
     "iopub.status.busy": "2021-09-18T07:46:15.154521Z",
     "iopub.status.idle": "2021-09-18T07:46:15.156867Z",
     "shell.execute_reply": "2021-09-18T07:46:15.157275Z"
    },
    "jupyter": {
     "outputs_hidden": false
    }
   },
   "outputs": [
    {
     "data": {
      "text/plain": [
       "Dseq(-717)\n",
       "ATGT..ATAA\n",
       "TACA..TATT"
      ]
     },
     "execution_count": 11,
     "metadata": {},
     "output_type": "execute_result"
    }
   ],
   "source": [
    "gfp.seq"
   ]
  },
  {
   "cell_type": "code",
   "execution_count": 12,
   "metadata": {
    "collapsed": false,
    "execution": {
     "iopub.execute_input": "2021-09-18T07:46:15.161412Z",
     "iopub.status.busy": "2021-09-18T07:46:15.160758Z",
     "iopub.status.idle": "2021-09-18T07:46:15.163454Z",
     "shell.execute_reply": "2021-09-18T07:46:15.163071Z"
    },
    "jupyter": {
     "outputs_hidden": false
    }
   },
   "outputs": [
    {
     "data": {
      "text/plain": [
       "True"
      ]
     },
     "execution_count": 12,
     "metadata": {},
     "output_type": "execute_result"
    }
   ],
   "source": [
    "gfp.isorf()"
   ]
  },
  {
   "cell_type": "markdown",
   "metadata": {},
   "source": [
    "We need to linearize p426GPD vector before the assembly. The [SmaI](http://rebase.neb.com/rebase/enz/SmaI.html) restriction enzyme cuts between the promoter and the terminator. "
   ]
  },
  {
   "cell_type": "code",
   "execution_count": 13,
   "metadata": {
    "collapsed": true,
    "execution": {
     "iopub.execute_input": "2021-09-18T07:46:15.167203Z",
     "iopub.status.busy": "2021-09-18T07:46:15.166587Z",
     "iopub.status.idle": "2021-09-18T07:46:15.169187Z",
     "shell.execute_reply": "2021-09-18T07:46:15.169742Z"
    },
    "jupyter": {
     "outputs_hidden": true
    }
   },
   "outputs": [],
   "source": [
    "from Bio.Restriction import SmaI"
   ]
  },
  {
   "cell_type": "code",
   "execution_count": 14,
   "metadata": {
    "collapsed": false,
    "execution": {
     "iopub.execute_input": "2021-09-18T07:46:15.177505Z",
     "iopub.status.busy": "2021-09-18T07:46:15.176635Z",
     "iopub.status.idle": "2021-09-18T07:46:15.179631Z",
     "shell.execute_reply": "2021-09-18T07:46:15.178984Z"
    },
    "jupyter": {
     "outputs_hidden": false
    }
   },
   "outputs": [],
   "source": [
    "linear_vector= p426GPD.linearize(SmaI)"
   ]
  },
  {
   "cell_type": "code",
   "execution_count": 15,
   "metadata": {
    "collapsed": false,
    "execution": {
     "iopub.execute_input": "2021-09-18T07:46:15.185688Z",
     "iopub.status.busy": "2021-09-18T07:46:15.184504Z",
     "iopub.status.idle": "2021-09-18T07:46:15.188117Z",
     "shell.execute_reply": "2021-09-18T07:46:15.188632Z"
    },
    "jupyter": {
     "outputs_hidden": false
    }
   },
   "outputs": [
    {
     "data": {
      "text/plain": [
       "Dseqrecord(-6606)"
      ]
     },
     "execution_count": 15,
     "metadata": {},
     "output_type": "execute_result"
    }
   ],
   "source": [
    "linear_vector"
   ]
  },
  {
   "cell_type": "code",
   "execution_count": 16,
   "metadata": {
    "collapsed": true,
    "execution": {
     "iopub.execute_input": "2021-09-18T07:46:15.192901Z",
     "iopub.status.busy": "2021-09-18T07:46:15.192221Z",
     "iopub.status.idle": "2021-09-18T07:46:15.197753Z",
     "shell.execute_reply": "2021-09-18T07:46:15.197076Z"
    },
    "jupyter": {
     "outputs_hidden": true
    }
   },
   "outputs": [],
   "source": [
    "from pydna.design import primer_design"
   ]
  },
  {
   "cell_type": "markdown",
   "metadata": {},
   "source": [
    "We will amplify mosrt of the fragments using PCR, so we have to design primers first."
   ]
  },
  {
   "cell_type": "code",
   "execution_count": 17,
   "metadata": {
    "collapsed": true,
    "execution": {
     "iopub.execute_input": "2021-09-18T07:46:15.208214Z",
     "iopub.status.busy": "2021-09-18T07:46:15.207066Z",
     "iopub.status.idle": "2021-09-18T07:46:15.209774Z",
     "shell.execute_reply": "2021-09-18T07:46:15.210434Z"
    },
    "jupyter": {
     "outputs_hidden": true
    }
   },
   "outputs": [],
   "source": [
    "cyc1_amplicon = primer_design(cyc1)"
   ]
  },
  {
   "cell_type": "markdown",
   "metadata": {},
   "source": [
    "The primer_design function returns an Amplicon object which describes a PCR amplification:"
   ]
  },
  {
   "cell_type": "code",
   "execution_count": 18,
   "metadata": {
    "collapsed": false,
    "execution": {
     "iopub.execute_input": "2021-09-18T07:46:15.216349Z",
     "iopub.status.busy": "2021-09-18T07:46:15.215309Z",
     "iopub.status.idle": "2021-09-18T07:46:15.218494Z",
     "shell.execute_reply": "2021-09-18T07:46:15.219012Z"
    },
    "jupyter": {
     "outputs_hidden": false
    }
   },
   "outputs": [
    {
     "data": {
      "text/plain": [
       "5ATGACTGAATTCAAGGCC...TGAAAAAAGCCTGTGAGTAA3\n",
       "                      ||||||||||||||||||||\n",
       "                     3ACTTTTTTCGGACACTCATT5\n",
       "5ATGACTGAATTCAAGGCC3\n",
       " ||||||||||||||||||\n",
       "3TACTGACTTAAGTTCCGG...ACTTTTTTCGGACACTCATT5"
      ]
     },
     "execution_count": 18,
     "metadata": {},
     "output_type": "execute_result"
    }
   ],
   "source": [
    "cyc1_amplicon.figure()"
   ]
  },
  {
   "cell_type": "code",
   "execution_count": 19,
   "metadata": {
    "collapsed": true,
    "execution": {
     "iopub.execute_input": "2021-09-18T07:46:15.228114Z",
     "iopub.status.busy": "2021-09-18T07:46:15.227472Z",
     "iopub.status.idle": "2021-09-18T07:46:15.230590Z",
     "shell.execute_reply": "2021-09-18T07:46:15.230094Z"
    },
    "jupyter": {
     "outputs_hidden": true
    }
   },
   "outputs": [],
   "source": [
    "gfp_amplicon = primer_design(gfp)"
   ]
  },
  {
   "cell_type": "markdown",
   "metadata": {},
   "source": [
    "Then it is practical to collect all fragments to be assembled in a list or tuple. Note that below, the linear_vector appears both in the beginning and at the end. We do this since we would like to have a circular assembly."
   ]
  },
  {
   "cell_type": "code",
   "execution_count": 20,
   "metadata": {
    "collapsed": false,
    "execution": {
     "iopub.execute_input": "2021-09-18T07:46:15.234921Z",
     "iopub.status.busy": "2021-09-18T07:46:15.234328Z",
     "iopub.status.idle": "2021-09-18T07:46:15.236415Z",
     "shell.execute_reply": "2021-09-18T07:46:15.236889Z"
    },
    "jupyter": {
     "outputs_hidden": false
    }
   },
   "outputs": [],
   "source": [
    "fragments = ( linear_vector, cyc1_amplicon, gfp_amplicon, linear_vector )"
   ]
  },
  {
   "cell_type": "markdown",
   "metadata": {},
   "source": [
    "We would like to have a unique cutting enzyme befor the cyc1 gene, so we should try to find some that dont cut:"
   ]
  },
  {
   "cell_type": "code",
   "execution_count": 21,
   "metadata": {
    "collapsed": true,
    "execution": {
     "iopub.execute_input": "2021-09-18T07:46:15.243361Z",
     "iopub.status.busy": "2021-09-18T07:46:15.242132Z",
     "iopub.status.idle": "2021-09-18T07:46:15.245728Z",
     "shell.execute_reply": "2021-09-18T07:46:15.245234Z"
    },
    "jupyter": {
     "outputs_hidden": true
    }
   },
   "outputs": [],
   "source": [
    "from Bio.Restriction import BamHI"
   ]
  },
  {
   "cell_type": "code",
   "execution_count": 22,
   "metadata": {
    "collapsed": false,
    "execution": {
     "iopub.execute_input": "2021-09-18T07:46:15.251720Z",
     "iopub.status.busy": "2021-09-18T07:46:15.251098Z",
     "iopub.status.idle": "2021-09-18T07:46:15.254042Z",
     "shell.execute_reply": "2021-09-18T07:46:15.254483Z"
    },
    "jupyter": {
     "outputs_hidden": false
    }
   },
   "outputs": [
    {
     "name": "stdout",
     "output_type": "stream",
     "text": [
      "cuts!\n"
     ]
    }
   ],
   "source": [
    "if not any( x.cut(BamHI) for x in fragments ):\n",
    "    print(\"no cut!\")\n",
    "else:\n",
    "    print(\"cuts!\")"
   ]
  },
  {
   "cell_type": "code",
   "execution_count": 23,
   "metadata": {
    "collapsed": true,
    "execution": {
     "iopub.execute_input": "2021-09-18T07:46:15.258913Z",
     "iopub.status.busy": "2021-09-18T07:46:15.258066Z",
     "iopub.status.idle": "2021-09-18T07:46:15.260726Z",
     "shell.execute_reply": "2021-09-18T07:46:15.260231Z"
    },
    "jupyter": {
     "outputs_hidden": true
    }
   },
   "outputs": [],
   "source": [
    "from Bio.Restriction import NotI"
   ]
  },
  {
   "cell_type": "markdown",
   "metadata": {},
   "source": [
    "BamHI apparently cuts, lets try with NotI "
   ]
  },
  {
   "cell_type": "code",
   "execution_count": 24,
   "metadata": {
    "collapsed": false,
    "execution": {
     "iopub.execute_input": "2021-09-18T07:46:15.267658Z",
     "iopub.status.busy": "2021-09-18T07:46:15.266912Z",
     "iopub.status.idle": "2021-09-18T07:46:15.269710Z",
     "shell.execute_reply": "2021-09-18T07:46:15.270111Z"
    },
    "jupyter": {
     "outputs_hidden": false
    }
   },
   "outputs": [
    {
     "name": "stdout",
     "output_type": "stream",
     "text": [
      "no cut!\n"
     ]
    }
   ],
   "source": [
    "if not any( x.cut(NotI) for x in fragments ):\n",
    "    print(\"no cut!\")\n",
    "else:\n",
    "    print(\"cuts!\")"
   ]
  },
  {
   "cell_type": "markdown",
   "metadata": {},
   "source": [
    "NotI does not cut, lets use this!"
   ]
  },
  {
   "cell_type": "code",
   "execution_count": 25,
   "metadata": {
    "collapsed": true,
    "execution": {
     "iopub.execute_input": "2021-09-18T07:46:15.273339Z",
     "iopub.status.busy": "2021-09-18T07:46:15.272879Z",
     "iopub.status.idle": "2021-09-18T07:46:15.275367Z",
     "shell.execute_reply": "2021-09-18T07:46:15.274922Z"
    },
    "jupyter": {
     "outputs_hidden": true
    }
   },
   "outputs": [],
   "source": [
    "from pydna.dseqrecord import Dseqrecord"
   ]
  },
  {
   "cell_type": "code",
   "execution_count": 26,
   "metadata": {
    "collapsed": true,
    "execution": {
     "iopub.execute_input": "2021-09-18T07:46:15.279426Z",
     "iopub.status.busy": "2021-09-18T07:46:15.278731Z",
     "iopub.status.idle": "2021-09-18T07:46:15.281078Z",
     "shell.execute_reply": "2021-09-18T07:46:15.281622Z"
    },
    "jupyter": {
     "outputs_hidden": true
    }
   },
   "outputs": [],
   "source": [
    "site = Dseqrecord(NotI.site)"
   ]
  },
  {
   "cell_type": "code",
   "execution_count": 27,
   "metadata": {
    "collapsed": false,
    "execution": {
     "iopub.execute_input": "2021-09-18T07:46:15.287606Z",
     "iopub.status.busy": "2021-09-18T07:46:15.286853Z",
     "iopub.status.idle": "2021-09-18T07:46:15.290174Z",
     "shell.execute_reply": "2021-09-18T07:46:15.290742Z"
    },
    "jupyter": {
     "outputs_hidden": false
    }
   },
   "outputs": [
    {
     "data": {
      "text/plain": [
       "Dseq(-8)\n",
       "GCGGCCGC\n",
       "CGCCGGCG"
      ]
     },
     "execution_count": 27,
     "metadata": {},
     "output_type": "execute_result"
    }
   ],
   "source": [
    "site.seq"
   ]
  },
  {
   "cell_type": "code",
   "execution_count": 28,
   "metadata": {
    "collapsed": true,
    "execution": {
     "iopub.execute_input": "2021-09-18T07:46:15.295624Z",
     "iopub.status.busy": "2021-09-18T07:46:15.294924Z",
     "iopub.status.idle": "2021-09-18T07:46:15.298888Z",
     "shell.execute_reply": "2021-09-18T07:46:15.299490Z"
    },
    "jupyter": {
     "outputs_hidden": true
    }
   },
   "outputs": [],
   "source": [
    "from pydna.design import assembly_fragments"
   ]
  },
  {
   "cell_type": "code",
   "execution_count": 29,
   "metadata": {
    "collapsed": true,
    "execution": {
     "iopub.execute_input": "2021-09-18T07:46:15.304619Z",
     "iopub.status.busy": "2021-09-18T07:46:15.303761Z",
     "iopub.status.idle": "2021-09-18T07:46:15.307013Z",
     "shell.execute_reply": "2021-09-18T07:46:15.306416Z"
    },
    "jupyter": {
     "outputs_hidden": true
    }
   },
   "outputs": [],
   "source": [
    "linear_vector.locus = \"p426GPD\"\n",
    "cyc1_amplicon.locus = \"CYC1\"\n",
    "gfp_amplicon.locus = \"GFP\""
   ]
  },
  {
   "cell_type": "code",
   "execution_count": 30,
   "metadata": {
    "collapsed": false,
    "execution": {
     "iopub.execute_input": "2021-09-18T07:46:15.315928Z",
     "iopub.status.busy": "2021-09-18T07:46:15.315280Z",
     "iopub.status.idle": "2021-09-18T07:46:15.318452Z",
     "shell.execute_reply": "2021-09-18T07:46:15.317908Z"
    },
    "jupyter": {
     "outputs_hidden": false
    }
   },
   "outputs": [],
   "source": [
    "fragment_list = assembly_fragments((linear_vector, site, cyc1_amplicon,gfp_amplicon,linear_vector))"
   ]
  },
  {
   "cell_type": "code",
   "execution_count": 31,
   "metadata": {
    "collapsed": false,
    "execution": {
     "iopub.execute_input": "2021-09-18T07:46:15.322417Z",
     "iopub.status.busy": "2021-09-18T07:46:15.321789Z",
     "iopub.status.idle": "2021-09-18T07:46:15.324510Z",
     "shell.execute_reply": "2021-09-18T07:46:15.324133Z"
    },
    "jupyter": {
     "outputs_hidden": false
    }
   },
   "outputs": [
    {
     "data": {
      "text/plain": [
       "[Dseqrecord(-6606), Amplicon(391), Amplicon(770), Dseqrecord(-6606)]"
      ]
     },
     "execution_count": 31,
     "metadata": {},
     "output_type": "execute_result"
    }
   ],
   "source": [
    "fragment_list"
   ]
  },
  {
   "cell_type": "markdown",
   "metadata": {},
   "source": [
    "We note that the amplicons are now a little bit larger than before. The assembly_fragments function basically adds tails to the primers of amplicon objects to facilitate the assembly. The NotI site is small ,so it was incorporated in the formward PCR primer of the CYC1 Amplicon. We can see that the CYC1 primers are quite a bit longer:"
   ]
  },
  {
   "cell_type": "code",
   "execution_count": 32,
   "metadata": {
    "collapsed": false,
    "execution": {
     "iopub.execute_input": "2021-09-18T07:46:15.329500Z",
     "iopub.status.busy": "2021-09-18T07:46:15.328269Z",
     "iopub.status.idle": "2021-09-18T07:46:15.332220Z",
     "shell.execute_reply": "2021-09-18T07:46:15.332825Z"
    },
    "jupyter": {
     "outputs_hidden": false
    }
   },
   "outputs": [
    {
     "data": {
      "text/plain": [
       "                                           5ATGACTGAATTCAAGGCC...TGAAAAAAGCCTGTGAGTAA3\n",
       "                                                                 ||||||||||||||||||||\n",
       "                                                                3ACTTTTTTCGGACACTCATTTACAGATTTCCACTTCTT5\n",
       "5TAGTTTCGACGGATTCTAGAACTAGTGGATCCCCCGCGGCCGCATGACTGAATTCAAGGCC3\n",
       "                                            ||||||||||||||||||\n",
       "                                           3TACTGACTTAAGTTCCGG...ACTTTTTTCGGACACTCATT5"
      ]
     },
     "execution_count": 32,
     "metadata": {},
     "output_type": "execute_result"
    }
   ],
   "source": [
    "fragment_list[1].figure()"
   ]
  },
  {
   "cell_type": "markdown",
   "metadata": {},
   "source": [
    "Finally, we assemble the fragments using the Assembly class"
   ]
  },
  {
   "cell_type": "code",
   "execution_count": 33,
   "metadata": {
    "collapsed": true,
    "execution": {
     "iopub.execute_input": "2021-09-18T07:46:15.338159Z",
     "iopub.status.busy": "2021-09-18T07:46:15.337506Z",
     "iopub.status.idle": "2021-09-18T07:46:15.424777Z",
     "shell.execute_reply": "2021-09-18T07:46:15.424268Z"
    },
    "jupyter": {
     "outputs_hidden": true
    }
   },
   "outputs": [],
   "source": [
    "from pydna.assembly import Assembly"
   ]
  },
  {
   "cell_type": "markdown",
   "metadata": {},
   "source": [
    "We remove the final fragment, since we want a circular fragment. "
   ]
  },
  {
   "cell_type": "code",
   "execution_count": 34,
   "metadata": {
    "collapsed": true,
    "execution": {
     "iopub.execute_input": "2021-09-18T07:46:15.429320Z",
     "iopub.status.busy": "2021-09-18T07:46:15.428488Z",
     "iopub.status.idle": "2021-09-18T07:46:15.431217Z",
     "shell.execute_reply": "2021-09-18T07:46:15.430696Z"
    },
    "jupyter": {
     "outputs_hidden": true
    }
   },
   "outputs": [],
   "source": [
    "fragment_list = fragment_list[:-1]"
   ]
  },
  {
   "cell_type": "code",
   "execution_count": 35,
   "metadata": {
    "collapsed": false,
    "execution": {
     "iopub.execute_input": "2021-09-18T07:46:15.436157Z",
     "iopub.status.busy": "2021-09-18T07:46:15.435482Z",
     "iopub.status.idle": "2021-09-18T07:46:15.438775Z",
     "shell.execute_reply": "2021-09-18T07:46:15.439255Z"
    },
    "jupyter": {
     "outputs_hidden": false
    }
   },
   "outputs": [
    {
     "data": {
      "text/plain": [
       "[Dseqrecord(-6606), Amplicon(391), Amplicon(770)]"
      ]
     },
     "execution_count": 35,
     "metadata": {},
     "output_type": "execute_result"
    }
   ],
   "source": [
    "fragment_list"
   ]
  },
  {
   "cell_type": "code",
   "execution_count": 36,
   "metadata": {
    "collapsed": true,
    "execution": {
     "iopub.execute_input": "2021-09-18T07:46:15.497507Z",
     "iopub.status.busy": "2021-09-18T07:46:15.472219Z",
     "iopub.status.idle": "2021-09-18T07:46:15.760887Z",
     "shell.execute_reply": "2021-09-18T07:46:15.759986Z"
    },
    "jupyter": {
     "outputs_hidden": true
    }
   },
   "outputs": [],
   "source": [
    "asm = Assembly(fragment_list)"
   ]
  },
  {
   "cell_type": "code",
   "execution_count": 37,
   "metadata": {
    "collapsed": false,
    "execution": {
     "iopub.execute_input": "2021-09-18T07:46:15.767827Z",
     "iopub.status.busy": "2021-09-18T07:46:15.766793Z",
     "iopub.status.idle": "2021-09-18T07:46:15.776588Z",
     "shell.execute_reply": "2021-09-18T07:46:15.776097Z"
    },
    "jupyter": {
     "outputs_hidden": false
    }
   },
   "outputs": [
    {
     "data": {
      "text/plain": [
       "Assembly\n",
       "fragments..: 6606bp 391bp 770bp\n",
       "limit(bp)..: 25\n",
       "G.nodes....: 6\n",
       "algorithm..: common_sub_strings"
      ]
     },
     "execution_count": 37,
     "metadata": {},
     "output_type": "execute_result"
    }
   ],
   "source": [
    "asm"
   ]
  },
  {
   "cell_type": "code",
   "execution_count": 38,
   "metadata": {
    "collapsed": false,
    "execution": {
     "iopub.execute_input": "2021-09-18T07:46:15.781829Z",
     "iopub.status.busy": "2021-09-18T07:46:15.781222Z",
     "iopub.status.idle": "2021-09-18T07:46:15.965309Z",
     "shell.execute_reply": "2021-09-18T07:46:15.964799Z"
    },
    "jupyter": {
     "outputs_hidden": false
    }
   },
   "outputs": [],
   "source": [
    "candidate = asm.assemble_circular()[0]"
   ]
  },
  {
   "cell_type": "code",
   "execution_count": 39,
   "metadata": {
    "collapsed": false,
    "execution": {
     "iopub.execute_input": "2021-09-18T07:46:15.970483Z",
     "iopub.status.busy": "2021-09-18T07:46:15.969643Z",
     "iopub.status.idle": "2021-09-18T07:46:15.972693Z",
     "shell.execute_reply": "2021-09-18T07:46:15.973358Z"
    },
    "jupyter": {
     "outputs_hidden": false
    }
   },
   "outputs": [
    {
     "data": {
      "text/html": [
       "<pre> -|p426GPD|35\n",
       "|          \\/\n",
       "|          /\\\n",
       "|          35|391bp_PCR_prod|36\n",
       "|                            \\/\n",
       "|                            /\\\n",
       "|                            36|770bp_PCR_prod|35\n",
       "|                                              \\/\n",
       "|                                              /\\\n",
       "|                                              35-\n",
       "|                                                 |\n",
       " -------------------------------------------------</pre>"
      ],
      "text/plain": [
       "Contig(o7661)"
      ]
     },
     "execution_count": 39,
     "metadata": {},
     "output_type": "execute_result"
    }
   ],
   "source": [
    "candidate"
   ]
  },
  {
   "cell_type": "code",
   "execution_count": 40,
   "metadata": {
    "collapsed": true,
    "execution": {
     "iopub.execute_input": "2021-09-18T07:46:15.977125Z",
     "iopub.status.busy": "2021-09-18T07:46:15.976624Z",
     "iopub.status.idle": "2021-09-18T07:46:15.979086Z",
     "shell.execute_reply": "2021-09-18T07:46:15.979551Z"
    },
    "jupyter": {
     "outputs_hidden": true
    }
   },
   "outputs": [],
   "source": [
    "p426GPD_CYC1_GFP = candidate"
   ]
  },
  {
   "cell_type": "code",
   "execution_count": 41,
   "metadata": {
    "collapsed": false,
    "execution": {
     "iopub.execute_input": "2021-09-18T07:46:15.983667Z",
     "iopub.status.busy": "2021-09-18T07:46:15.982991Z",
     "iopub.status.idle": "2021-09-18T07:46:15.996204Z",
     "shell.execute_reply": "2021-09-18T07:46:15.995815Z"
    },
    "jupyter": {
     "outputs_hidden": false
    }
   },
   "outputs": [
    {
     "data": {
      "text/html": [
       "<font face=monospace><a href='p426GPD_CYC1_GFP.gb' target='_blank'>p426GPD_CYC1_GFP.gb</a></font><br>"
      ]
     },
     "metadata": {},
     "output_type": "display_data"
    }
   ],
   "source": [
    "p426GPD_CYC1_GFP.write(\"p426GPD_CYC1_GFP.gb\")"
   ]
  },
  {
   "cell_type": "code",
   "execution_count": 42,
   "metadata": {
    "collapsed": true,
    "execution": {
     "iopub.execute_input": "2021-09-18T07:46:15.999852Z",
     "iopub.status.busy": "2021-09-18T07:46:15.999357Z",
     "iopub.status.idle": "2021-09-18T07:46:16.002053Z",
     "shell.execute_reply": "2021-09-18T07:46:16.002536Z"
    },
    "jupyter": {
     "outputs_hidden": true
    }
   },
   "outputs": [],
   "source": [
    "from pydna.amplicon import Amplicon"
   ]
  },
  {
   "cell_type": "code",
   "execution_count": 43,
   "metadata": {
    "collapsed": false,
    "execution": {
     "iopub.execute_input": "2021-09-18T07:46:16.006444Z",
     "iopub.status.busy": "2021-09-18T07:46:16.005969Z",
     "iopub.status.idle": "2021-09-18T07:46:16.008037Z",
     "shell.execute_reply": "2021-09-18T07:46:16.008399Z"
    },
    "jupyter": {
     "outputs_hidden": false
    }
   },
   "outputs": [],
   "source": [
    "amplicons1 = [x for x in fragment_list if isinstance(x, Amplicon)]"
   ]
  },
  {
   "cell_type": "code",
   "execution_count": 44,
   "metadata": {
    "collapsed": false,
    "execution": {
     "iopub.execute_input": "2021-09-18T07:46:16.019167Z",
     "iopub.status.busy": "2021-09-18T07:46:16.018012Z",
     "iopub.status.idle": "2021-09-18T07:46:16.020252Z",
     "shell.execute_reply": "2021-09-18T07:46:16.018695Z"
    },
    "jupyter": {
     "outputs_hidden": false
    }
   },
   "outputs": [
    {
     "data": {
      "text/plain": [
       "[Amplicon(391), Amplicon(770)]"
      ]
     },
     "execution_count": 44,
     "metadata": {},
     "output_type": "execute_result"
    }
   ],
   "source": [
    "amplicons1"
   ]
  },
  {
   "cell_type": "code",
   "execution_count": 45,
   "metadata": {
    "collapsed": false,
    "execution": {
     "iopub.execute_input": "2021-09-18T07:46:16.025651Z",
     "iopub.status.busy": "2021-09-18T07:46:16.024785Z",
     "iopub.status.idle": "2021-09-18T07:46:16.026557Z",
     "shell.execute_reply": "2021-09-18T07:46:16.027238Z"
    },
    "jupyter": {
     "outputs_hidden": false
    }
   },
   "outputs": [],
   "source": [
    "# Get forward and reverse primer for each Amplicon\n",
    "primers1 = [(y.forward_primer, y.reverse_primer) for y in amplicons1]"
   ]
  },
  {
   "cell_type": "code",
   "execution_count": 46,
   "metadata": {
    "collapsed": false,
    "execution": {
     "iopub.execute_input": "2021-09-18T07:46:16.032461Z",
     "iopub.status.busy": "2021-09-18T07:46:16.031597Z",
     "iopub.status.idle": "2021-09-18T07:46:16.035539Z",
     "shell.execute_reply": "2021-09-18T07:46:16.036531Z"
    },
    "jupyter": {
     "outputs_hidden": false
    }
   },
   "outputs": [
    {
     "name": "stdout",
     "output_type": "stream",
     "text": [
      ">f330 CYC1\n",
      "TAGTTTCGACGGATTCTAGAACTAGTGGATCCCCCGCGGCCGCATGACTGAATTCAAGGC\n",
      "C\n",
      "\n",
      ">r330 CYC1\n",
      "TTCTTCACCTTTAGACATTTACTCACAGGCTTTTTTCA\n",
      "\n",
      "\n",
      ">f717 feat_AF2987871\n",
      "AAAAAAGCCTGTGAGTAAATGTCTAAAGGTGAAGAATTATT\n",
      "\n",
      ">r717 feat_AF2987871\n",
      "GTATCGATAAGCTTGATATCGAATTCCTGCAGCCCTTATTTGTACAATTCATCCATAC\n",
      "\n",
      "\n"
     ]
    }
   ],
   "source": [
    "# print primer pairs:\n",
    "for pair in primers1:\n",
    "    print(pair[0].format(\"fasta\"))\n",
    "    print(pair[1].format(\"fasta\"))\n",
    "    print()"
   ]
  }
 ],
 "metadata": {
  "anaconda-cloud": {},
  "kernelspec": {
   "display_name": "Python 3 (ipykernel)",
   "language": "python",
   "name": "python3"
  },
  "language_info": {
   "codemirror_mode": {
    "name": "ipython",
    "version": 3
   },
   "file_extension": ".py",
   "mimetype": "text/x-python",
   "name": "python",
   "nbconvert_exporter": "python",
   "pygments_lexer": "ipython3",
   "version": "3.9.7"
  }
 },
 "nbformat": 4,
 "nbformat_minor": 4
}
