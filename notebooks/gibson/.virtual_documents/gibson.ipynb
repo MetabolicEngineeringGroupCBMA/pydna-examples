





from pydna.readers import read


cyc1 = read("cyc1.gb")


cyc1





cyc1.isorf()


pUG35 = read("pUG35.gb")


pUG35


p426GPD = read("p426GPD.gb")


p426GPD





pUG35.list_features()





gfp=pUG35.extract_feature(5)


gfp.seq


gfp.isorf()





from Bio.Restriction import SmaI


linear_vector= p426GPD.linearize(SmaI)


linear_vector


from pydna.design import primer_design





cyc1_amplicon = primer_design(cyc1)





cyc1_amplicon.figure()


gfp_amplicon = primer_design(gfp)





fragments = ( linear_vector, cyc1_amplicon, gfp_amplicon, linear_vector )





from Bio.Restriction import BamHI


if not any( x.cut(BamHI) for x in fragments ):
    print("no cut!")
else:
    print("cuts!")


from Bio.Restriction import NotI





if not any( x.cut(NotI) for x in fragments ):
    print("no cut!")
else:
    print("cuts!")





from pydna.dseqrecord import Dseqrecord


site = Dseqrecord(NotI.site)


site.seq


from pydna.design import assembly_fragments


linear_vector.locus = "p426GPD"
cyc1_amplicon.locus = "CYC1"
gfp_amplicon.locus = "GFP"


fragment_list = assembly_fragments((linear_vector, site, cyc1_amplicon,gfp_amplicon,linear_vector))


fragment_list





fragment_list[1].figure()





from pydna.assembly import Assembly





fragment_list = fragment_list[:-1]


fragment_list


asm = Assembly(fragment_list)


asm


candidate = asm.assemble_circular()[0]


candidate


p426GPD_CYC1_GFP = candidate


p426GPD_CYC1_GFP.write("p426GPD_CYC1_GFP.gb")


from pydna.amplicon import Amplicon


amplicons1 = [x for x in fragment_list if isinstance(x, Amplicon)]


amplicons1


# Get forward and reverse primer for each Amplicon
primers1 = [(y.forward_primer, y.reverse_primer) for y in amplicons1]


# print primer pairs:
for pair in primers1:
    print(pair[0].format("fasta"))
    print(pair[1].format("fasta"))
    print()
