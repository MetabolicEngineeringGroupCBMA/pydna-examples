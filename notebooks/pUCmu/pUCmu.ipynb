{
 "cells": [
  {
   "cell_type": "markdown",
   "metadata": {},
   "source": [
    "# pUCmu \n",
    "\n",
    "the plasmid pUCmu might be the smallest recombinant E. coli plasmid vector available.\n",
    "\n",
    "This [question](/../references/What_is_the_smallest_plasmid_vector_available.html) on research gate from [here](https://www.researchgate.net/post/What_is_the_smallest_plasmid_vector_available) pointed to this resource:\n",
    "\n",
    "http://bccm.belspo.be/catalogues/lmbp-plasmids-plasmid-details?NM=pUCmu\n",
    "\n",
    "It is only 1669 bp long and has a MCS with the following enzymes:\n",
    "\n",
    "    NdeI\n",
    "    HpaI\n",
    "    NcoI\n",
    "    HindIII\n",
    "    PstI\n",
    "    SalI\n",
    "    XbaI\n",
    "    BamHI\n",
    "    XmaI\n",
    "    KpnI\n",
    "    SacI\n",
    "    EcoRI\n",
    "    EcoRV\n",
    "    XhoI\n",
    "    SpeI\n",
    "    ApaI"
   ]
  },
  {
   "cell_type": "code",
   "execution_count": 1,
   "metadata": {},
   "outputs": [],
   "source": [
    "from pydna.download import download_text"
   ]
  },
  {
   "cell_type": "code",
   "execution_count": 2,
   "metadata": {},
   "outputs": [],
   "source": [
    "text_16_MAR_2017 = download_text(\"http://bccm.belspo.be/catalogues/files/lmbp-plasmids/p9329.txt\")"
   ]
  },
  {
   "cell_type": "code",
   "execution_count": 3,
   "metadata": {},
   "outputs": [],
   "source": [
    "from pydna.readers import read"
   ]
  },
  {
   "cell_type": "code",
   "execution_count": 4,
   "metadata": {},
   "outputs": [],
   "source": [
    "pUCmu_2017 = read(text_16_MAR_2017)"
   ]
  },
  {
   "cell_type": "code",
   "execution_count": 5,
   "metadata": {},
   "outputs": [],
   "source": [
    "text_6_MAY_2019 = download_text(\"http://bccm.belspo.be/catalogues/files/lmbp-plasmids/p9329.gb\")"
   ]
  },
  {
   "cell_type": "code",
   "execution_count": 6,
   "metadata": {},
   "outputs": [],
   "source": [
    "pUCmu_2019 = read(text_6_MAY_2019)"
   ]
  },
  {
   "cell_type": "code",
   "execution_count": 7,
   "metadata": {},
   "outputs": [
    {
     "data": {
      "text/plain": [
       "Dseqrecord(o1669)"
      ]
     },
     "execution_count": 7,
     "metadata": {},
     "output_type": "execute_result"
    }
   ],
   "source": [
    "pUCmu_2017"
   ]
  },
  {
   "cell_type": "code",
   "execution_count": 8,
   "metadata": {},
   "outputs": [
    {
     "data": {
      "text/plain": [
       "Dseqrecord(o1669)"
      ]
     },
     "execution_count": 8,
     "metadata": {},
     "output_type": "execute_result"
    }
   ],
   "source": [
    "pUCmu_2019"
   ]
  },
  {
   "cell_type": "code",
   "execution_count": 9,
   "metadata": {},
   "outputs": [
    {
     "data": {
      "text/plain": [
       "(wonHpAgf0BcUTNAorUx1-Nkr7xs, wonHpAgf0BcUTNAorUx1-Nkr7xs)"
      ]
     },
     "execution_count": 9,
     "metadata": {},
     "output_type": "execute_result"
    }
   ],
   "source": [
    "pUCmu_2017.cseguid(), pUCmu_2019.cseguid()"
   ]
  },
  {
   "cell_type": "code",
   "execution_count": 10,
   "metadata": {},
   "outputs": [],
   "source": [
    "import warnings\n",
    "warnings.filterwarnings('ignore')"
   ]
  },
  {
   "cell_type": "code",
   "execution_count": 11,
   "metadata": {},
   "outputs": [
    {
     "data": {
      "text/html": [
       "<font face=monospace><a href='pUCmu_2019.gb' target='_blank'>pUCmu_2019.gb</a></font><br>"
      ]
     },
     "metadata": {},
     "output_type": "display_data"
    }
   ],
   "source": [
    "pUCmu_2019.write(\"pUCmu_2019.gb\")"
   ]
  }
 ],
 "metadata": {
  "anaconda-cloud": {},
  "kernelspec": {
   "display_name": "Python [conda env:bjorn37]",
   "language": "python",
   "name": "conda-env-bjorn37-py"
  },
  "language_info": {
   "codemirror_mode": {
    "name": "ipython",
    "version": 3
   },
   "file_extension": ".py",
   "mimetype": "text/x-python",
   "name": "python",
   "nbconvert_exporter": "python",
   "pygments_lexer": "ipython3",
   "version": "3.7.8"
  }
 },
 "nbformat": 4,
 "nbformat_minor": 4
}
