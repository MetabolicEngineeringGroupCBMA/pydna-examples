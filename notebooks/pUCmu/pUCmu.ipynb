{
 "cells": [
  {
   "cell_type": "markdown",
   "metadata": {},
   "source": [
    "# pUCmu \n",
    "\n",
    "the plasmid pUCmu might be the smallest recombinant E. coli plasmid vector available.\n",
    "\n",
    "This [question](/../references/What_is_the_smallest_plasmid_vector_available.html) on research gate from [here](https://www.researchgate.net/post/What_is_the_smallest_plasmid_vector_available) pointed to this resource:\n",
    "\n",
    "http://bccm.belspo.be/catalogues/lmbp-plasmids-plasmid-details?NM=pUCmu\n",
    "\n",
    "It is only 1669 bp long and has a MCS with the following enzymes:\n",
    "\n",
    "    NdeI\n",
    "    HpaI\n",
    "    NcoI\n",
    "    HindIII\n",
    "    PstI\n",
    "    SalI\n",
    "    XbaI\n",
    "    BamHI\n",
    "    XmaI\n",
    "    KpnI\n",
    "    SacI\n",
    "    EcoRI\n",
    "    EcoRV\n",
    "    XhoI\n",
    "    SpeI\n",
    "    ApaI"
   ]
  },
  {
   "cell_type": "code",
   "execution_count": 1,
   "metadata": {
    "execution": {
     "iopub.execute_input": "2021-09-18T07:46:41.480428Z",
     "iopub.status.busy": "2021-09-18T07:46:41.479774Z",
     "iopub.status.idle": "2021-09-18T07:46:41.572678Z",
     "shell.execute_reply": "2021-09-18T07:46:41.572230Z"
    }
   },
   "outputs": [],
   "source": [
    "from pydna.download import download_text"
   ]
  },
  {
   "cell_type": "code",
   "execution_count": 2,
   "metadata": {
    "execution": {
     "iopub.execute_input": "2021-09-18T07:46:41.580427Z",
     "iopub.status.busy": "2021-09-18T07:46:41.579776Z",
     "iopub.status.idle": "2021-09-18T07:46:41.990745Z",
     "shell.execute_reply": "2021-09-18T07:46:41.990283Z"
    }
   },
   "outputs": [],
   "source": [
    "text_16_MAR_2017 = download_text(\"http://bccm.belspo.be/catalogues/files/lmbp-plasmids/p9329.txt\")"
   ]
  },
  {
   "cell_type": "code",
   "execution_count": 3,
   "metadata": {
    "execution": {
     "iopub.execute_input": "2021-09-18T07:46:41.994652Z",
     "iopub.status.busy": "2021-09-18T07:46:41.994104Z",
     "iopub.status.idle": "2021-09-18T07:46:42.242688Z",
     "shell.execute_reply": "2021-09-18T07:46:42.242199Z"
    }
   },
   "outputs": [],
   "source": [
    "from pydna.readers import read"
   ]
  },
  {
   "cell_type": "code",
   "execution_count": 4,
   "metadata": {
    "execution": {
     "iopub.execute_input": "2021-09-18T07:46:42.277990Z",
     "iopub.status.busy": "2021-09-18T07:46:42.276989Z",
     "iopub.status.idle": "2021-09-18T07:46:42.285970Z",
     "shell.execute_reply": "2021-09-18T07:46:42.285565Z"
    }
   },
   "outputs": [],
   "source": [
    "pUCmu_2017 = read(text_16_MAR_2017)"
   ]
  },
  {
   "cell_type": "code",
   "execution_count": 5,
   "metadata": {
    "execution": {
     "iopub.execute_input": "2021-09-18T07:46:42.291399Z",
     "iopub.status.busy": "2021-09-18T07:46:42.290972Z",
     "iopub.status.idle": "2021-09-18T07:46:42.817398Z",
     "shell.execute_reply": "2021-09-18T07:46:42.816681Z"
    }
   },
   "outputs": [],
   "source": [
    "text_6_MAY_2019 = download_text(\"http://bccm.belspo.be/catalogues/files/lmbp-plasmids/p9329.gb\")"
   ]
  },
  {
   "cell_type": "code",
   "execution_count": 6,
   "metadata": {
    "execution": {
     "iopub.execute_input": "2021-09-18T07:46:42.849611Z",
     "iopub.status.busy": "2021-09-18T07:46:42.836208Z",
     "iopub.status.idle": "2021-09-18T07:46:42.852044Z",
     "shell.execute_reply": "2021-09-18T07:46:42.851513Z"
    }
   },
   "outputs": [],
   "source": [
    "pUCmu_2019 = read(text_6_MAY_2019)"
   ]
  },
  {
   "cell_type": "code",
   "execution_count": 7,
   "metadata": {
    "execution": {
     "iopub.execute_input": "2021-09-18T07:46:42.861214Z",
     "iopub.status.busy": "2021-09-18T07:46:42.860358Z",
     "iopub.status.idle": "2021-09-18T07:46:42.864069Z",
     "shell.execute_reply": "2021-09-18T07:46:42.863566Z"
    }
   },
   "outputs": [
    {
     "data": {
      "text/plain": [
       "Dseqrecord(o1669)"
      ]
     },
     "execution_count": 7,
     "metadata": {},
     "output_type": "execute_result"
    }
   ],
   "source": [
    "pUCmu_2017"
   ]
  },
  {
   "cell_type": "code",
   "execution_count": 8,
   "metadata": {
    "execution": {
     "iopub.execute_input": "2021-09-18T07:46:42.868803Z",
     "iopub.status.busy": "2021-09-18T07:46:42.868122Z",
     "iopub.status.idle": "2021-09-18T07:46:42.870997Z",
     "shell.execute_reply": "2021-09-18T07:46:42.871498Z"
    }
   },
   "outputs": [
    {
     "data": {
      "text/plain": [
       "Dseqrecord(o1669)"
      ]
     },
     "execution_count": 8,
     "metadata": {},
     "output_type": "execute_result"
    }
   ],
   "source": [
    "pUCmu_2019"
   ]
  },
  {
   "cell_type": "code",
   "execution_count": 9,
   "metadata": {
    "execution": {
     "iopub.execute_input": "2021-09-18T07:46:42.880737Z",
     "iopub.status.busy": "2021-09-18T07:46:42.880048Z",
     "iopub.status.idle": "2021-09-18T07:46:42.882751Z",
     "shell.execute_reply": "2021-09-18T07:46:42.883148Z"
    }
   },
   "outputs": [
    {
     "data": {
      "text/plain": [
       "(wonHpAgf0BcUTNAorUx1-Nkr7xs, wonHpAgf0BcUTNAorUx1-Nkr7xs)"
      ]
     },
     "execution_count": 9,
     "metadata": {},
     "output_type": "execute_result"
    }
   ],
   "source": [
    "pUCmu_2017.cseguid(), pUCmu_2019.cseguid()"
   ]
  },
  {
   "cell_type": "code",
   "execution_count": 10,
   "metadata": {
    "execution": {
     "iopub.execute_input": "2021-09-18T07:46:42.886483Z",
     "iopub.status.busy": "2021-09-18T07:46:42.886048Z",
     "iopub.status.idle": "2021-09-18T07:46:42.887739Z",
     "shell.execute_reply": "2021-09-18T07:46:42.888087Z"
    }
   },
   "outputs": [],
   "source": [
    "import warnings\n",
    "warnings.filterwarnings('ignore')"
   ]
  },
  {
   "cell_type": "code",
   "execution_count": 11,
   "metadata": {
    "execution": {
     "iopub.execute_input": "2021-09-18T07:46:42.904153Z",
     "iopub.status.busy": "2021-09-18T07:46:42.891369Z",
     "iopub.status.idle": "2021-09-18T07:46:42.906683Z",
     "shell.execute_reply": "2021-09-18T07:46:42.907041Z"
    }
   },
   "outputs": [
    {
     "data": {
      "text/html": [
       "<font face=monospace><a href='pUCmu_2019.gb' target='_blank'>pUCmu_2019.gb</a></font><br>"
      ]
     },
     "metadata": {},
     "output_type": "display_data"
    }
   ],
   "source": [
    "pUCmu_2019.write(\"pUCmu_2019.gb\")"
   ]
  }
 ],
 "metadata": {
  "anaconda-cloud": {},
  "kernelspec": {
   "display_name": "Python [conda env:bjorn37]",
   "language": "python",
   "name": "conda-env-bjorn37-py"
  },
  "language_info": {
   "codemirror_mode": {
    "name": "ipython",
    "version": 3
   },
   "file_extension": ".py",
   "mimetype": "text/x-python",
   "name": "python",
   "nbconvert_exporter": "python",
   "pygments_lexer": "ipython3",
   "version": "3.9.7"
  }
 },
 "nbformat": 4,
 "nbformat_minor": 4
}
