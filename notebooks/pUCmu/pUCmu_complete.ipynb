{
 "cells": [
  {
   "cell_type": "code",
   "execution_count": 1,
   "metadata": {
    "execution": {
     "iopub.execute_input": "2021-09-18T07:46:39.670287Z",
     "iopub.status.busy": "2021-09-18T07:46:39.669732Z",
     "iopub.status.idle": "2021-09-18T07:46:40.007440Z",
     "shell.execute_reply": "2021-09-18T07:46:40.006970Z"
    }
   },
   "outputs": [],
   "source": [
    "from pydna.parsers import parse_primers"
   ]
  },
  {
   "cell_type": "code",
   "execution_count": 2,
   "metadata": {
    "execution": {
     "iopub.execute_input": "2021-09-18T07:46:40.015920Z",
     "iopub.status.busy": "2021-09-18T07:46:40.015270Z",
     "iopub.status.idle": "2021-09-18T07:46:40.017330Z",
     "shell.execute_reply": "2021-09-18T07:46:40.017807Z"
    }
   },
   "outputs": [],
   "source": [
    "primer_text = \"\"\"\n",
    ">PUC18-dLacZ-F\n",
    "gccgttaacccatggccaagcttgcatgcctgcaggtcg \n",
    ">pUC18-dLacZ-R\n",
    "ccatatggcctcgcgacgcgttatgtatccgctcatgag\n",
    ">pUCmini-F\n",
    "gtgggcccgtttaaacacatgtgagcaaaaggccag\n",
    ">PUCmini-R\n",
    "tagtctcgaggatatccgaattcgagctcggtac\n",
    ">pUCmu-F\n",
    "taccaatgcttaatcagtgaggca\n",
    ">pUCmu-R\n",
    "agtagaaaagatcaaaggatcttct\n",
    ">pUcReFix-F\n",
    "attagctcgagactagtgggcccgtttaaacacatgtgtttttccataggctccg\n",
    ">pUcReFix-R\n",
    "ctaatctcgaggatatccgaattcgagctcggtacccgggatcctctagagtcgacctg\n",
    ">pICOz-dAMP-F\n",
    "ttcgtggccgaggagcaggactgacgtagaaaagatcaaaggatctt\n",
    ">pICOz-dAMP-R\n",
    "aacggcactggtcaacttggccatactcttcctttttcaatattat\n",
    ">PICOz-Zeo-F\n",
    "ataatattgaaaaaggaagagtatggccaagttgaccagtgccgtt\n",
    ">pICOz-Zeo-R\n",
    "aagatcctttgatcttttctacgtcagtcctgctcctcggccacgaa\"\"\""
   ]
  },
  {
   "cell_type": "code",
   "execution_count": 3,
   "metadata": {
    "execution": {
     "iopub.execute_input": "2021-09-18T07:46:40.022371Z",
     "iopub.status.busy": "2021-09-18T07:46:40.021789Z",
     "iopub.status.idle": "2021-09-18T07:46:40.031874Z",
     "shell.execute_reply": "2021-09-18T07:46:40.031302Z"
    }
   },
   "outputs": [],
   "source": [
    "primers = parse_primers(primer_text)"
   ]
  },
  {
   "cell_type": "code",
   "execution_count": 4,
   "metadata": {
    "execution": {
     "iopub.execute_input": "2021-09-18T07:46:40.037675Z",
     "iopub.status.busy": "2021-09-18T07:46:40.036789Z",
     "iopub.status.idle": "2021-09-18T07:46:40.040241Z",
     "shell.execute_reply": "2021-09-18T07:46:40.039461Z"
    }
   },
   "outputs": [],
   "source": [
    "(PUC18_dLacZ_F,\n",
    " pUC18_dLacZ_R,\n",
    " pUCmini_F,\n",
    " PUCmini_R,\n",
    " pUCmu_F,\n",
    " pUCmu_R,\n",
    " pUcReFix_F,\n",
    " pUcReFix_R,\n",
    " pICOz_dAMP_F,\n",
    " pICOz_dAMP_R,\n",
    " PICOz_Zeo_F,\n",
    " pICOz_Zeo_R) = primers"
   ]
  },
  {
   "cell_type": "code",
   "execution_count": 5,
   "metadata": {
    "execution": {
     "iopub.execute_input": "2021-09-18T07:46:40.044382Z",
     "iopub.status.busy": "2021-09-18T07:46:40.043799Z",
     "iopub.status.idle": "2021-09-18T07:46:40.047285Z",
     "shell.execute_reply": "2021-09-18T07:46:40.047751Z"
    }
   },
   "outputs": [],
   "source": [
    "from pydna.genbank import Genbank"
   ]
  },
  {
   "cell_type": "code",
   "execution_count": 6,
   "metadata": {
    "execution": {
     "iopub.execute_input": "2021-09-18T07:46:40.054474Z",
     "iopub.status.busy": "2021-09-18T07:46:40.053290Z",
     "iopub.status.idle": "2021-09-18T07:46:40.056454Z",
     "shell.execute_reply": "2021-09-18T07:46:40.057202Z"
    }
   },
   "outputs": [],
   "source": [
    "genbank = Genbank(\"bjornjobb@gmail.com\").nucleotide"
   ]
  },
  {
   "cell_type": "code",
   "execution_count": 7,
   "metadata": {
    "execution": {
     "iopub.execute_input": "2021-09-18T07:46:40.062976Z",
     "iopub.status.busy": "2021-09-18T07:46:40.061873Z",
     "iopub.status.idle": "2021-09-18T07:46:40.069435Z",
     "shell.execute_reply": "2021-09-18T07:46:40.068619Z"
    }
   },
   "outputs": [],
   "source": [
    "pUC18 = genbank(\"L08752.1\")"
   ]
  },
  {
   "cell_type": "code",
   "execution_count": 8,
   "metadata": {
    "execution": {
     "iopub.execute_input": "2021-09-18T07:46:40.077612Z",
     "iopub.status.busy": "2021-09-18T07:46:40.077028Z",
     "iopub.status.idle": "2021-09-18T07:46:40.079699Z",
     "shell.execute_reply": "2021-09-18T07:46:40.080083Z"
    }
   },
   "outputs": [
    {
     "data": {
      "text/html": [
       "<a href='https://www.ncbi.nlm.nih.gov/nuccore/L08752.1?from=&to=&strand=1' target='_blank'>L08752.1</a>"
      ],
      "text/plain": [
       "Gbank(L08752.1)(o2686)"
      ]
     },
     "execution_count": 8,
     "metadata": {},
     "output_type": "execute_result"
    }
   ],
   "source": [
    "pUC18"
   ]
  },
  {
   "cell_type": "code",
   "execution_count": 9,
   "metadata": {
    "execution": {
     "iopub.execute_input": "2021-09-18T07:46:40.083292Z",
     "iopub.status.busy": "2021-09-18T07:46:40.082836Z",
     "iopub.status.idle": "2021-09-18T07:46:40.089731Z",
     "shell.execute_reply": "2021-09-18T07:46:40.089162Z"
    }
   },
   "outputs": [
    {
     "data": {
      "text/html": [
       "<font face=monospace><a href='pUC18.gb' target='_blank'>pUC18.gb</a></font><br>"
      ]
     },
     "metadata": {},
     "output_type": "display_data"
    }
   ],
   "source": [
    "pUC18.write(\"pUC18.gb\")"
   ]
  },
  {
   "cell_type": "code",
   "execution_count": 10,
   "metadata": {
    "execution": {
     "iopub.execute_input": "2021-09-18T07:46:40.094718Z",
     "iopub.status.busy": "2021-09-18T07:46:40.092675Z",
     "iopub.status.idle": "2021-09-18T07:46:40.099143Z",
     "shell.execute_reply": "2021-09-18T07:46:40.098528Z"
    }
   },
   "outputs": [],
   "source": [
    "from pydna.amplify import pcr, Anneal"
   ]
  },
  {
   "cell_type": "code",
   "execution_count": 11,
   "metadata": {
    "execution": {
     "iopub.execute_input": "2021-09-18T07:46:40.107169Z",
     "iopub.status.busy": "2021-09-18T07:46:40.105747Z",
     "iopub.status.idle": "2021-09-18T07:46:40.113686Z",
     "shell.execute_reply": "2021-09-18T07:46:40.113086Z"
    }
   },
   "outputs": [],
   "source": [
    "pUC18ΔLacZ = pcr(PUC18_dLacZ_F, pUC18_dLacZ_R, pUC18).looped()"
   ]
  },
  {
   "cell_type": "code",
   "execution_count": 12,
   "metadata": {
    "execution": {
     "iopub.execute_input": "2021-09-18T07:46:40.117888Z",
     "iopub.status.busy": "2021-09-18T07:46:40.117270Z",
     "iopub.status.idle": "2021-09-18T07:46:40.119983Z",
     "shell.execute_reply": "2021-09-18T07:46:40.120399Z"
    }
   },
   "outputs": [
    {
     "name": "stdout",
     "output_type": "stream",
     "text": [
      "ccatatggcctcgcgacgcgtTATGTATCCGCTCATGAGACAATAACCCTGATAAATGCTTCAATAATATTGAAAAAGGAAGAGTATGAGTATTCAACATTTCCGTGTCGCCCTTATTCCCTTTTTTGCGGCATTTTGCCTTCCTGTTTTTGCTCACCCAGAAACGCTGGTGAAAGTAAAAGATGCTGAAGATCAGTTGGGTGCACGAGTGGGTTACATCGAACTGGATCTCAACAGCGGTAAGATCCTTGAGAGTTTTCGCCCCGAAGAACGTTTTCCAATGATGAGCACTTTTAAAGTTCTGCTATGTGGCGCGGTATTATCCCGTATTGACGCCGGGCAAGAGCAACTCGGTCGCCGCATACACTATTCTCAGAATGACTTGGTTGAGTACTCACCAGTCACAGAAAAGCATCTTACGGATGGCATGACAGTAAGAGAATTATGCAGTGCTGCCATAACCATGAGTGATAACACTGCGGCCAACTTACTTCTGACAACGATCGGAGGACCGAAGGAGCTAACCGCTTTTTTGCACAACATGGGGGATCATGTAACTCGCCTTGATCGTTGGGAACCGGAGCTGAATGAAGCCATACCAAACGACGAGCGTGACACCACGATGCCTGTAGCAATGGCAACAACGTTGCGCAAACTATTAACTGGCGAACTACTTACTCTAGCTTCCCGGCAACAATTAATAGACTGGATGGAGGCGGATAAAGTTGCAGGACCACTTCTGCGCTCGGCCCTTCCGGCTGGCTGGTTTATTGCTGATAAATCTGGAGCCGGTGAGCGTGGGTCTCGCGGTATCATTGCAGCACTGGGGCCAGATGGTAAGCCCTCCCGTATCGTAGTTATCTACACGACGGGGAGTCAGGCAACTATGGATGAACGAAATAGACAGATCGCTGAGATAGGTGCCTCACTGATTAAGCATTGGTAACTGTCAGACCAAGTTTACTCATATATACTTTAGATTGATTTAAAACTTCATTTTTAATTTAAAAGGATCTAGGTGAAGATCCTTTTTGATAATCTCATGACCAAAATCCCTTAACGTGAGTTTTCGTTCCACTGAGCGTCAGACCCCGTAGAAAAGATCAAAGGATCTTCTTGAGATCCTTTTTTTCTGCGCGTAATCTGCTGCTTGCAAACAAAAAAACCACCGCTACCAGCGGTGGTTTGTTTGCCGGATCAAGAGCTACCAACTCTTTTTCCGAAGGTAACTGGCTTCAGCAGAGCGCAGATACCAAATACTGTCCTTCTAGTGTAGCCGTAGTTAGGCCACCACTTCAAGAACTCTGTAGCACCGCCTACATACCTCGCTCTGCTAATCCTGTTACCAGTGGCTGCTGCCAGTGGCGATAAGTCGTGTCTTACCGGGTTGGACTCAAGACGATAGTTACCGGATAAGGCGCAGCGGTCGGGCTGAACGGGGGGTTCGTGCACACAGCCCAGCTTGGAGCGAACGACCTACACCGAACTGAGATACCTACAGCGTGAGCTATGAGAAAGCGCCACGCTTCCCGAAGGGAGAAAGGCGGACAGGTATCCGGTAAGCGGCAGGGTCGGAACAGGAGAGCGCACGAGGGAGCTTCCAGGGGGAAACGCCTGGTATCTTTATAGTCCTGTCGGGTTTCGCCACCTCTGACTTGAGCGTCGATTTTTGTGATGCTCGTCAGGGGGGCGGAGCCTATGGAAAAACGCCAGCAACGCGGCCTTTTTACGGTTCCTGGCCTTTTGCTGGCCTTTTGCTCACATGTTCTTTCCTGCGTTATCCCCTGATTCTGTGGATAACCGTATTACCGCCTTTGAGTGAGCTGATACCGCTCGCCGCAGCCGAACGACCGAGCGCAGCGAGTCAGTGAGCGAGGAAGCGGAAGAGCGCCCAATACGCAAACCGCCTCTCCCCGCGCGTTGGCCGATTCATTAATGCAGCTGGCACGACAGGTTTCCCGACTGGAAAGCGGGCAGTGAGCGCAACGCAATTAATGTGAGTTAGCTCACTCATTAGGCACCCCAGGCTTTACACTTTATGCTTCCGGCTCGTATGTTGTGTGGAATTGTGAGCGGATAACAATTTCACACAGGAAACAGCTATGACCATGATTACGAATTCGAGCTCGGTACCCGGGGATCCTCTAGAGTCGACCTGCAGGCATGCAAGCTTGGCcatgggttaacggc\n"
     ]
    }
   ],
   "source": [
    "print(pUC18ΔLacZ.seq)"
   ]
  },
  {
   "cell_type": "code",
   "execution_count": 13,
   "metadata": {
    "execution": {
     "iopub.execute_input": "2021-09-18T07:46:40.124207Z",
     "iopub.status.busy": "2021-09-18T07:46:40.123610Z",
     "iopub.status.idle": "2021-09-18T07:46:40.126009Z",
     "shell.execute_reply": "2021-09-18T07:46:40.126361Z"
    }
   },
   "outputs": [
    {
     "data": {
      "text/html": [
       "Amplicon(2190)"
      ],
      "text/plain": [
       "Amplicon(2190)"
      ]
     },
     "execution_count": 13,
     "metadata": {},
     "output_type": "execute_result"
    }
   ],
   "source": [
    "pUC18ΔLacZ"
   ]
  },
  {
   "cell_type": "code",
   "execution_count": 14,
   "metadata": {
    "execution": {
     "iopub.execute_input": "2021-09-18T07:46:40.130105Z",
     "iopub.status.busy": "2021-09-18T07:46:40.129559Z",
     "iopub.status.idle": "2021-09-18T07:46:40.132514Z",
     "shell.execute_reply": "2021-09-18T07:46:40.132962Z"
    }
   },
   "outputs": [
    {
     "data": {
      "text/plain": [
       "LOCUS       2190bp_PCR_prod         2190 bp    DNA     circular UNK 01-JAN-1980\n",
       "DEFINITION  pcr product_pUC18-dLacZ-R_PUC18-dLacZ-F.\n",
       "ACCESSION   2190bp aex7m6hvDvKLhHpCFfeVEhR3YsQ\n",
       "VERSION     2190bp aex7m6hvDvKLhHpCFfeVEhR3YsQ\n",
       "KEYWORDS    .\n",
       "SOURCE      .\n",
       "  ORGANISM  .\n",
       "            .\n",
       "FEATURES             Location/Qualifiers\n",
       "     primer_bind     22..39\n",
       "                     /label=\"pUC18-dLacZ-R\"\n",
       "                     /ApEinfo_fwdcolor=\"#baffa3\"\n",
       "                     /ApEinfo_revcolor=\"#ffbaba\"\n",
       "     primer_bind     complement(2152..2176)\n",
       "                     /label=\"PUC18-dLacZ-F\"\n",
       "                     /ApEinfo_fwdcolor=\"#baffa3\"\n",
       "                     /ApEinfo_revcolor=\"#ffbaba\"\n",
       "ORIGIN\n",
       "        1 ccatatggcc tcgcgacgcg ttatgtatcc gctcatgaga caataaccct gataaatgct\n",
       "       61 tcaataatat tgaaaaagga agagtatgag tattcaacat ttccgtgtcg cccttattcc\n",
       "      121 cttttttgcg gcattttgcc ttcctgtttt tgctcaccca gaaacgctgg tgaaagtaaa\n",
       "      181 agatgctgaa gatcagttgg gtgcacgagt gggttacatc gaactggatc tcaacagcgg\n",
       "      241 taagatcctt gagagttttc gccccgaaga acgttttcca atgatgagca cttttaaagt\n",
       "      301 tctgctatgt ggcgcggtat tatcccgtat tgacgccggg caagagcaac tcggtcgccg\n",
       "      361 catacactat tctcagaatg acttggttga gtactcacca gtcacagaaa agcatcttac\n",
       "      421 ggatggcatg acagtaagag aattatgcag tgctgccata accatgagtg ataacactgc\n",
       "      481 ggccaactta cttctgacaa cgatcggagg accgaaggag ctaaccgctt ttttgcacaa\n",
       "      541 catgggggat catgtaactc gccttgatcg ttgggaaccg gagctgaatg aagccatacc\n",
       "      601 aaacgacgag cgtgacacca cgatgcctgt agcaatggca acaacgttgc gcaaactatt\n",
       "      661 aactggcgaa ctacttactc tagcttcccg gcaacaatta atagactgga tggaggcgga\n",
       "      721 taaagttgca ggaccacttc tgcgctcggc ccttccggct ggctggttta ttgctgataa\n",
       "      781 atctggagcc ggtgagcgtg ggtctcgcgg tatcattgca gcactggggc cagatggtaa\n",
       "      841 gccctcccgt atcgtagtta tctacacgac ggggagtcag gcaactatgg atgaacgaaa\n",
       "      901 tagacagatc gctgagatag gtgcctcact gattaagcat tggtaactgt cagaccaagt\n",
       "      961 ttactcatat atactttaga ttgatttaaa acttcatttt taatttaaaa ggatctaggt\n",
       "     1021 gaagatcctt tttgataatc tcatgaccaa aatcccttaa cgtgagtttt cgttccactg\n",
       "     1081 agcgtcagac cccgtagaaa agatcaaagg atcttcttga gatccttttt ttctgcgcgt\n",
       "     1141 aatctgctgc ttgcaaacaa aaaaaccacc gctaccagcg gtggtttgtt tgccggatca\n",
       "     1201 agagctacca actctttttc cgaaggtaac tggcttcagc agagcgcaga taccaaatac\n",
       "     1261 tgtccttcta gtgtagccgt agttaggcca ccacttcaag aactctgtag caccgcctac\n",
       "     1321 atacctcgct ctgctaatcc tgttaccagt ggctgctgcc agtggcgata agtcgtgtct\n",
       "     1381 taccgggttg gactcaagac gatagttacc ggataaggcg cagcggtcgg gctgaacggg\n",
       "     1441 gggttcgtgc acacagccca gcttggagcg aacgacctac accgaactga gatacctaca\n",
       "     1501 gcgtgagcta tgagaaagcg ccacgcttcc cgaagggaga aaggcggaca ggtatccggt\n",
       "     1561 aagcggcagg gtcggaacag gagagcgcac gagggagctt ccagggggaa acgcctggta\n",
       "     1621 tctttatagt cctgtcgggt ttcgccacct ctgacttgag cgtcgatttt tgtgatgctc\n",
       "     1681 gtcagggggg cggagcctat ggaaaaacgc cagcaacgcg gcctttttac ggttcctggc\n",
       "     1741 cttttgctgg ccttttgctc acatgttctt tcctgcgtta tcccctgatt ctgtggataa\n",
       "     1801 ccgtattacc gcctttgagt gagctgatac cgctcgccgc agccgaacga ccgagcgcag\n",
       "     1861 cgagtcagtg agcgaggaag cggaagagcg cccaatacgc aaaccgcctc tccccgcgcg\n",
       "     1921 ttggccgatt cattaatgca gctggcacga caggtttccc gactggaaag cgggcagtga\n",
       "     1981 gcgcaacgca attaatgtga gttagctcac tcattaggca ccccaggctt tacactttat\n",
       "     2041 gcttccggct cgtatgttgt gtggaattgt gagcggataa caatttcaca caggaaacag\n",
       "     2101 ctatgaccat gattacgaat tcgagctcgg tacccgggga tcctctagag tcgacctgca\n",
       "     2161 ggcatgcaag cttggccatg ggttaacggc\n",
       "//"
      ]
     },
     "execution_count": 14,
     "metadata": {},
     "output_type": "execute_result"
    }
   ],
   "source": [
    "pUC18ΔLacZ.format()"
   ]
  },
  {
   "cell_type": "code",
   "execution_count": 15,
   "metadata": {
    "execution": {
     "iopub.execute_input": "2021-09-18T07:46:40.143002Z",
     "iopub.status.busy": "2021-09-18T07:46:40.140251Z",
     "iopub.status.idle": "2021-09-18T07:46:40.144880Z",
     "shell.execute_reply": "2021-09-18T07:46:40.145361Z"
    }
   },
   "outputs": [],
   "source": [
    "pUCMini1, pUCMini2  = Anneal( (pUCmini_F, PUCmini_R), pUC18ΔLacZ).products"
   ]
  },
  {
   "cell_type": "code",
   "execution_count": 16,
   "metadata": {
    "execution": {
     "iopub.execute_input": "2021-09-18T07:46:40.149991Z",
     "iopub.status.busy": "2021-09-18T07:46:40.149278Z",
     "iopub.status.idle": "2021-09-18T07:46:40.152846Z",
     "shell.execute_reply": "2021-09-18T07:46:40.152352Z"
    }
   },
   "outputs": [
    {
     "data": {
      "text/plain": [
       "(Amplicon(1873), Amplicon(1862))"
      ]
     },
     "execution_count": 16,
     "metadata": {},
     "output_type": "execute_result"
    }
   ],
   "source": [
    "pUCMini1, pUCMini2"
   ]
  },
  {
   "cell_type": "code",
   "execution_count": 17,
   "metadata": {
    "execution": {
     "iopub.execute_input": "2021-09-18T07:46:40.158386Z",
     "iopub.status.busy": "2021-09-18T07:46:40.157607Z",
     "iopub.status.idle": "2021-09-18T07:46:40.160724Z",
     "shell.execute_reply": "2021-09-18T07:46:40.161268Z"
    }
   },
   "outputs": [
    {
     "name": "stdout",
     "output_type": "stream",
     "text": [
      "tagtctcgaggatatcCGAATTCGAGCTCGGTACCCGGGGATCCTCTAGAGTCGACCTGCAGGCATGCAAGCTTGGCcatgggttaacggcccatatggcctcgcgacgcgtTATGTATCCGCTCATGAGACAATAACCCTGATAAATGCTTCAATAATATTGAAAAAGGAAGAGTATGAGTATTCAACATTTCCGTGTCGCCCTTATTCCCTTTTTTGCGGCATTTTGCCTTCCTGTTTTTGCTCACCCAGAAACGCTGGTGAAAGTAAAAGATGCTGAAGATCAGTTGGGTGCACGAGTGGGTTACATCGAACTGGATCTCAACAGCGGTAAGATCCTTGAGAGTTTTCGCCCCGAAGAACGTTTTCCAATGATGAGCACTTTTAAAGTTCTGCTATGTGGCGCGGTATTATCCCGTATTGACGCCGGGCAAGAGCAACTCGGTCGCCGCATACACTATTCTCAGAATGACTTGGTTGAGTACTCACCAGTCACAGAAAAGCATCTTACGGATGGCATGACAGTAAGAGAATTATGCAGTGCTGCCATAACCATGAGTGATAACACTGCGGCCAACTTACTTCTGACAACGATCGGAGGACCGAAGGAGCTAACCGCTTTTTTGCACAACATGGGGGATCATGTAACTCGCCTTGATCGTTGGGAACCGGAGCTGAATGAAGCCATACCAAACGACGAGCGTGACACCACGATGCCTGTAGCAATGGCAACAACGTTGCGCAAACTATTAACTGGCGAACTACTTACTCTAGCTTCCCGGCAACAATTAATAGACTGGATGGAGGCGGATAAAGTTGCAGGACCACTTCTGCGCTCGGCCCTTCCGGCTGGCTGGTTTATTGCTGATAAATCTGGAGCCGGTGAGCGTGGGTCTCGCGGTATCATTGCAGCACTGGGGCCAGATGGTAAGCCCTCCCGTATCGTAGTTATCTACACGACGGGGAGTCAGGCAACTATGGATGAACGAAATAGACAGATCGCTGAGATAGGTGCCTCACTGATTAAGCATTGGTAACTGTCAGACCAAGTTTACTCATATATACTTTAGATTGATTTAAAACTTCATTTTTAATTTAAAAGGATCTAGGTGAAGATCCTTTTTGATAATCTCATGACCAAAATCCCTTAACGTGAGTTTTCGTTCCACTGAGCGTCAGACCCCGTAGAAAAGATCAAAGGATCTTCTTGAGATCCTTTTTTTCTGCGCGTAATCTGCTGCTTGCAAACAAAAAAACCACCGCTACCAGCGGTGGTTTGTTTGCCGGATCAAGAGCTACCAACTCTTTTTCCGAAGGTAACTGGCTTCAGCAGAGCGCAGATACCAAATACTGTCCTTCTAGTGTAGCCGTAGTTAGGCCACCACTTCAAGAACTCTGTAGCACCGCCTACATACCTCGCTCTGCTAATCCTGTTACCAGTGGCTGCTGCCAGTGGCGATAAGTCGTGTCTTACCGGGTTGGACTCAAGACGATAGTTACCGGATAAGGCGCAGCGGTCGGGCTGAACGGGGGGTTCGTGCACACAGCCCAGCTTGGAGCGAACGACCTACACCGAACTGAGATACCTACAGCGTGAGCTATGAGAAAGCGCCACGCTTCCCGAAGGGAGAAAGGCGGACAGGTATCCGGTAAGCGGCAGGGTCGGAACAGGAGAGCGCACGAGGGAGCTTCCAGGGGGAAACGCCTGGTATCTTTATAGTCCTGTCGGGTTTCGCCACCTCTGACTTGAGCGTCGATTTTTGTGATGCTCGTCAGGGGGGCGGAGCCTATGGAAAAACGCCAGCAACGCGGCCTTTTTACGGTTCCTGGCCTTTTGCTGGCCTTTTGCTCACATGTgtttaaacgggcccac\n"
     ]
    }
   ],
   "source": [
    "print(pUCMini1.seq)"
   ]
  },
  {
   "cell_type": "code",
   "execution_count": 18,
   "metadata": {
    "execution": {
     "iopub.execute_input": "2021-09-18T07:46:40.164763Z",
     "iopub.status.busy": "2021-09-18T07:46:40.164276Z",
     "iopub.status.idle": "2021-09-18T07:46:40.166484Z",
     "shell.execute_reply": "2021-09-18T07:46:40.166838Z"
    }
   },
   "outputs": [
    {
     "name": "stdout",
     "output_type": "stream",
     "text": [
      "tagtctcgaggatatcCGAATTCGAGCTCGGTACCCGGGGATCCTCTAGAGTCGACCTGCAGGCATGCAAGCTTGGCcatgggttaacggcccatatggcctcgcgacgcgtTATGTATCCGCTCATGAGACAATAACCCTGATAAATGCTTCAATAATATTGAAAAAGGAAGAGTATGAGTATTCAACATTTCCGTGTCGCCCTTATTCCCTTTTTTGCGGCATTTTGCCTTCCTGTTTTTGCTCACCCAGAAACGCTGGTGAAAGTAAAAGATGCTGAAGATCAGTTGGGTGCACGAGTGGGTTACATCGAACTGGATCTCAACAGCGGTAAGATCCTTGAGAGTTTTCGCCCCGAAGAACGTTTTCCAATGATGAGCACTTTTAAAGTTCTGCTATGTGGCGCGGTATTATCCCGTATTGACGCCGGGCAAGAGCAACTCGGTCGCCGCATACACTATTCTCAGAATGACTTGGTTGAGTACTCACCAGTCACAGAAAAGCATCTTACGGATGGCATGACAGTAAGAGAATTATGCAGTGCTGCCATAACCATGAGTGATAACACTGCGGCCAACTTACTTCTGACAACGATCGGAGGACCGAAGGAGCTAACCGCTTTTTTGCACAACATGGGGGATCATGTAACTCGCCTTGATCGTTGGGAACCGGAGCTGAATGAAGCCATACCAAACGACGAGCGTGACACCACGATGCCTGTAGCAATGGCAACAACGTTGCGCAAACTATTAACTGGCGAACTACTTACTCTAGCTTCCCGGCAACAATTAATAGACTGGATGGAGGCGGATAAAGTTGCAGGACCACTTCTGCGCTCGGCCCTTCCGGCTGGCTGGTTTATTGCTGATAAATCTGGAGCCGGTGAGCGTGGGTCTCGCGGTATCATTGCAGCACTGGGGCCAGATGGTAAGCCCTCCCGTATCGTAGTTATCTACACGACGGGGAGTCAGGCAACTATGGATGAACGAAATAGACAGATCGCTGAGATAGGTGCCTCACTGATTAAGCATTGGTAACTGTCAGACCAAGTTTACTCATATATACTTTAGATTGATTTAAAACTTCATTTTTAATTTAAAAGGATCTAGGTGAAGATCCTTTTTGATAATCTCATGACCAAAATCCCTTAACGTGAGTTTTCGTTCCACTGAGCGTCAGACCCCGTAGAAAAGATCAAAGGATCTTCTTGAGATCCTTTTTTTCTGCGCGTAATCTGCTGCTTGCAAACAAAAAAACCACCGCTACCAGCGGTGGTTTGTTTGCCGGATCAAGAGCTACCAACTCTTTTTCCGAAGGTAACTGGCTTCAGCAGAGCGCAGATACCAAATACTGTCCTTCTAGTGTAGCCGTAGTTAGGCCACCACTTCAAGAACTCTGTAGCACCGCCTACATACCTCGCTCTGCTAATCCTGTTACCAGTGGCTGCTGCCAGTGGCGATAAGTCGTGTCTTACCGGGTTGGACTCAAGACGATAGTTACCGGATAAGGCGCAGCGGTCGGGCTGAACGGGGGGTTCGTGCACACAGCCCAGCTTGGAGCGAACGACCTACACCGAACTGAGATACCTACAGCGTGAGCTATGAGAAAGCGCCACGCTTCCCGAAGGGAGAAAGGCGGACAGGTATCCGGTAAGCGGCAGGGTCGGAACAGGAGAGCGCACGAGGGAGCTTCCAGGGGGAAACGCCTGGTATCTTTATAGTCCTGTCGGGTTTCGCCACCTCTGACTTGAGCGTCGATTTTTGTGATGCTCGTCAGGGGGGCGGAGCCTATGGAAAAACGCCAGCAACGCGGCCTTTTTACGGTTCCTGGCCTTTTGCTcacatgtgtttaaacgggcccac\n"
     ]
    }
   ],
   "source": [
    "print(pUCMini2.seq)"
   ]
  },
  {
   "cell_type": "code",
   "execution_count": 19,
   "metadata": {
    "execution": {
     "iopub.execute_input": "2021-09-18T07:46:40.171243Z",
     "iopub.status.busy": "2021-09-18T07:46:40.170419Z",
     "iopub.status.idle": "2021-09-18T07:46:40.174264Z",
     "shell.execute_reply": "2021-09-18T07:46:40.174861Z"
    }
   },
   "outputs": [
    {
     "data": {
      "text/plain": [
       "                5cgaattcgagctcggtac...ctggccttttgctcacatgt3\n",
       "                                      ||||||||||||||||||||\n",
       "                                     3gaccggaaaacgagtgtacacaaatttgcccgggtg5\n",
       "5tagtctcgaggatatccgaattcgagctcggtac3\n",
       "                 ||||||||||||||||||\n",
       "                3gcttaagctcgagccatg...gaccggaaaacgagtgtaca5"
      ]
     },
     "execution_count": 19,
     "metadata": {},
     "output_type": "execute_result"
    }
   ],
   "source": [
    "pUCMini1.figure()"
   ]
  },
  {
   "cell_type": "code",
   "execution_count": 20,
   "metadata": {
    "execution": {
     "iopub.execute_input": "2021-09-18T07:46:40.180341Z",
     "iopub.status.busy": "2021-09-18T07:46:40.179551Z",
     "iopub.status.idle": "2021-09-18T07:46:40.182861Z",
     "shell.execute_reply": "2021-09-18T07:46:40.183290Z"
    }
   },
   "outputs": [
    {
     "data": {
      "text/plain": [
       "                5cgaattcgagctcggtac...ctggccttttgct3\n",
       "                                      |||||||||||||\n",
       "                                     3gaccggaaaacgagtgtacacaaatttgcccgggtg5\n",
       "5tagtctcgaggatatccgaattcgagctcggtac3\n",
       "                 ||||||||||||||||||\n",
       "                3gcttaagctcgagccatg...gaccggaaaacga5"
      ]
     },
     "execution_count": 20,
     "metadata": {},
     "output_type": "execute_result"
    }
   ],
   "source": [
    "pUCMini2.figure()"
   ]
  },
  {
   "cell_type": "markdown",
   "metadata": {},
   "source": [
    "The reverse primer can anneal in two locations creating two distinct PCR products.\n",
    "pUCMini1 is probably the expected one, the pUCMini2 has a very short annealing footprint for the reverse primer."
   ]
  },
  {
   "cell_type": "code",
   "execution_count": 21,
   "metadata": {
    "execution": {
     "iopub.execute_input": "2021-09-18T07:46:40.187563Z",
     "iopub.status.busy": "2021-09-18T07:46:40.186980Z",
     "iopub.status.idle": "2021-09-18T07:46:40.189551Z",
     "shell.execute_reply": "2021-09-18T07:46:40.188947Z"
    }
   },
   "outputs": [],
   "source": [
    "pUCMini = pUCMini1.looped()"
   ]
  },
  {
   "cell_type": "code",
   "execution_count": 22,
   "metadata": {
    "execution": {
     "iopub.execute_input": "2021-09-18T07:46:40.200636Z",
     "iopub.status.busy": "2021-09-18T07:46:40.199739Z",
     "iopub.status.idle": "2021-09-18T07:46:40.201924Z",
     "shell.execute_reply": "2021-09-18T07:46:40.202366Z"
    }
   },
   "outputs": [],
   "source": [
    "rxn3 = pcr( pUCmu_F, pUCmu_R, pUCMini).looped()"
   ]
  },
  {
   "cell_type": "code",
   "execution_count": 23,
   "metadata": {
    "execution": {
     "iopub.execute_input": "2021-09-18T07:46:40.206052Z",
     "iopub.status.busy": "2021-09-18T07:46:40.205483Z",
     "iopub.status.idle": "2021-09-18T07:46:40.207838Z",
     "shell.execute_reply": "2021-09-18T07:46:40.208191Z"
    }
   },
   "outputs": [
    {
     "data": {
      "text/html": [
       "Amplicon(1726)"
      ],
      "text/plain": [
       "Amplicon(1726)"
      ]
     },
     "execution_count": 23,
     "metadata": {},
     "output_type": "execute_result"
    }
   ],
   "source": [
    "rxn3"
   ]
  },
  {
   "cell_type": "code",
   "execution_count": 24,
   "metadata": {
    "execution": {
     "iopub.execute_input": "2021-09-18T07:46:40.212891Z",
     "iopub.status.busy": "2021-09-18T07:46:40.212068Z",
     "iopub.status.idle": "2021-09-18T07:46:40.215216Z",
     "shell.execute_reply": "2021-09-18T07:46:40.215779Z"
    }
   },
   "outputs": [
    {
     "name": "stdout",
     "output_type": "stream",
     "text": [
      "aGTAGAAAAGATCAAAGGATCTTCTTGAGATCCTTTTTTTCTGCGCGTAATCTGCTGCTTGCAAACAAAAAAACCACCGCTACCAGCGGTGGTTTGTTTGCCGGATCAAGAGCTACCAACTCTTTTTCCGAAGGTAACTGGCTTCAGCAGAGCGCAGATACCAAATACTGTCCTTCTAGTGTAGCCGTAGTTAGGCCACCACTTCAAGAACTCTGTAGCACCGCCTACATACCTCGCTCTGCTAATCCTGTTACCAGTGGCTGCTGCCAGTGGCGATAAGTCGTGTCTTACCGGGTTGGACTCAAGACGATAGTTACCGGATAAGGCGCAGCGGTCGGGCTGAACGGGGGGTTCGTGCACACAGCCCAGCTTGGAGCGAACGACCTACACCGAACTGAGATACCTACAGCGTGAGCTATGAGAAAGCGCCACGCTTCCCGAAGGGAGAAAGGCGGACAGGTATCCGGTAAGCGGCAGGGTCGGAACAGGAGAGCGCACGAGGGAGCTTCCAGGGGGAAACGCCTGGTATCTTTATAGTCCTGTCGGGTTTCGCCACCTCTGACTTGAGCGTCGATTTTTGTGATGCTCGTCAGGGGGGCGGAGCCTATGGAAAAACGCCAGCAACGCGGCCTTTTTACGGTTCCTGGCCTTTTGCTGGCCTTTTGCTCACATGTgtttaaacgggcccactagtctcgaggatatcCGAATTCGAGCTCGGTACCCGGGGATCCTCTAGAGTCGACCTGCAGGCATGCAAGCTTGGCcatgggttaacggcccatatggcctcgcgacgcgtTATGTATCCGCTCATGAGACAATAACCCTGATAAATGCTTCAATAATATTGAAAAAGGAAGAGTATGAGTATTCAACATTTCCGTGTCGCCCTTATTCCCTTTTTTGCGGCATTTTGCCTTCCTGTTTTTGCTCACCCAGAAACGCTGGTGAAAGTAAAAGATGCTGAAGATCAGTTGGGTGCACGAGTGGGTTACATCGAACTGGATCTCAACAGCGGTAAGATCCTTGAGAGTTTTCGCCCCGAAGAACGTTTTCCAATGATGAGCACTTTTAAAGTTCTGCTATGTGGCGCGGTATTATCCCGTATTGACGCCGGGCAAGAGCAACTCGGTCGCCGCATACACTATTCTCAGAATGACTTGGTTGAGTACTCACCAGTCACAGAAAAGCATCTTACGGATGGCATGACAGTAAGAGAATTATGCAGTGCTGCCATAACCATGAGTGATAACACTGCGGCCAACTTACTTCTGACAACGATCGGAGGACCGAAGGAGCTAACCGCTTTTTTGCACAACATGGGGGATCATGTAACTCGCCTTGATCGTTGGGAACCGGAGCTGAATGAAGCCATACCAAACGACGAGCGTGACACCACGATGCCTGTAGCAATGGCAACAACGTTGCGCAAACTATTAACTGGCGAACTACTTACTCTAGCTTCCCGGCAACAATTAATAGACTGGATGGAGGCGGATAAAGTTGCAGGACCACTTCTGCGCTCGGCCCTTCCGGCTGGCTGGTTTATTGCTGATAAATCTGGAGCCGGTGAGCGTGGGTCTCGCGGTATCATTGCAGCACTGGGGCCAGATGGTAAGCCCTCCCGTATCGTAGTTATCTACACGACGGGGAGTCAGGCAACTATGGATGAACGAAATAGACAGATCGCTGAGATAGGTGCCTCACTGATTAAGCATTGGTA\n"
     ]
    }
   ],
   "source": [
    "print(rxn3.seq)"
   ]
  },
  {
   "cell_type": "code",
   "execution_count": 25,
   "metadata": {
    "execution": {
     "iopub.execute_input": "2021-09-18T07:46:40.229135Z",
     "iopub.status.busy": "2021-09-18T07:46:40.228161Z",
     "iopub.status.idle": "2021-09-18T07:46:40.232892Z",
     "shell.execute_reply": "2021-09-18T07:46:40.234092Z"
    }
   },
   "outputs": [],
   "source": [
    "rxn4 = pcr(   pUcReFix_F, pUcReFix_R, rxn3)"
   ]
  },
  {
   "cell_type": "code",
   "execution_count": 26,
   "metadata": {
    "execution": {
     "iopub.execute_input": "2021-09-18T07:46:40.241807Z",
     "iopub.status.busy": "2021-09-18T07:46:40.241034Z",
     "iopub.status.idle": "2021-09-18T07:46:40.244194Z",
     "shell.execute_reply": "2021-09-18T07:46:40.245483Z"
    }
   },
   "outputs": [
    {
     "name": "stdout",
     "output_type": "stream",
     "text": [
      "ctaatctcgaggatatccgaattcgagctcggtacccGGGATCCTCTAGAGTCGACCTGCAGGCATGCAAGCTTGGCcatgggttaacggcccatatggcctcgcgacgcgtTATGTATCCGCTCATGAGACAATAACCCTGATAAATGCTTCAATAATATTGAAAAAGGAAGAGTATGAGTATTCAACATTTCCGTGTCGCCCTTATTCCCTTTTTTGCGGCATTTTGCCTTCCTGTTTTTGCTCACCCAGAAACGCTGGTGAAAGTAAAAGATGCTGAAGATCAGTTGGGTGCACGAGTGGGTTACATCGAACTGGATCTCAACAGCGGTAAGATCCTTGAGAGTTTTCGCCCCGAAGAACGTTTTCCAATGATGAGCACTTTTAAAGTTCTGCTATGTGGCGCGGTATTATCCCGTATTGACGCCGGGCAAGAGCAACTCGGTCGCCGCATACACTATTCTCAGAATGACTTGGTTGAGTACTCACCAGTCACAGAAAAGCATCTTACGGATGGCATGACAGTAAGAGAATTATGCAGTGCTGCCATAACCATGAGTGATAACACTGCGGCCAACTTACTTCTGACAACGATCGGAGGACCGAAGGAGCTAACCGCTTTTTTGCACAACATGGGGGATCATGTAACTCGCCTTGATCGTTGGGAACCGGAGCTGAATGAAGCCATACCAAACGACGAGCGTGACACCACGATGCCTGTAGCAATGGCAACAACGTTGCGCAAACTATTAACTGGCGAACTACTTACTCTAGCTTCCCGGCAACAATTAATAGACTGGATGGAGGCGGATAAAGTTGCAGGACCACTTCTGCGCTCGGCCCTTCCGGCTGGCTGGTTTATTGCTGATAAATCTGGAGCCGGTGAGCGTGGGTCTCGCGGTATCATTGCAGCACTGGGGCCAGATGGTAAGCCCTCCCGTATCGTAGTTATCTACACGACGGGGAGTCAGGCAACTATGGATGAACGAAATAGACAGATCGCTGAGATAGGTGCCTCACTGATTAAGCATTGGTAaGTAGAAAAGATCAAAGGATCTTCTTGAGATCCTTTTTTTCTGCGCGTAATCTGCTGCTTGCAAACAAAAAAACCACCGCTACCAGCGGTGGTTTGTTTGCCGGATCAAGAGCTACCAACTCTTTTTCCGAAGGTAACTGGCTTCAGCAGAGCGCAGATACCAAATACTGTCCTTCTAGTGTAGCCGTAGTTAGGCCACCACTTCAAGAACTCTGTAGCACCGCCTACATACCTCGCTCTGCTAATCCTGTTACCAGTGGCTGCTGCCAGTGGCGATAAGTCGTGTCTTACCGGGTTGGACTCAAGACGATAGTTACCGGATAAGGCGCAGCGGTCGGGCTGAACGGGGGGTTCGTGCACACAGCCCAGCTTGGAGCGAACGACCTACACCGAACTGAGATACCTACAGCGTGAGCTATGAGAAAGCGCCACGCTTCCCGAAGGGAGAAAGGCGGACAGGTATCCGGTAAGCGGCAGGGTCGGAACAGGAGAGCGCACGAGGGAGCTTCCAGGGGGAAACGCCTGGTATCTTTATAGTCCTGTCGGGTTTCGCCACCTCTGACTTGAGCGTCGATTTTTGTGATGCTCGTCAGGGGGGCGGAGCCTATGGAAAAACacatgtgtttaaacgggcccactagtctcgagctaat\n"
     ]
    }
   ],
   "source": [
    "print(rxn4.seq)"
   ]
  },
  {
   "cell_type": "markdown",
   "metadata": {},
   "source": [
    "I guessed that the restriction enzyme used is XhoI? I do not think it is mentioned in the paper."
   ]
  },
  {
   "cell_type": "code",
   "execution_count": 27,
   "metadata": {
    "execution": {
     "iopub.execute_input": "2021-09-18T07:46:40.252849Z",
     "iopub.status.busy": "2021-09-18T07:46:40.251982Z",
     "iopub.status.idle": "2021-09-18T07:46:40.254918Z",
     "shell.execute_reply": "2021-09-18T07:46:40.255423Z"
    }
   },
   "outputs": [],
   "source": [
    "from Bio.Restriction import XhoI"
   ]
  },
  {
   "cell_type": "code",
   "execution_count": 28,
   "metadata": {
    "execution": {
     "iopub.execute_input": "2021-09-18T07:46:40.262989Z",
     "iopub.status.busy": "2021-09-18T07:46:40.261562Z",
     "iopub.status.idle": "2021-09-18T07:46:40.264956Z",
     "shell.execute_reply": "2021-09-18T07:46:40.265525Z"
    }
   },
   "outputs": [],
   "source": [
    "stuffer1, backbone, stuffer2 = rxn4.cut(XhoI)"
   ]
  },
  {
   "cell_type": "code",
   "execution_count": 29,
   "metadata": {
    "execution": {
     "iopub.execute_input": "2021-09-18T07:46:40.272208Z",
     "iopub.status.busy": "2021-09-18T07:46:40.271622Z",
     "iopub.status.idle": "2021-09-18T07:46:40.275251Z",
     "shell.execute_reply": "2021-09-18T07:46:40.274503Z"
    }
   },
   "outputs": [
    {
     "data": {
      "text/plain": [
       "(Dseqrecord(-10), Dseqrecord(-10))"
      ]
     },
     "execution_count": 29,
     "metadata": {},
     "output_type": "execute_result"
    }
   ],
   "source": [
    "stuffer1, stuffer2"
   ]
  },
  {
   "cell_type": "code",
   "execution_count": 30,
   "metadata": {
    "execution": {
     "iopub.execute_input": "2021-09-18T07:46:40.362256Z",
     "iopub.status.busy": "2021-09-18T07:46:40.321684Z",
     "iopub.status.idle": "2021-09-18T07:46:40.377629Z",
     "shell.execute_reply": "2021-09-18T07:46:40.376967Z"
    }
   },
   "outputs": [],
   "source": [
    "pUCMu = backbone.looped().synced(\"acgcgtcgcgaggccatatgggccgtt\")"
   ]
  },
  {
   "cell_type": "code",
   "execution_count": 31,
   "metadata": {
    "execution": {
     "iopub.execute_input": "2021-09-18T07:46:40.381996Z",
     "iopub.status.busy": "2021-09-18T07:46:40.381410Z",
     "iopub.status.idle": "2021-09-18T07:46:40.385102Z",
     "shell.execute_reply": "2021-09-18T07:46:40.384475Z"
    }
   },
   "outputs": [
    {
     "data": {
      "text/plain": [
       "Dseqrecord(o1673)"
      ]
     },
     "execution_count": 31,
     "metadata": {},
     "output_type": "execute_result"
    }
   ],
   "source": [
    "pUCMu"
   ]
  },
  {
   "cell_type": "code",
   "execution_count": 32,
   "metadata": {
    "execution": {
     "iopub.execute_input": "2021-09-18T07:46:40.390038Z",
     "iopub.status.busy": "2021-09-18T07:46:40.389305Z",
     "iopub.status.idle": "2021-09-18T07:46:40.391738Z",
     "shell.execute_reply": "2021-09-18T07:46:40.392319Z"
    }
   },
   "outputs": [],
   "source": [
    "pUCMu.locus = \"pUCmu_asm\""
   ]
  },
  {
   "cell_type": "code",
   "execution_count": 33,
   "metadata": {
    "execution": {
     "iopub.execute_input": "2021-09-18T07:46:40.398209Z",
     "iopub.status.busy": "2021-09-18T07:46:40.397278Z",
     "iopub.status.idle": "2021-09-18T07:46:40.404122Z",
     "shell.execute_reply": "2021-09-18T07:46:40.403620Z"
    }
   },
   "outputs": [
    {
     "data": {
      "text/html": [
       "<font face=monospace><a href='pUCmu_assembeled.gb' target='_blank'>pUCmu_assembeled.gb</a></font><br>"
      ]
     },
     "metadata": {},
     "output_type": "display_data"
    }
   ],
   "source": [
    "pUCMu.write(\"pUCmu_assembeled.gb\")"
   ]
  }
 ],
 "metadata": {
  "anaconda-cloud": {},
  "kernelspec": {
   "display_name": "Python [conda env:bjorn37]",
   "language": "python",
   "name": "conda-env-bjorn37-py"
  },
  "language_info": {
   "codemirror_mode": {
    "name": "ipython",
    "version": 3
   },
   "file_extension": ".py",
   "mimetype": "text/x-python",
   "name": "python",
   "nbconvert_exporter": "python",
   "pygments_lexer": "ipython3",
   "version": "3.9.7"
  }
 },
 "nbformat": 4,
 "nbformat_minor": 4
}
