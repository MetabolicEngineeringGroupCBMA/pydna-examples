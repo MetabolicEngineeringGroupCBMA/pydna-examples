from pydna.parsers import parse_primers


primer_text = """
>PUC18-dLacZ-F
gccgttaacccatggccaagcttgcatgcctgcaggtcg 
>pUC18-dLacZ-R
ccatatggcctcgcgacgcgttatgtatccgctcatgag
>pUCmini-F
gtgggcccgtttaaacacatgtgagcaaaaggccag
>PUCmini-R
tagtctcgaggatatccgaattcgagctcggtac
>pUCmu-F
taccaatgcttaatcagtgaggca
>pUCmu-R
agtagaaaagatcaaaggatcttct
>pUcReFix-F
attagctcgagactagtgggcccgtttaaacacatgtgtttttccataggctccg
>pUcReFix-R
ctaatctcgaggatatccgaattcgagctcggtacccgggatcctctagagtcgacctg
>pICOz-dAMP-F
ttcgtggccgaggagcaggactgacgtagaaaagatcaaaggatctt
>pICOz-dAMP-R
aacggcactggtcaacttggccatactcttcctttttcaatattat
>PICOz-Zeo-F
ataatattgaaaaaggaagagtatggccaagttgaccagtgccgtt
>pICOz-Zeo-R
aagatcctttgatcttttctacgtcagtcctgctcctcggccacgaa"""


primers = parse_primers(primer_text)


(PUC18_dLacZ_F,
 pUC18_dLacZ_R,
 pUCmini_F,
 PUCmini_R,
 pUCmu_F,
 pUCmu_R,
 pUcReFix_F,
 pUcReFix_R,
 pICOz_dAMP_F,
 pICOz_dAMP_R,
 PICOz_Zeo_F,
 pICOz_Zeo_R) = primers


from pydna.genbank import Genbank


genbank = Genbank("bjornjobb@gmail.com").nucleotide


pUC18 = genbank("L08752.1")


pUC18


pUC18.write("pUC18.gb")


from pydna.amplify import pcr, Anneal


pUC18ΔLacZ = pcr(PUC18_dLacZ_F, pUC18_dLacZ_R, pUC18).looped()


print(pUC18ΔLacZ.seq)


pUC18ΔLacZ


pUC18ΔLacZ.format()


pUCMini1, pUCMini2  = Anneal( (pUCmini_F, PUCmini_R), pUC18ΔLacZ).products


pUCMini1, pUCMini2


print(pUCMini1.seq)


print(pUCMini2.seq)


pUCMini1.figure()


pUCMini2.figure()





pUCMini = pUCMini1.looped()


rxn3 = pcr( pUCmu_F, pUCmu_R, pUCMini).looped()


rxn3


print(rxn3.seq)


rxn4 = pcr(   pUcReFix_F, pUcReFix_R, rxn3)


print(rxn4.seq)





from Bio.Restriction import XhoI


stuffer1, backbone, stuffer2 = rxn4.cut(XhoI)


stuffer1, stuffer2


pUCMu = backbone.looped().synced("acgcgtcgcgaggccatatgggccgtt")


pUCMu


pUCMu.locus = "pUCmu_asm"


pUCMu.write("pUCmu_assembled.gb")
